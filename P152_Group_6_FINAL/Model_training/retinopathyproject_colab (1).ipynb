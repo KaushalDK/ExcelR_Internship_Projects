{
  "cells": [
    {
      "cell_type": "code",
      "execution_count": null,
      "metadata": {
        "id": "pvNunRcLNPl7"
      },
      "outputs": [],
      "source": [
        "#importing Libraries\n",
        "import pandas as pd\n",
        "import numpy as np\n",
        "import matplotlib.pyplot as plt\n",
        "import seaborn as sns\n",
        "from sklearn.preprocessing import LabelEncoder\n",
        "%matplotlib inline"
      ]
    },
    {
      "cell_type": "code",
      "execution_count": null,
      "metadata": {
        "id": "B2kRFsNxODKb"
      },
      "outputs": [],
      "source": [
        "#reading the dataset\n",
        "df=pd.read_csv(\"/content/pronostico_dataset.csv\" , sep=';')"
      ]
    },
    {
      "cell_type": "code",
      "execution_count": null,
      "metadata": {
        "colab": {
          "base_uri": "https://localhost:8080/",
          "height": 206
        },
        "id": "A2LfyhSxOfC2",
        "outputId": "e90e31c2-55f4-4fa0-9321-3526bbcfe3f4"
      },
      "outputs": [
        {
          "output_type": "execute_result",
          "data": {
            "text/plain": [
              "   ID        age  systolic_bp  diastolic_bp  cholesterol    prognosis\n",
              "0   0  77.196340    85.288742     80.021878    79.957109  retinopathy\n",
              "1   1  63.529850    99.379736     84.852361   110.382411  retinopathy\n",
              "2   2  69.003986   111.349455    109.850616   100.828246  retinopathy\n",
              "3   3  82.638210    95.056128     79.666851    87.066303  retinopathy\n",
              "4   4  78.346286   109.154591     90.713220    92.511770  retinopathy"
            ],
            "text/html": [
              "\n",
              "  <div id=\"df-9f2856d8-50f0-480d-966c-1c552260a46e\">\n",
              "    <div class=\"colab-df-container\">\n",
              "      <div>\n",
              "<style scoped>\n",
              "    .dataframe tbody tr th:only-of-type {\n",
              "        vertical-align: middle;\n",
              "    }\n",
              "\n",
              "    .dataframe tbody tr th {\n",
              "        vertical-align: top;\n",
              "    }\n",
              "\n",
              "    .dataframe thead th {\n",
              "        text-align: right;\n",
              "    }\n",
              "</style>\n",
              "<table border=\"1\" class=\"dataframe\">\n",
              "  <thead>\n",
              "    <tr style=\"text-align: right;\">\n",
              "      <th></th>\n",
              "      <th>ID</th>\n",
              "      <th>age</th>\n",
              "      <th>systolic_bp</th>\n",
              "      <th>diastolic_bp</th>\n",
              "      <th>cholesterol</th>\n",
              "      <th>prognosis</th>\n",
              "    </tr>\n",
              "  </thead>\n",
              "  <tbody>\n",
              "    <tr>\n",
              "      <th>0</th>\n",
              "      <td>0</td>\n",
              "      <td>77.196340</td>\n",
              "      <td>85.288742</td>\n",
              "      <td>80.021878</td>\n",
              "      <td>79.957109</td>\n",
              "      <td>retinopathy</td>\n",
              "    </tr>\n",
              "    <tr>\n",
              "      <th>1</th>\n",
              "      <td>1</td>\n",
              "      <td>63.529850</td>\n",
              "      <td>99.379736</td>\n",
              "      <td>84.852361</td>\n",
              "      <td>110.382411</td>\n",
              "      <td>retinopathy</td>\n",
              "    </tr>\n",
              "    <tr>\n",
              "      <th>2</th>\n",
              "      <td>2</td>\n",
              "      <td>69.003986</td>\n",
              "      <td>111.349455</td>\n",
              "      <td>109.850616</td>\n",
              "      <td>100.828246</td>\n",
              "      <td>retinopathy</td>\n",
              "    </tr>\n",
              "    <tr>\n",
              "      <th>3</th>\n",
              "      <td>3</td>\n",
              "      <td>82.638210</td>\n",
              "      <td>95.056128</td>\n",
              "      <td>79.666851</td>\n",
              "      <td>87.066303</td>\n",
              "      <td>retinopathy</td>\n",
              "    </tr>\n",
              "    <tr>\n",
              "      <th>4</th>\n",
              "      <td>4</td>\n",
              "      <td>78.346286</td>\n",
              "      <td>109.154591</td>\n",
              "      <td>90.713220</td>\n",
              "      <td>92.511770</td>\n",
              "      <td>retinopathy</td>\n",
              "    </tr>\n",
              "  </tbody>\n",
              "</table>\n",
              "</div>\n",
              "      <button class=\"colab-df-convert\" onclick=\"convertToInteractive('df-9f2856d8-50f0-480d-966c-1c552260a46e')\"\n",
              "              title=\"Convert this dataframe to an interactive table.\"\n",
              "              style=\"display:none;\">\n",
              "        \n",
              "  <svg xmlns=\"http://www.w3.org/2000/svg\" height=\"24px\"viewBox=\"0 0 24 24\"\n",
              "       width=\"24px\">\n",
              "    <path d=\"M0 0h24v24H0V0z\" fill=\"none\"/>\n",
              "    <path d=\"M18.56 5.44l.94 2.06.94-2.06 2.06-.94-2.06-.94-.94-2.06-.94 2.06-2.06.94zm-11 1L8.5 8.5l.94-2.06 2.06-.94-2.06-.94L8.5 2.5l-.94 2.06-2.06.94zm10 10l.94 2.06.94-2.06 2.06-.94-2.06-.94-.94-2.06-.94 2.06-2.06.94z\"/><path d=\"M17.41 7.96l-1.37-1.37c-.4-.4-.92-.59-1.43-.59-.52 0-1.04.2-1.43.59L10.3 9.45l-7.72 7.72c-.78.78-.78 2.05 0 2.83L4 21.41c.39.39.9.59 1.41.59.51 0 1.02-.2 1.41-.59l7.78-7.78 2.81-2.81c.8-.78.8-2.07 0-2.86zM5.41 20L4 18.59l7.72-7.72 1.47 1.35L5.41 20z\"/>\n",
              "  </svg>\n",
              "      </button>\n",
              "      \n",
              "  <style>\n",
              "    .colab-df-container {\n",
              "      display:flex;\n",
              "      flex-wrap:wrap;\n",
              "      gap: 12px;\n",
              "    }\n",
              "\n",
              "    .colab-df-convert {\n",
              "      background-color: #E8F0FE;\n",
              "      border: none;\n",
              "      border-radius: 50%;\n",
              "      cursor: pointer;\n",
              "      display: none;\n",
              "      fill: #1967D2;\n",
              "      height: 32px;\n",
              "      padding: 0 0 0 0;\n",
              "      width: 32px;\n",
              "    }\n",
              "\n",
              "    .colab-df-convert:hover {\n",
              "      background-color: #E2EBFA;\n",
              "      box-shadow: 0px 1px 2px rgba(60, 64, 67, 0.3), 0px 1px 3px 1px rgba(60, 64, 67, 0.15);\n",
              "      fill: #174EA6;\n",
              "    }\n",
              "\n",
              "    [theme=dark] .colab-df-convert {\n",
              "      background-color: #3B4455;\n",
              "      fill: #D2E3FC;\n",
              "    }\n",
              "\n",
              "    [theme=dark] .colab-df-convert:hover {\n",
              "      background-color: #434B5C;\n",
              "      box-shadow: 0px 1px 3px 1px rgba(0, 0, 0, 0.15);\n",
              "      filter: drop-shadow(0px 1px 2px rgba(0, 0, 0, 0.3));\n",
              "      fill: #FFFFFF;\n",
              "    }\n",
              "  </style>\n",
              "\n",
              "      <script>\n",
              "        const buttonEl =\n",
              "          document.querySelector('#df-9f2856d8-50f0-480d-966c-1c552260a46e button.colab-df-convert');\n",
              "        buttonEl.style.display =\n",
              "          google.colab.kernel.accessAllowed ? 'block' : 'none';\n",
              "\n",
              "        async function convertToInteractive(key) {\n",
              "          const element = document.querySelector('#df-9f2856d8-50f0-480d-966c-1c552260a46e');\n",
              "          const dataTable =\n",
              "            await google.colab.kernel.invokeFunction('convertToInteractive',\n",
              "                                                     [key], {});\n",
              "          if (!dataTable) return;\n",
              "\n",
              "          const docLinkHtml = 'Like what you see? Visit the ' +\n",
              "            '<a target=\"_blank\" href=https://colab.research.google.com/notebooks/data_table.ipynb>data table notebook</a>'\n",
              "            + ' to learn more about interactive tables.';\n",
              "          element.innerHTML = '';\n",
              "          dataTable['output_type'] = 'display_data';\n",
              "          await google.colab.output.renderOutput(dataTable, element);\n",
              "          const docLink = document.createElement('div');\n",
              "          docLink.innerHTML = docLinkHtml;\n",
              "          element.appendChild(docLink);\n",
              "        }\n",
              "      </script>\n",
              "    </div>\n",
              "  </div>\n",
              "  "
            ]
          },
          "metadata": {},
          "execution_count": 4
        }
      ],
      "source": [
        "#Viewwing head of data set\n",
        "df.head()"
      ]
    },
    {
      "cell_type": "code",
      "execution_count": null,
      "metadata": {
        "id": "vG9_IJ-Sgs98"
      },
      "outputs": [],
      "source": [
        "df[\"age\"]=df[\"age\"].astype(int)"
      ]
    },
    {
      "cell_type": "code",
      "execution_count": null,
      "metadata": {
        "id": "nlhoS4KPhBIv"
      },
      "outputs": [],
      "source": [
        "df=df.drop('ID' , axis=1)"
      ]
    },
    {
      "cell_type": "code",
      "execution_count": null,
      "metadata": {
        "colab": {
          "base_uri": "https://localhost:8080/",
          "height": 206
        },
        "id": "UbvcmCR2gyPn",
        "outputId": "a6de0a85-80c0-47a1-9cc0-7af437a756b7"
      },
      "outputs": [
        {
          "output_type": "execute_result",
          "data": {
            "text/plain": [
              "   age  systolic_bp  diastolic_bp  cholesterol    prognosis\n",
              "0   77    85.288742     80.021878    79.957109  retinopathy\n",
              "1   63    99.379736     84.852361   110.382411  retinopathy\n",
              "2   69   111.349455    109.850616   100.828246  retinopathy\n",
              "3   82    95.056128     79.666851    87.066303  retinopathy\n",
              "4   78   109.154591     90.713220    92.511770  retinopathy"
            ],
            "text/html": [
              "\n",
              "  <div id=\"df-abd8a9cf-f1b8-4e33-ac23-9faaa81f1d8a\">\n",
              "    <div class=\"colab-df-container\">\n",
              "      <div>\n",
              "<style scoped>\n",
              "    .dataframe tbody tr th:only-of-type {\n",
              "        vertical-align: middle;\n",
              "    }\n",
              "\n",
              "    .dataframe tbody tr th {\n",
              "        vertical-align: top;\n",
              "    }\n",
              "\n",
              "    .dataframe thead th {\n",
              "        text-align: right;\n",
              "    }\n",
              "</style>\n",
              "<table border=\"1\" class=\"dataframe\">\n",
              "  <thead>\n",
              "    <tr style=\"text-align: right;\">\n",
              "      <th></th>\n",
              "      <th>age</th>\n",
              "      <th>systolic_bp</th>\n",
              "      <th>diastolic_bp</th>\n",
              "      <th>cholesterol</th>\n",
              "      <th>prognosis</th>\n",
              "    </tr>\n",
              "  </thead>\n",
              "  <tbody>\n",
              "    <tr>\n",
              "      <th>0</th>\n",
              "      <td>77</td>\n",
              "      <td>85.288742</td>\n",
              "      <td>80.021878</td>\n",
              "      <td>79.957109</td>\n",
              "      <td>retinopathy</td>\n",
              "    </tr>\n",
              "    <tr>\n",
              "      <th>1</th>\n",
              "      <td>63</td>\n",
              "      <td>99.379736</td>\n",
              "      <td>84.852361</td>\n",
              "      <td>110.382411</td>\n",
              "      <td>retinopathy</td>\n",
              "    </tr>\n",
              "    <tr>\n",
              "      <th>2</th>\n",
              "      <td>69</td>\n",
              "      <td>111.349455</td>\n",
              "      <td>109.850616</td>\n",
              "      <td>100.828246</td>\n",
              "      <td>retinopathy</td>\n",
              "    </tr>\n",
              "    <tr>\n",
              "      <th>3</th>\n",
              "      <td>82</td>\n",
              "      <td>95.056128</td>\n",
              "      <td>79.666851</td>\n",
              "      <td>87.066303</td>\n",
              "      <td>retinopathy</td>\n",
              "    </tr>\n",
              "    <tr>\n",
              "      <th>4</th>\n",
              "      <td>78</td>\n",
              "      <td>109.154591</td>\n",
              "      <td>90.713220</td>\n",
              "      <td>92.511770</td>\n",
              "      <td>retinopathy</td>\n",
              "    </tr>\n",
              "  </tbody>\n",
              "</table>\n",
              "</div>\n",
              "      <button class=\"colab-df-convert\" onclick=\"convertToInteractive('df-abd8a9cf-f1b8-4e33-ac23-9faaa81f1d8a')\"\n",
              "              title=\"Convert this dataframe to an interactive table.\"\n",
              "              style=\"display:none;\">\n",
              "        \n",
              "  <svg xmlns=\"http://www.w3.org/2000/svg\" height=\"24px\"viewBox=\"0 0 24 24\"\n",
              "       width=\"24px\">\n",
              "    <path d=\"M0 0h24v24H0V0z\" fill=\"none\"/>\n",
              "    <path d=\"M18.56 5.44l.94 2.06.94-2.06 2.06-.94-2.06-.94-.94-2.06-.94 2.06-2.06.94zm-11 1L8.5 8.5l.94-2.06 2.06-.94-2.06-.94L8.5 2.5l-.94 2.06-2.06.94zm10 10l.94 2.06.94-2.06 2.06-.94-2.06-.94-.94-2.06-.94 2.06-2.06.94z\"/><path d=\"M17.41 7.96l-1.37-1.37c-.4-.4-.92-.59-1.43-.59-.52 0-1.04.2-1.43.59L10.3 9.45l-7.72 7.72c-.78.78-.78 2.05 0 2.83L4 21.41c.39.39.9.59 1.41.59.51 0 1.02-.2 1.41-.59l7.78-7.78 2.81-2.81c.8-.78.8-2.07 0-2.86zM5.41 20L4 18.59l7.72-7.72 1.47 1.35L5.41 20z\"/>\n",
              "  </svg>\n",
              "      </button>\n",
              "      \n",
              "  <style>\n",
              "    .colab-df-container {\n",
              "      display:flex;\n",
              "      flex-wrap:wrap;\n",
              "      gap: 12px;\n",
              "    }\n",
              "\n",
              "    .colab-df-convert {\n",
              "      background-color: #E8F0FE;\n",
              "      border: none;\n",
              "      border-radius: 50%;\n",
              "      cursor: pointer;\n",
              "      display: none;\n",
              "      fill: #1967D2;\n",
              "      height: 32px;\n",
              "      padding: 0 0 0 0;\n",
              "      width: 32px;\n",
              "    }\n",
              "\n",
              "    .colab-df-convert:hover {\n",
              "      background-color: #E2EBFA;\n",
              "      box-shadow: 0px 1px 2px rgba(60, 64, 67, 0.3), 0px 1px 3px 1px rgba(60, 64, 67, 0.15);\n",
              "      fill: #174EA6;\n",
              "    }\n",
              "\n",
              "    [theme=dark] .colab-df-convert {\n",
              "      background-color: #3B4455;\n",
              "      fill: #D2E3FC;\n",
              "    }\n",
              "\n",
              "    [theme=dark] .colab-df-convert:hover {\n",
              "      background-color: #434B5C;\n",
              "      box-shadow: 0px 1px 3px 1px rgba(0, 0, 0, 0.15);\n",
              "      filter: drop-shadow(0px 1px 2px rgba(0, 0, 0, 0.3));\n",
              "      fill: #FFFFFF;\n",
              "    }\n",
              "  </style>\n",
              "\n",
              "      <script>\n",
              "        const buttonEl =\n",
              "          document.querySelector('#df-abd8a9cf-f1b8-4e33-ac23-9faaa81f1d8a button.colab-df-convert');\n",
              "        buttonEl.style.display =\n",
              "          google.colab.kernel.accessAllowed ? 'block' : 'none';\n",
              "\n",
              "        async function convertToInteractive(key) {\n",
              "          const element = document.querySelector('#df-abd8a9cf-f1b8-4e33-ac23-9faaa81f1d8a');\n",
              "          const dataTable =\n",
              "            await google.colab.kernel.invokeFunction('convertToInteractive',\n",
              "                                                     [key], {});\n",
              "          if (!dataTable) return;\n",
              "\n",
              "          const docLinkHtml = 'Like what you see? Visit the ' +\n",
              "            '<a target=\"_blank\" href=https://colab.research.google.com/notebooks/data_table.ipynb>data table notebook</a>'\n",
              "            + ' to learn more about interactive tables.';\n",
              "          element.innerHTML = '';\n",
              "          dataTable['output_type'] = 'display_data';\n",
              "          await google.colab.output.renderOutput(dataTable, element);\n",
              "          const docLink = document.createElement('div');\n",
              "          docLink.innerHTML = docLinkHtml;\n",
              "          element.appendChild(docLink);\n",
              "        }\n",
              "      </script>\n",
              "    </div>\n",
              "  </div>\n",
              "  "
            ]
          },
          "metadata": {},
          "execution_count": 7
        }
      ],
      "source": [
        "df.head()"
      ]
    },
    {
      "cell_type": "code",
      "execution_count": null,
      "metadata": {
        "colab": {
          "base_uri": "https://localhost:8080/"
        },
        "id": "pqR7GRyoPkFt",
        "outputId": "0a1e95a1-2b1a-44a7-df1e-f7bfe377d9a8"
      },
      "outputs": [
        {
          "output_type": "execute_result",
          "data": {
            "text/plain": [
              "Index(['age', 'systolic_bp', 'diastolic_bp', 'cholesterol', 'prognosis'], dtype='object')"
            ]
          },
          "metadata": {},
          "execution_count": 8
        }
      ],
      "source": [
        "#getting column names\n",
        "df.columns"
      ]
    },
    {
      "cell_type": "code",
      "execution_count": null,
      "metadata": {
        "colab": {
          "base_uri": "https://localhost:8080/"
        },
        "id": "Y83Ymx6hPmo1",
        "outputId": "b62d66e9-1f28-4206-ba3a-e003999a19f1"
      },
      "outputs": [
        {
          "output_type": "execute_result",
          "data": {
            "text/plain": [
              "(6000, 5)"
            ]
          },
          "metadata": {},
          "execution_count": 9
        }
      ],
      "source": [
        "#shape of dataset (total rows & columns)\n",
        "df.shape"
      ]
    },
    {
      "cell_type": "code",
      "execution_count": null,
      "metadata": {
        "colab": {
          "base_uri": "https://localhost:8080/"
        },
        "id": "Lucn2lWPZ1w0",
        "outputId": "79aafea1-9ffa-4f2d-e39e-cb1c57660556"
      },
      "outputs": [
        {
          "output_type": "stream",
          "name": "stdout",
          "text": [
            "<class 'pandas.core.frame.DataFrame'>\n",
            "RangeIndex: 6000 entries, 0 to 5999\n",
            "Data columns (total 5 columns):\n",
            " #   Column        Non-Null Count  Dtype  \n",
            "---  ------        --------------  -----  \n",
            " 0   age           6000 non-null   int64  \n",
            " 1   systolic_bp   6000 non-null   float64\n",
            " 2   diastolic_bp  6000 non-null   float64\n",
            " 3   cholesterol   6000 non-null   float64\n",
            " 4   prognosis     6000 non-null   object \n",
            "dtypes: float64(3), int64(1), object(1)\n",
            "memory usage: 234.5+ KB\n"
          ]
        }
      ],
      "source": [
        "df.info()"
      ]
    },
    {
      "cell_type": "code",
      "execution_count": null,
      "metadata": {
        "id": "c_bmiFGzPorZ"
      },
      "outputs": [],
      "source": [
        "#since target variable is string first convert it into numeric column\n",
        "LE=LabelEncoder()\n",
        "df['prognosis']=LE.fit_transform(df['prognosis'])\n"
      ]
    },
    {
      "cell_type": "code",
      "execution_count": null,
      "metadata": {
        "colab": {
          "base_uri": "https://localhost:8080/",
          "height": 424
        },
        "id": "qSjFWm9uP02w",
        "outputId": "c23df9f5-8e2b-47c8-9525-f024808c085c"
      },
      "outputs": [
        {
          "output_type": "execute_result",
          "data": {
            "text/plain": [
              "      age  systolic_bp  diastolic_bp  cholesterol  prognosis\n",
              "0      77    85.288742     80.021878    79.957109          1\n",
              "1      63    99.379736     84.852361   110.382411          1\n",
              "2      69   111.349455    109.850616   100.828246          1\n",
              "3      82    95.056128     79.666851    87.066303          1\n",
              "4      78   109.154591     90.713220    92.511770          1\n",
              "...   ...          ...           ...          ...        ...\n",
              "5995   49    94.857639     86.615671   107.643986          0\n",
              "5996   63   100.039527     93.515186   104.971404          1\n",
              "5997   55    98.421446    102.697875   120.875951          1\n",
              "5998   63   106.809289     88.060631   106.052213          1\n",
              "5999   62    96.900784     86.878033   108.625436          0\n",
              "\n",
              "[6000 rows x 5 columns]"
            ],
            "text/html": [
              "\n",
              "  <div id=\"df-5dc8226b-ecfa-4643-81ce-450387189122\">\n",
              "    <div class=\"colab-df-container\">\n",
              "      <div>\n",
              "<style scoped>\n",
              "    .dataframe tbody tr th:only-of-type {\n",
              "        vertical-align: middle;\n",
              "    }\n",
              "\n",
              "    .dataframe tbody tr th {\n",
              "        vertical-align: top;\n",
              "    }\n",
              "\n",
              "    .dataframe thead th {\n",
              "        text-align: right;\n",
              "    }\n",
              "</style>\n",
              "<table border=\"1\" class=\"dataframe\">\n",
              "  <thead>\n",
              "    <tr style=\"text-align: right;\">\n",
              "      <th></th>\n",
              "      <th>age</th>\n",
              "      <th>systolic_bp</th>\n",
              "      <th>diastolic_bp</th>\n",
              "      <th>cholesterol</th>\n",
              "      <th>prognosis</th>\n",
              "    </tr>\n",
              "  </thead>\n",
              "  <tbody>\n",
              "    <tr>\n",
              "      <th>0</th>\n",
              "      <td>77</td>\n",
              "      <td>85.288742</td>\n",
              "      <td>80.021878</td>\n",
              "      <td>79.957109</td>\n",
              "      <td>1</td>\n",
              "    </tr>\n",
              "    <tr>\n",
              "      <th>1</th>\n",
              "      <td>63</td>\n",
              "      <td>99.379736</td>\n",
              "      <td>84.852361</td>\n",
              "      <td>110.382411</td>\n",
              "      <td>1</td>\n",
              "    </tr>\n",
              "    <tr>\n",
              "      <th>2</th>\n",
              "      <td>69</td>\n",
              "      <td>111.349455</td>\n",
              "      <td>109.850616</td>\n",
              "      <td>100.828246</td>\n",
              "      <td>1</td>\n",
              "    </tr>\n",
              "    <tr>\n",
              "      <th>3</th>\n",
              "      <td>82</td>\n",
              "      <td>95.056128</td>\n",
              "      <td>79.666851</td>\n",
              "      <td>87.066303</td>\n",
              "      <td>1</td>\n",
              "    </tr>\n",
              "    <tr>\n",
              "      <th>4</th>\n",
              "      <td>78</td>\n",
              "      <td>109.154591</td>\n",
              "      <td>90.713220</td>\n",
              "      <td>92.511770</td>\n",
              "      <td>1</td>\n",
              "    </tr>\n",
              "    <tr>\n",
              "      <th>...</th>\n",
              "      <td>...</td>\n",
              "      <td>...</td>\n",
              "      <td>...</td>\n",
              "      <td>...</td>\n",
              "      <td>...</td>\n",
              "    </tr>\n",
              "    <tr>\n",
              "      <th>5995</th>\n",
              "      <td>49</td>\n",
              "      <td>94.857639</td>\n",
              "      <td>86.615671</td>\n",
              "      <td>107.643986</td>\n",
              "      <td>0</td>\n",
              "    </tr>\n",
              "    <tr>\n",
              "      <th>5996</th>\n",
              "      <td>63</td>\n",
              "      <td>100.039527</td>\n",
              "      <td>93.515186</td>\n",
              "      <td>104.971404</td>\n",
              "      <td>1</td>\n",
              "    </tr>\n",
              "    <tr>\n",
              "      <th>5997</th>\n",
              "      <td>55</td>\n",
              "      <td>98.421446</td>\n",
              "      <td>102.697875</td>\n",
              "      <td>120.875951</td>\n",
              "      <td>1</td>\n",
              "    </tr>\n",
              "    <tr>\n",
              "      <th>5998</th>\n",
              "      <td>63</td>\n",
              "      <td>106.809289</td>\n",
              "      <td>88.060631</td>\n",
              "      <td>106.052213</td>\n",
              "      <td>1</td>\n",
              "    </tr>\n",
              "    <tr>\n",
              "      <th>5999</th>\n",
              "      <td>62</td>\n",
              "      <td>96.900784</td>\n",
              "      <td>86.878033</td>\n",
              "      <td>108.625436</td>\n",
              "      <td>0</td>\n",
              "    </tr>\n",
              "  </tbody>\n",
              "</table>\n",
              "<p>6000 rows × 5 columns</p>\n",
              "</div>\n",
              "      <button class=\"colab-df-convert\" onclick=\"convertToInteractive('df-5dc8226b-ecfa-4643-81ce-450387189122')\"\n",
              "              title=\"Convert this dataframe to an interactive table.\"\n",
              "              style=\"display:none;\">\n",
              "        \n",
              "  <svg xmlns=\"http://www.w3.org/2000/svg\" height=\"24px\"viewBox=\"0 0 24 24\"\n",
              "       width=\"24px\">\n",
              "    <path d=\"M0 0h24v24H0V0z\" fill=\"none\"/>\n",
              "    <path d=\"M18.56 5.44l.94 2.06.94-2.06 2.06-.94-2.06-.94-.94-2.06-.94 2.06-2.06.94zm-11 1L8.5 8.5l.94-2.06 2.06-.94-2.06-.94L8.5 2.5l-.94 2.06-2.06.94zm10 10l.94 2.06.94-2.06 2.06-.94-2.06-.94-.94-2.06-.94 2.06-2.06.94z\"/><path d=\"M17.41 7.96l-1.37-1.37c-.4-.4-.92-.59-1.43-.59-.52 0-1.04.2-1.43.59L10.3 9.45l-7.72 7.72c-.78.78-.78 2.05 0 2.83L4 21.41c.39.39.9.59 1.41.59.51 0 1.02-.2 1.41-.59l7.78-7.78 2.81-2.81c.8-.78.8-2.07 0-2.86zM5.41 20L4 18.59l7.72-7.72 1.47 1.35L5.41 20z\"/>\n",
              "  </svg>\n",
              "      </button>\n",
              "      \n",
              "  <style>\n",
              "    .colab-df-container {\n",
              "      display:flex;\n",
              "      flex-wrap:wrap;\n",
              "      gap: 12px;\n",
              "    }\n",
              "\n",
              "    .colab-df-convert {\n",
              "      background-color: #E8F0FE;\n",
              "      border: none;\n",
              "      border-radius: 50%;\n",
              "      cursor: pointer;\n",
              "      display: none;\n",
              "      fill: #1967D2;\n",
              "      height: 32px;\n",
              "      padding: 0 0 0 0;\n",
              "      width: 32px;\n",
              "    }\n",
              "\n",
              "    .colab-df-convert:hover {\n",
              "      background-color: #E2EBFA;\n",
              "      box-shadow: 0px 1px 2px rgba(60, 64, 67, 0.3), 0px 1px 3px 1px rgba(60, 64, 67, 0.15);\n",
              "      fill: #174EA6;\n",
              "    }\n",
              "\n",
              "    [theme=dark] .colab-df-convert {\n",
              "      background-color: #3B4455;\n",
              "      fill: #D2E3FC;\n",
              "    }\n",
              "\n",
              "    [theme=dark] .colab-df-convert:hover {\n",
              "      background-color: #434B5C;\n",
              "      box-shadow: 0px 1px 3px 1px rgba(0, 0, 0, 0.15);\n",
              "      filter: drop-shadow(0px 1px 2px rgba(0, 0, 0, 0.3));\n",
              "      fill: #FFFFFF;\n",
              "    }\n",
              "  </style>\n",
              "\n",
              "      <script>\n",
              "        const buttonEl =\n",
              "          document.querySelector('#df-5dc8226b-ecfa-4643-81ce-450387189122 button.colab-df-convert');\n",
              "        buttonEl.style.display =\n",
              "          google.colab.kernel.accessAllowed ? 'block' : 'none';\n",
              "\n",
              "        async function convertToInteractive(key) {\n",
              "          const element = document.querySelector('#df-5dc8226b-ecfa-4643-81ce-450387189122');\n",
              "          const dataTable =\n",
              "            await google.colab.kernel.invokeFunction('convertToInteractive',\n",
              "                                                     [key], {});\n",
              "          if (!dataTable) return;\n",
              "\n",
              "          const docLinkHtml = 'Like what you see? Visit the ' +\n",
              "            '<a target=\"_blank\" href=https://colab.research.google.com/notebooks/data_table.ipynb>data table notebook</a>'\n",
              "            + ' to learn more about interactive tables.';\n",
              "          element.innerHTML = '';\n",
              "          dataTable['output_type'] = 'display_data';\n",
              "          await google.colab.output.renderOutput(dataTable, element);\n",
              "          const docLink = document.createElement('div');\n",
              "          docLink.innerHTML = docLinkHtml;\n",
              "          element.appendChild(docLink);\n",
              "        }\n",
              "      </script>\n",
              "    </div>\n",
              "  </div>\n",
              "  "
            ]
          },
          "metadata": {},
          "execution_count": 12
        }
      ],
      "source": [
        "'''after conversion into binary\n",
        "1 indicates patient has diabetic retinopathy & 0 doesn't'''\n",
        "df"
      ]
    },
    {
      "cell_type": "code",
      "execution_count": null,
      "metadata": {
        "colab": {
          "base_uri": "https://localhost:8080/",
          "height": 300
        },
        "id": "B5HPA2Z4P_on",
        "outputId": "db065ffc-6ba7-4645-c0e1-c065fadafe31"
      },
      "outputs": [
        {
          "output_type": "execute_result",
          "data": {
            "text/plain": [
              "               age  systolic_bp  diastolic_bp  cholesterol    prognosis\n",
              "count  6000.000000  6000.000000   6000.000000  6000.000000  6000.000000\n",
              "mean     59.965167   100.694822     90.505547   100.628255     0.514500\n",
              "std       8.566301    10.669267      9.648200    10.433915     0.499831\n",
              "min      35.000000    69.675429     62.807105    69.967453     0.000000\n",
              "25%      54.000000    93.267420     83.641788    93.202373     0.000000\n",
              "50%      59.000000   100.119926     89.912429   100.060637     1.000000\n",
              "75%      65.000000   107.439501     96.682405   107.250829     1.000000\n",
              "max     103.000000   151.699660    133.456382   148.233544     1.000000"
            ],
            "text/html": [
              "\n",
              "  <div id=\"df-d44f65d8-4218-4365-a8c7-851a0d442be6\">\n",
              "    <div class=\"colab-df-container\">\n",
              "      <div>\n",
              "<style scoped>\n",
              "    .dataframe tbody tr th:only-of-type {\n",
              "        vertical-align: middle;\n",
              "    }\n",
              "\n",
              "    .dataframe tbody tr th {\n",
              "        vertical-align: top;\n",
              "    }\n",
              "\n",
              "    .dataframe thead th {\n",
              "        text-align: right;\n",
              "    }\n",
              "</style>\n",
              "<table border=\"1\" class=\"dataframe\">\n",
              "  <thead>\n",
              "    <tr style=\"text-align: right;\">\n",
              "      <th></th>\n",
              "      <th>age</th>\n",
              "      <th>systolic_bp</th>\n",
              "      <th>diastolic_bp</th>\n",
              "      <th>cholesterol</th>\n",
              "      <th>prognosis</th>\n",
              "    </tr>\n",
              "  </thead>\n",
              "  <tbody>\n",
              "    <tr>\n",
              "      <th>count</th>\n",
              "      <td>6000.000000</td>\n",
              "      <td>6000.000000</td>\n",
              "      <td>6000.000000</td>\n",
              "      <td>6000.000000</td>\n",
              "      <td>6000.000000</td>\n",
              "    </tr>\n",
              "    <tr>\n",
              "      <th>mean</th>\n",
              "      <td>59.965167</td>\n",
              "      <td>100.694822</td>\n",
              "      <td>90.505547</td>\n",
              "      <td>100.628255</td>\n",
              "      <td>0.514500</td>\n",
              "    </tr>\n",
              "    <tr>\n",
              "      <th>std</th>\n",
              "      <td>8.566301</td>\n",
              "      <td>10.669267</td>\n",
              "      <td>9.648200</td>\n",
              "      <td>10.433915</td>\n",
              "      <td>0.499831</td>\n",
              "    </tr>\n",
              "    <tr>\n",
              "      <th>min</th>\n",
              "      <td>35.000000</td>\n",
              "      <td>69.675429</td>\n",
              "      <td>62.807105</td>\n",
              "      <td>69.967453</td>\n",
              "      <td>0.000000</td>\n",
              "    </tr>\n",
              "    <tr>\n",
              "      <th>25%</th>\n",
              "      <td>54.000000</td>\n",
              "      <td>93.267420</td>\n",
              "      <td>83.641788</td>\n",
              "      <td>93.202373</td>\n",
              "      <td>0.000000</td>\n",
              "    </tr>\n",
              "    <tr>\n",
              "      <th>50%</th>\n",
              "      <td>59.000000</td>\n",
              "      <td>100.119926</td>\n",
              "      <td>89.912429</td>\n",
              "      <td>100.060637</td>\n",
              "      <td>1.000000</td>\n",
              "    </tr>\n",
              "    <tr>\n",
              "      <th>75%</th>\n",
              "      <td>65.000000</td>\n",
              "      <td>107.439501</td>\n",
              "      <td>96.682405</td>\n",
              "      <td>107.250829</td>\n",
              "      <td>1.000000</td>\n",
              "    </tr>\n",
              "    <tr>\n",
              "      <th>max</th>\n",
              "      <td>103.000000</td>\n",
              "      <td>151.699660</td>\n",
              "      <td>133.456382</td>\n",
              "      <td>148.233544</td>\n",
              "      <td>1.000000</td>\n",
              "    </tr>\n",
              "  </tbody>\n",
              "</table>\n",
              "</div>\n",
              "      <button class=\"colab-df-convert\" onclick=\"convertToInteractive('df-d44f65d8-4218-4365-a8c7-851a0d442be6')\"\n",
              "              title=\"Convert this dataframe to an interactive table.\"\n",
              "              style=\"display:none;\">\n",
              "        \n",
              "  <svg xmlns=\"http://www.w3.org/2000/svg\" height=\"24px\"viewBox=\"0 0 24 24\"\n",
              "       width=\"24px\">\n",
              "    <path d=\"M0 0h24v24H0V0z\" fill=\"none\"/>\n",
              "    <path d=\"M18.56 5.44l.94 2.06.94-2.06 2.06-.94-2.06-.94-.94-2.06-.94 2.06-2.06.94zm-11 1L8.5 8.5l.94-2.06 2.06-.94-2.06-.94L8.5 2.5l-.94 2.06-2.06.94zm10 10l.94 2.06.94-2.06 2.06-.94-2.06-.94-.94-2.06-.94 2.06-2.06.94z\"/><path d=\"M17.41 7.96l-1.37-1.37c-.4-.4-.92-.59-1.43-.59-.52 0-1.04.2-1.43.59L10.3 9.45l-7.72 7.72c-.78.78-.78 2.05 0 2.83L4 21.41c.39.39.9.59 1.41.59.51 0 1.02-.2 1.41-.59l7.78-7.78 2.81-2.81c.8-.78.8-2.07 0-2.86zM5.41 20L4 18.59l7.72-7.72 1.47 1.35L5.41 20z\"/>\n",
              "  </svg>\n",
              "      </button>\n",
              "      \n",
              "  <style>\n",
              "    .colab-df-container {\n",
              "      display:flex;\n",
              "      flex-wrap:wrap;\n",
              "      gap: 12px;\n",
              "    }\n",
              "\n",
              "    .colab-df-convert {\n",
              "      background-color: #E8F0FE;\n",
              "      border: none;\n",
              "      border-radius: 50%;\n",
              "      cursor: pointer;\n",
              "      display: none;\n",
              "      fill: #1967D2;\n",
              "      height: 32px;\n",
              "      padding: 0 0 0 0;\n",
              "      width: 32px;\n",
              "    }\n",
              "\n",
              "    .colab-df-convert:hover {\n",
              "      background-color: #E2EBFA;\n",
              "      box-shadow: 0px 1px 2px rgba(60, 64, 67, 0.3), 0px 1px 3px 1px rgba(60, 64, 67, 0.15);\n",
              "      fill: #174EA6;\n",
              "    }\n",
              "\n",
              "    [theme=dark] .colab-df-convert {\n",
              "      background-color: #3B4455;\n",
              "      fill: #D2E3FC;\n",
              "    }\n",
              "\n",
              "    [theme=dark] .colab-df-convert:hover {\n",
              "      background-color: #434B5C;\n",
              "      box-shadow: 0px 1px 3px 1px rgba(0, 0, 0, 0.15);\n",
              "      filter: drop-shadow(0px 1px 2px rgba(0, 0, 0, 0.3));\n",
              "      fill: #FFFFFF;\n",
              "    }\n",
              "  </style>\n",
              "\n",
              "      <script>\n",
              "        const buttonEl =\n",
              "          document.querySelector('#df-d44f65d8-4218-4365-a8c7-851a0d442be6 button.colab-df-convert');\n",
              "        buttonEl.style.display =\n",
              "          google.colab.kernel.accessAllowed ? 'block' : 'none';\n",
              "\n",
              "        async function convertToInteractive(key) {\n",
              "          const element = document.querySelector('#df-d44f65d8-4218-4365-a8c7-851a0d442be6');\n",
              "          const dataTable =\n",
              "            await google.colab.kernel.invokeFunction('convertToInteractive',\n",
              "                                                     [key], {});\n",
              "          if (!dataTable) return;\n",
              "\n",
              "          const docLinkHtml = 'Like what you see? Visit the ' +\n",
              "            '<a target=\"_blank\" href=https://colab.research.google.com/notebooks/data_table.ipynb>data table notebook</a>'\n",
              "            + ' to learn more about interactive tables.';\n",
              "          element.innerHTML = '';\n",
              "          dataTable['output_type'] = 'display_data';\n",
              "          await google.colab.output.renderOutput(dataTable, element);\n",
              "          const docLink = document.createElement('div');\n",
              "          docLink.innerHTML = docLinkHtml;\n",
              "          element.appendChild(docLink);\n",
              "        }\n",
              "      </script>\n",
              "    </div>\n",
              "  </div>\n",
              "  "
            ]
          },
          "metadata": {},
          "execution_count": 13
        }
      ],
      "source": [
        "df.describe()"
      ]
    },
    {
      "cell_type": "code",
      "execution_count": null,
      "metadata": {
        "colab": {
          "base_uri": "https://localhost:8080/"
        },
        "id": "t0K4ZPGRZstb",
        "outputId": "f824db3d-58d1-473e-b193-f3c72939654b"
      },
      "outputs": [
        {
          "output_type": "execute_result",
          "data": {
            "text/plain": [
              "age             0\n",
              "systolic_bp     0\n",
              "diastolic_bp    0\n",
              "cholesterol     0\n",
              "prognosis       0\n",
              "dtype: int64"
            ]
          },
          "metadata": {},
          "execution_count": 14
        }
      ],
      "source": [
        "df.isnull().sum()"
      ]
    },
    {
      "cell_type": "code",
      "execution_count": null,
      "metadata": {
        "colab": {
          "base_uri": "https://localhost:8080/",
          "height": 336
        },
        "id": "8xnBnDtM8Bwe",
        "outputId": "cb6055b6-1ef8-4a5d-e77b-a9a58e4f4f24"
      },
      "outputs": [
        {
          "output_type": "execute_result",
          "data": {
            "text/plain": [
              "<matplotlib.axes._subplots.AxesSubplot at 0x7fb4a81fa910>"
            ]
          },
          "metadata": {},
          "execution_count": 15
        },
        {
          "output_type": "display_data",
          "data": {
            "text/plain": [
              "<Figure size 432x288 with 2 Axes>"
            ],
            "image/png": "[encoded data removed]"
          },
          "metadata": {
            "needs_background": "light"
          }
        }
      ],
      "source": [
        "sns.heatmap(df.corr(), annot=True)"
      ]
    },
    {
      "cell_type": "markdown",
      "metadata": {
        "id": "XhVGd8Mhe4Dk"
      },
      "source": [
        "graphs"
      ]
    },
    {
      "cell_type": "code",
      "execution_count": null,
      "metadata": {
        "colab": {
          "base_uri": "https://localhost:8080/"
        },
        "id": "SZx4mHdxV_zw",
        "outputId": "570648ae-c155-4acf-929b-d9b937e7a304"
      },
      "outputs": [
        {
          "output_type": "execute_result",
          "data": {
            "text/plain": [
              "1    3087\n",
              "0    2913\n",
              "Name: prognosis, dtype: int64"
            ]
          },
          "metadata": {},
          "execution_count": 16
        }
      ],
      "source": [
        "df['prognosis'].value_counts()"
      ]
    },
    {
      "cell_type": "code",
      "execution_count": null,
      "metadata": {
        "colab": {
          "base_uri": "https://localhost:8080/"
        },
        "id": "l58U0W59dlhg",
        "outputId": "da347792-37a9-4a4e-c7d8-e1bc14bc401b"
      },
      "outputs": [
        {
          "output_type": "execute_result",
          "data": {
            "text/plain": [
              "1    3087\n",
              "0    2913\n",
              "Name: prognosis, dtype: int64"
            ]
          },
          "metadata": {},
          "execution_count": 17
        }
      ],
      "source": [
        "data_prog=df.prognosis.value_counts()\n",
        "data_prog"
      ]
    },
    {
      "cell_type": "code",
      "execution_count": null,
      "metadata": {
        "colab": {
          "base_uri": "https://localhost:8080/",
          "height": 265
        },
        "id": "a2QFo2Gveo1z",
        "outputId": "9fd36ede-b34a-42c3-d079-7e210be5f48c"
      },
      "outputs": [
        {
          "output_type": "execute_result",
          "data": {
            "text/plain": [
              "<matplotlib.axes._subplots.AxesSubplot at 0x7fb48e2e5190>"
            ]
          },
          "metadata": {},
          "execution_count": 18
        },
        {
          "output_type": "display_data",
          "data": {
            "text/plain": [
              "<Figure size 432x288 with 1 Axes>"
            ],
            "image/png": "[encoded data removed]"
          },
          "metadata": {}
        }
      ],
      "source": [
        "data_prog.plot(kind=\"pie\",shadow=True,autopct='%1.1f%%')"
      ]
    },
    {
      "cell_type": "code",
      "execution_count": null,
      "metadata": {
        "colab": {
          "base_uri": "https://localhost:8080/",
          "height": 351
        },
        "id": "p4YGLFznUHFG",
        "outputId": "43a072bd-b343-46bf-ecbb-5339cceed94f"
      },
      "outputs": [
        {
          "output_type": "stream",
          "name": "stderr",
          "text": [
            "/usr/local/lib/python3.7/dist-packages/seaborn/_decorators.py:43: FutureWarning: Pass the following variable as a keyword arg: x. From version 0.12, the only valid positional argument will be `data`, and passing other arguments without an explicit keyword will result in an error or misinterpretation.\n",
            "  FutureWarning\n"
          ]
        },
        {
          "output_type": "execute_result",
          "data": {
            "text/plain": [
              "<matplotlib.axes._subplots.AxesSubplot at 0x7fb48e2c2bd0>"
            ]
          },
          "metadata": {},
          "execution_count": 19
        },
        {
          "output_type": "display_data",
          "data": {
            "text/plain": [
              "<Figure size 432x288 with 1 Axes>"
            ],
            "image/png": "[encoded data removed]"
          },
          "metadata": {
            "needs_background": "light"
          }
        }
      ],
      "source": [
        "sns.boxplot(df['age'])"
      ]
    },
    {
      "cell_type": "code",
      "execution_count": null,
      "metadata": {
        "colab": {
          "base_uri": "https://localhost:8080/",
          "height": 353
        },
        "id": "XSRB1P9ATiLE",
        "outputId": "cfa00c71-a9b8-4e0e-edfd-437d0ff8883f"
      },
      "outputs": [
        {
          "output_type": "stream",
          "name": "stderr",
          "text": [
            "/usr/local/lib/python3.7/dist-packages/seaborn/distributions.py:2619: FutureWarning: `distplot` is a deprecated function and will be removed in a future version. Please adapt your code to use either `displot` (a figure-level function with similar flexibility) or `histplot` (an axes-level function for histograms).\n",
            "  warnings.warn(msg, FutureWarning)\n"
          ]
        },
        {
          "output_type": "execute_result",
          "data": {
            "text/plain": [
              "<matplotlib.axes._subplots.AxesSubplot at 0x7fb48e1f7a50>"
            ]
          },
          "metadata": {},
          "execution_count": 20
        },
        {
          "output_type": "display_data",
          "data": {
            "text/plain": [
              "<Figure size 432x288 with 1 Axes>"
            ],
            "image/png": "[encoded data removed]"
          },
          "metadata": {
            "needs_background": "light"
          }
        }
      ],
      "source": [
        "sns.distplot(df['age'])"
      ]
    },
    {
      "cell_type": "code",
      "execution_count": null,
      "metadata": {
        "colab": {
          "base_uri": "https://localhost:8080/",
          "height": 352
        },
        "id": "0tMah9syUhTr",
        "outputId": "4daa18ec-ae4f-43aa-cc09-1c7f4e32423e"
      },
      "outputs": [
        {
          "output_type": "stream",
          "name": "stderr",
          "text": [
            "/usr/local/lib/python3.7/dist-packages/seaborn/_decorators.py:43: FutureWarning: Pass the following variable as a keyword arg: x. From version 0.12, the only valid positional argument will be `data`, and passing other arguments without an explicit keyword will result in an error or misinterpretation.\n",
            "  FutureWarning\n"
          ]
        },
        {
          "output_type": "execute_result",
          "data": {
            "text/plain": [
              "<matplotlib.axes._subplots.AxesSubplot at 0x7fb48e0e8790>"
            ]
          },
          "metadata": {},
          "execution_count": 21
        },
        {
          "output_type": "display_data",
          "data": {
            "text/plain": [
              "<Figure size 432x288 with 1 Axes>"
            ],
            "image/png": "[encoded data removed]"
          },
          "metadata": {
            "needs_background": "light"
          }
        }
      ],
      "source": [
        "sns.boxplot(df['systolic_bp'], color=\"red\")"
      ]
    },
    {
      "cell_type": "code",
      "execution_count": null,
      "metadata": {
        "colab": {
          "base_uri": "https://localhost:8080/",
          "height": 352
        },
        "id": "KECsnG0eUz74",
        "outputId": "d09742fd-6c7c-4f3d-804c-bd61cda751e9"
      },
      "outputs": [
        {
          "output_type": "stream",
          "name": "stderr",
          "text": [
            "/usr/local/lib/python3.7/dist-packages/seaborn/distributions.py:2619: FutureWarning: `distplot` is a deprecated function and will be removed in a future version. Please adapt your code to use either `displot` (a figure-level function with similar flexibility) or `histplot` (an axes-level function for histograms).\n",
            "  warnings.warn(msg, FutureWarning)\n"
          ]
        },
        {
          "output_type": "execute_result",
          "data": {
            "text/plain": [
              "<matplotlib.axes._subplots.AxesSubplot at 0x7fb48e087050>"
            ]
          },
          "metadata": {},
          "execution_count": 22
        },
        {
          "output_type": "display_data",
          "data": {
            "text/plain": [
              "<Figure size 432x288 with 1 Axes>"
            ],
            "image/png": "[encoded data removed]"
          },
          "metadata": {
            "needs_background": "light"
          }
        }
      ],
      "source": [
        "sns.distplot(df['systolic_bp'], color='red')"
      ]
    },
    {
      "cell_type": "code",
      "execution_count": null,
      "metadata": {
        "colab": {
          "base_uri": "https://localhost:8080/",
          "height": 352
        },
        "id": "geTPcI-XU4tL",
        "outputId": "7dcec7dd-5140-4dd9-fe9d-698fff8a2dc0"
      },
      "outputs": [
        {
          "output_type": "stream",
          "name": "stderr",
          "text": [
            "/usr/local/lib/python3.7/dist-packages/seaborn/_decorators.py:43: FutureWarning: Pass the following variable as a keyword arg: x. From version 0.12, the only valid positional argument will be `data`, and passing other arguments without an explicit keyword will result in an error or misinterpretation.\n",
            "  FutureWarning\n"
          ]
        },
        {
          "output_type": "execute_result",
          "data": {
            "text/plain": [
              "<matplotlib.axes._subplots.AxesSubplot at 0x7fb48e230c90>"
            ]
          },
          "metadata": {},
          "execution_count": 23
        },
        {
          "output_type": "display_data",
          "data": {
            "text/plain": [
              "<Figure size 432x288 with 1 Axes>"
            ],
            "image/png": "[encoded data removed]"
          },
          "metadata": {
            "needs_background": "light"
          }
        }
      ],
      "source": [
        "sns.boxplot(df['diastolic_bp'], color='green')"
      ]
    },
    {
      "cell_type": "code",
      "execution_count": null,
      "metadata": {
        "colab": {
          "base_uri": "https://localhost:8080/",
          "height": 352
        },
        "id": "BiMJ7DcmVE3M",
        "outputId": "c41736bb-baac-4c78-be40-f7ffe3abf717"
      },
      "outputs": [
        {
          "output_type": "stream",
          "name": "stderr",
          "text": [
            "/usr/local/lib/python3.7/dist-packages/seaborn/distributions.py:2619: FutureWarning: `distplot` is a deprecated function and will be removed in a future version. Please adapt your code to use either `displot` (a figure-level function with similar flexibility) or `histplot` (an axes-level function for histograms).\n",
            "  warnings.warn(msg, FutureWarning)\n"
          ]
        },
        {
          "output_type": "execute_result",
          "data": {
            "text/plain": [
              "<matplotlib.axes._subplots.AxesSubplot at 0x7fb48df0cd10>"
            ]
          },
          "metadata": {},
          "execution_count": 24
        },
        {
          "output_type": "display_data",
          "data": {
            "text/plain": [
              "<Figure size 432x288 with 1 Axes>"
            ],
            "image/png": "[encoded data removed]"
          },
          "metadata": {
            "needs_background": "light"
          }
        }
      ],
      "source": [
        "sns.distplot(df['diastolic_bp'], color='green')"
      ]
    },
    {
      "cell_type": "code",
      "execution_count": null,
      "metadata": {
        "colab": {
          "base_uri": "https://localhost:8080/",
          "height": 351
        },
        "id": "PdXMEbtoVIcQ",
        "outputId": "0bf3f221-79f7-4236-9874-b26a7bdc2911"
      },
      "outputs": [
        {
          "output_type": "stream",
          "name": "stderr",
          "text": [
            "/usr/local/lib/python3.7/dist-packages/seaborn/_decorators.py:43: FutureWarning: Pass the following variable as a keyword arg: x. From version 0.12, the only valid positional argument will be `data`, and passing other arguments without an explicit keyword will result in an error or misinterpretation.\n",
            "  FutureWarning\n"
          ]
        },
        {
          "output_type": "execute_result",
          "data": {
            "text/plain": [
              "<matplotlib.axes._subplots.AxesSubplot at 0x7fb48ddaab10>"
            ]
          },
          "metadata": {},
          "execution_count": 25
        },
        {
          "output_type": "display_data",
          "data": {
            "text/plain": [
              "<Figure size 432x288 with 1 Axes>"
            ],
            "image/png": "[encoded data removed]"
          },
          "metadata": {
            "needs_background": "light"
          }
        }
      ],
      "source": [
        "sns.boxplot(df['cholesterol'], color='orange')"
      ]
    },
    {
      "cell_type": "code",
      "execution_count": null,
      "metadata": {
        "colab": {
          "base_uri": "https://localhost:8080/",
          "height": 351
        },
        "id": "eXDq0sYkVPTX",
        "outputId": "1264e8dd-880b-40a8-e647-1179418b968e"
      },
      "outputs": [
        {
          "output_type": "stream",
          "name": "stderr",
          "text": [
            "/usr/local/lib/python3.7/dist-packages/seaborn/distributions.py:2619: FutureWarning: `distplot` is a deprecated function and will be removed in a future version. Please adapt your code to use either `displot` (a figure-level function with similar flexibility) or `histplot` (an axes-level function for histograms).\n",
            "  warnings.warn(msg, FutureWarning)\n"
          ]
        },
        {
          "output_type": "execute_result",
          "data": {
            "text/plain": [
              "<matplotlib.axes._subplots.AxesSubplot at 0x7fb48e0b40d0>"
            ]
          },
          "metadata": {},
          "execution_count": 26
        },
        {
          "output_type": "display_data",
          "data": {
            "text/plain": [
              "<Figure size 432x288 with 1 Axes>"
            ],
            "image/png": "[encoded data removed]"
          },
          "metadata": {
            "needs_background": "light"
          }
        }
      ],
      "source": [
        "sns.distplot(df['cholesterol'], color='orange')"
      ]
    },
    {
      "cell_type": "code",
      "execution_count": null,
      "metadata": {
        "colab": {
          "base_uri": "https://localhost:8080/",
          "height": 352
        },
        "id": "L52wJr7ZVc3v",
        "outputId": "c1548b84-0c13-49e4-b0ee-916e16346678"
      },
      "outputs": [
        {
          "output_type": "execute_result",
          "data": {
            "text/plain": [
              "(array([  33.,  442., 1434., 1965., 1182.,  661.,  222.,   52.,    7.,\n",
              "           2.]),\n",
              " array([ 35. ,  41.8,  48.6,  55.4,  62.2,  69. ,  75.8,  82.6,  89.4,\n",
              "         96.2, 103. ]),\n",
              " <a list of 10 Patch objects>)"
            ]
          },
          "metadata": {},
          "execution_count": 27
        },
        {
          "output_type": "display_data",
          "data": {
            "text/plain": [
              "<Figure size 432x288 with 1 Axes>"
            ],
            "image/png": "[encoded data removed]"
          },
          "metadata": {
            "needs_background": "light"
          }
        }
      ],
      "source": [
        "plt.hist(df['age'])"
      ]
    },
    {
      "cell_type": "code",
      "execution_count": null,
      "metadata": {
        "colab": {
          "base_uri": "https://localhost:8080/",
          "height": 334
        },
        "id": "BuvveGy0VoCX",
        "outputId": "39a3cc0a-e4b2-4fad-f928-0ec065ddc15c"
      },
      "outputs": [
        {
          "output_type": "execute_result",
          "data": {
            "text/plain": [
              "(array([  44.,  342., 1158., 1731., 1545.,  767.,  304.,   89.,   13.,\n",
              "           7.]), array([ 69.96745265,  77.79406182,  85.62067099,  93.44728016,\n",
              "        101.27388933, 109.1004985 , 116.92710767, 124.75371684,\n",
              "        132.580326  , 140.40693517, 148.23354434]), <a list of 10 Patch objects>)"
            ]
          },
          "metadata": {},
          "execution_count": 28
        },
        {
          "output_type": "display_data",
          "data": {
            "text/plain": [
              "<Figure size 432x288 with 1 Axes>"
            ],
            "image/png": "[encoded data removed]"
          },
          "metadata": {
            "needs_background": "light"
          }
        }
      ],
      "source": [
        "plt.hist(df['cholesterol'])"
      ]
    },
    {
      "cell_type": "code",
      "execution_count": null,
      "metadata": {
        "colab": {
          "base_uri": "https://localhost:8080/",
          "height": 334
        },
        "id": "OL2beLspVs2U",
        "outputId": "21875b30-8462-4b96-dd2c-f34ba23f955c"
      },
      "outputs": [
        {
          "output_type": "execute_result",
          "data": {
            "text/plain": [
              "(array([  48.,  362., 1169., 1680., 1510.,  799.,  315.,   95.,   18.,\n",
              "           4.]), array([ 62.80710491,  69.87203263,  76.93696036,  84.00188809,\n",
              "         91.06681581,  98.13174354, 105.19667127, 112.26159899,\n",
              "        119.32652672, 126.39145445, 133.45638217]), <a list of 10 Patch objects>)"
            ]
          },
          "metadata": {},
          "execution_count": 29
        },
        {
          "output_type": "display_data",
          "data": {
            "text/plain": [
              "<Figure size 432x288 with 1 Axes>"
            ],
            "image/png": "[encoded data removed]"
          },
          "metadata": {
            "needs_background": "light"
          }
        }
      ],
      "source": [
        "plt.hist(df['diastolic_bp'])"
      ]
    },
    {
      "cell_type": "code",
      "execution_count": null,
      "metadata": {
        "colab": {
          "base_uri": "https://localhost:8080/",
          "height": 334
        },
        "id": "o0g4mBWaVx4s",
        "outputId": "42d08f54-fff4-47a9-ca50-89291cc294e5"
      },
      "outputs": [
        {
          "output_type": "execute_result",
          "data": {
            "text/plain": [
              "(array([  60.,  384., 1271., 1803., 1455.,  696.,  265.,   55.,    8.,\n",
              "           3.]), array([ 69.67542853,  77.8778517 ,  86.08027487,  94.28269803,\n",
              "        102.4851212 , 110.68754437, 118.88996754, 127.09239071,\n",
              "        135.29481388, 143.49723705, 151.69966022]), <a list of 10 Patch objects>)"
            ]
          },
          "metadata": {},
          "execution_count": 30
        },
        {
          "output_type": "display_data",
          "data": {
            "text/plain": [
              "<Figure size 432x288 with 1 Axes>"
            ],
            "image/png": "[encoded data removed]"
          },
          "metadata": {
            "needs_background": "light"
          }
        }
      ],
      "source": [
        "plt.hist(df['systolic_bp'])"
      ]
    },
    {
      "cell_type": "code",
      "execution_count": null,
      "metadata": {
        "id": "612aMX5jetp-"
      },
      "outputs": [],
      "source": [
        "data1=df[df[\"age\"]>50]\n",
        "data2=df[df[\"age\"]<50]"
      ]
    },
    {
      "cell_type": "code",
      "execution_count": null,
      "metadata": {
        "colab": {
          "base_uri": "https://localhost:8080/"
        },
        "id": "ylXg1RtIetl8",
        "outputId": "fa2968ca-69a0-466f-a9d6-6c833ab10265"
      },
      "outputs": [
        {
          "output_type": "execute_result",
          "data": {
            "text/plain": [
              "1    2893\n",
              "0    2336\n",
              "Name: prognosis, dtype: int64"
            ]
          },
          "metadata": {},
          "execution_count": 32
        }
      ],
      "source": [
        "data1[\"prognosis\"].value_counts()# there are 50-50 percent chance of getting retinopathy as age increases so we can say that age \n",
        "#columns is not that useful columns."
      ]
    },
    {
      "cell_type": "code",
      "execution_count": null,
      "metadata": {
        "colab": {
          "base_uri": "https://localhost:8080/"
        },
        "id": "hGkQYtn3ethl",
        "outputId": "074eedea-2afc-41b8-95ed-46b994371749"
      },
      "outputs": [
        {
          "output_type": "execute_result",
          "data": {
            "text/plain": [
              "0    473\n",
              "1    151\n",
              "Name: prognosis, dtype: int64"
            ]
          },
          "metadata": {},
          "execution_count": 33
        }
      ],
      "source": [
        "data2[\"prognosis\"].value_counts()#  people age below 50 are suffering from retinopathy"
      ]
    },
    {
      "cell_type": "code",
      "execution_count": null,
      "metadata": {
        "id": "OgFUupvJetcq"
      },
      "outputs": [],
      "source": [
        "systolic_normal=df[df[\"systolic_bp\"]<120]# as the normal value of systolic_bp is 125 so we will take greater than 120 and less than 120\n",
        "systolic_abnormal=df[df[\"systolic_bp\"]>120]"
      ]
    },
    {
      "cell_type": "code",
      "execution_count": null,
      "metadata": {
        "colab": {
          "base_uri": "https://localhost:8080/"
        },
        "id": "hbMStXi_etYn",
        "outputId": "c42c6d54-59e8-4bfc-b124-1132fa0474e6"
      },
      "outputs": [
        {
          "output_type": "execute_result",
          "data": {
            "text/plain": [
              "0    2866\n",
              "1    2856\n",
              "Name: prognosis, dtype: int64"
            ]
          },
          "metadata": {},
          "execution_count": 35
        }
      ],
      "source": [
        "systolic_normal[\"prognosis\"].value_counts()"
      ]
    },
    {
      "cell_type": "code",
      "execution_count": null,
      "metadata": {
        "colab": {
          "base_uri": "https://localhost:8080/"
        },
        "id": "3fxgLTOZetUe",
        "outputId": "869c4ec0-c4aa-4ce6-b481-7ce3edb329c6"
      },
      "outputs": [
        {
          "output_type": "execute_result",
          "data": {
            "text/plain": [
              "1    231\n",
              "0     47\n",
              "Name: prognosis, dtype: int64"
            ]
          },
          "metadata": {},
          "execution_count": 36
        }
      ],
      "source": [
        "systolic_abnormal[\"prognosis\"].value_counts()# systolic greater than normal ,we found that if systolic_bp is greater than the normal \n",
        "#then there is increase in percentage of getting retinopathy."
      ]
    },
    {
      "cell_type": "code",
      "execution_count": null,
      "metadata": {
        "id": "k9wIpLNiUKBf"
      },
      "outputs": [],
      "source": [
        "diastolic_bp_normal=df[df[\"diastolic_bp\"]<80]\n",
        "diastolic_bp_abnormal=df[df[\"diastolic_bp\"]>80]"
      ]
    },
    {
      "cell_type": "code",
      "execution_count": null,
      "metadata": {
        "colab": {
          "base_uri": "https://localhost:8080/"
        },
        "id": "901XiMtafave",
        "outputId": "162c259d-6a27-4ecb-83de-2b4ecd9202ef"
      },
      "outputs": [
        {
          "output_type": "execute_result",
          "data": {
            "text/plain": [
              "0    507\n",
              "1    294\n",
              "Name: prognosis, dtype: int64"
            ]
          },
          "metadata": {},
          "execution_count": 38
        }
      ],
      "source": [
        "diastolic_bp_normal[\"prognosis\"].value_counts()"
      ]
    },
    {
      "cell_type": "code",
      "execution_count": null,
      "metadata": {
        "colab": {
          "base_uri": "https://localhost:8080/"
        },
        "id": "ky0TAjdefarr",
        "outputId": "eebc2790-1f50-4e9a-9447-20f756b0a82e"
      },
      "outputs": [
        {
          "output_type": "execute_result",
          "data": {
            "text/plain": [
              "1    2793\n",
              "0    2406\n",
              "Name: prognosis, dtype: int64"
            ]
          },
          "metadata": {},
          "execution_count": 39
        }
      ],
      "source": [
        "diastolic_bp_abnormal[\"prognosis\"].value_counts()#the data between the diastolic is uniformily distributed condsidering retinopathy"
      ]
    },
    {
      "cell_type": "code",
      "execution_count": null,
      "metadata": {
        "id": "cXjQ9_bEfan6"
      },
      "outputs": [],
      "source": [
        "cholesterol_normal=df[(df[\"cholesterol\"] > 125 ) & (df['cholesterol'] < 200 )]\n",
        "cholesterol_abnormal=df[df[\"cholesterol\"] < 125 ]"
      ]
    },
    {
      "cell_type": "code",
      "execution_count": null,
      "metadata": {
        "colab": {
          "base_uri": "https://localhost:8080/"
        },
        "id": "gIEkIGi1fajv",
        "outputId": "a7174bce-1834-4db4-864a-0f89851764ba"
      },
      "outputs": [
        {
          "output_type": "execute_result",
          "data": {
            "text/plain": [
              "1    93\n",
              "0     9\n",
              "Name: prognosis, dtype: int64"
            ]
          },
          "metadata": {},
          "execution_count": 41
        }
      ],
      "source": [
        "cholesterol_normal[\"prognosis\"].value_counts()# even if cholesterol is in normal range then getting  retinopathy is also possible "
      ]
    },
    {
      "cell_type": "code",
      "execution_count": null,
      "metadata": {
        "colab": {
          "base_uri": "https://localhost:8080/"
        },
        "id": "yeCaxq91fafh",
        "outputId": "6116cf98-0b31-43ea-cd51-41748f88657c"
      },
      "outputs": [
        {
          "output_type": "execute_result",
          "data": {
            "text/plain": [
              "1    2994\n",
              "0    2904\n",
              "Name: prognosis, dtype: int64"
            ]
          },
          "metadata": {},
          "execution_count": 42
        }
      ],
      "source": [
        "cholesterol_abnormal[\"prognosis\"].value_counts() # even if cholesterol is below normal level chance of getting the retinopathy is 50 - 50 approx"
      ]
    },
    {
      "cell_type": "code",
      "execution_count": null,
      "metadata": {
        "id": "BmiRrfyjnymK"
      },
      "outputs": [],
      "source": [
        "df1=df.copy()"
      ]
    },
    {
      "cell_type": "code",
      "execution_count": null,
      "metadata": {
        "id": "Q_8RviLunl0v"
      },
      "outputs": [],
      "source": [
        "df1[\"systolic_bp\"]=df[\"systolic_bp\"].astype(int)\n",
        "df1[\"diastolic_bp\"]=df[\"diastolic_bp\"].astype(int)\n",
        "df1[\"cholesterol\"]=df[\"cholesterol\"].astype(int)"
      ]
    },
    {
      "cell_type": "code",
      "execution_count": null,
      "metadata": {
        "colab": {
          "base_uri": "https://localhost:8080/",
          "height": 296
        },
        "id": "3qhpTh1xfabV",
        "outputId": "ac44059b-8e5a-420d-9771-3350ccf54ee7"
      },
      "outputs": [
        {
          "output_type": "execute_result",
          "data": {
            "text/plain": [
              "<matplotlib.axes._subplots.AxesSubplot at 0x7fb48daa2e10>"
            ]
          },
          "metadata": {},
          "execution_count": 45
        },
        {
          "output_type": "display_data",
          "data": {
            "text/plain": [
              "<Figure size 432x288 with 1 Axes>"
            ],
            "image/png": "[encoded data removed]"
          },
          "metadata": {
            "needs_background": "light"
          }
        }
      ],
      "source": [
        "pd.crosstab(df1[\"age\"],df1[\"prognosis\"]).plot(kind=\"line\")# slight higer age suffers more from retinopathy"
      ]
    },
    {
      "cell_type": "code",
      "execution_count": null,
      "metadata": {
        "colab": {
          "base_uri": "https://localhost:8080/",
          "height": 297
        },
        "id": "ISS1QlnhoGWL",
        "outputId": "5c0afee0-6953-4b58-9d04-8b869738f6cb"
      },
      "outputs": [
        {
          "output_type": "execute_result",
          "data": {
            "text/plain": [
              "<matplotlib.axes._subplots.AxesSubplot at 0x7fb48d971210>"
            ]
          },
          "metadata": {},
          "execution_count": 46
        },
        {
          "output_type": "display_data",
          "data": {
            "text/plain": [
              "<Figure size 432x288 with 1 Axes>"
            ],
            "image/png": "[encoded data removed]"
          },
          "metadata": {
            "needs_background": "light"
          }
        }
      ],
      "source": [
        "pd.crosstab(df1[\"systolic_bp\"],df1[\"prognosis\"]).plot(kind=\"line\")# more systolic_bp value has higher chances of retinopathy disases."
      ]
    },
    {
      "cell_type": "code",
      "execution_count": null,
      "metadata": {
        "colab": {
          "base_uri": "https://localhost:8080/",
          "height": 297
        },
        "id": "oRTVCL5_l-9R",
        "outputId": "43589c5a-182d-461e-9347-efd4d9c90a02"
      },
      "outputs": [
        {
          "output_type": "execute_result",
          "data": {
            "text/plain": [
              "<matplotlib.axes._subplots.AxesSubplot at 0x7fb48d959290>"
            ]
          },
          "metadata": {},
          "execution_count": 47
        },
        {
          "output_type": "display_data",
          "data": {
            "text/plain": [
              "<Figure size 432x288 with 1 Axes>"
            ],
            "image/png": "[encoded data removed]"
          },
          "metadata": {
            "needs_background": "light"
          }
        }
      ],
      "source": [
        "pd.crosstab(df1[\"diastolic_bp\"],df1['prognosis']).plot(kind=\"line\")# there is no much effect of diastolic_bp feature."
      ]
    },
    {
      "cell_type": "code",
      "execution_count": null,
      "metadata": {
        "colab": {
          "base_uri": "https://localhost:8080/",
          "height": 296
        },
        "id": "JpqDEDJ8nbBn",
        "outputId": "c2e8e8f2-ce5c-4d8d-ece2-813daf8fab93"
      },
      "outputs": [
        {
          "output_type": "execute_result",
          "data": {
            "text/plain": [
              "<matplotlib.axes._subplots.AxesSubplot at 0x7fb48d868610>"
            ]
          },
          "metadata": {},
          "execution_count": 48
        },
        {
          "output_type": "display_data",
          "data": {
            "text/plain": [
              "<Figure size 432x288 with 1 Axes>"
            ],
            "image/png": "[encoded data removed]"
          },
          "metadata": {
            "needs_background": "light"
          }
        }
      ],
      "source": [
        "pd.crosstab(df1[\"cholesterol\"], df1[\"prognosis\"]).plot(kind=\"line\")# maximum the cholestrol level greater is the retinopathy disease."
      ]
    },
    {
      "cell_type": "markdown",
      "metadata": {
        "id": "4rY8clMQ_9zs"
      },
      "source": [
        "#outlier\n"
      ]
    },
    {
      "cell_type": "code",
      "execution_count": null,
      "metadata": {
        "id": "B-dHV27G_rkk",
        "outputId": "bfd9d082-211b-464c-f730-2b3f53687f5b"
      },
      "outputs": [
        {
          "data": {
            "text/html": [
              "<div>\n",
              "<style scoped>\n",
              "    .dataframe tbody tr th:only-of-type {\n",
              "        vertical-align: middle;\n",
              "    }\n",
              "\n",
              "    .dataframe tbody tr th {\n",
              "        vertical-align: top;\n",
              "    }\n",
              "\n",
              "    .dataframe thead th {\n",
              "        text-align: right;\n",
              "    }\n",
              "</style>\n",
              "<table border=\"1\" class=\"dataframe\">\n",
              "  <thead>\n",
              "    <tr style=\"text-align: right;\">\n",
              "      <th></th>\n",
              "      <th>age</th>\n",
              "      <th>systolic_bp</th>\n",
              "      <th>diastolic_bp</th>\n",
              "      <th>cholesterol</th>\n",
              "      <th>prognosis</th>\n",
              "    </tr>\n",
              "  </thead>\n",
              "  <tbody>\n",
              "    <tr>\n",
              "      <th>0</th>\n",
              "      <td>77</td>\n",
              "      <td>85.288742</td>\n",
              "      <td>80.021878</td>\n",
              "      <td>79.957109</td>\n",
              "      <td>1</td>\n",
              "    </tr>\n",
              "    <tr>\n",
              "      <th>1</th>\n",
              "      <td>63</td>\n",
              "      <td>99.379736</td>\n",
              "      <td>84.852361</td>\n",
              "      <td>110.382411</td>\n",
              "      <td>1</td>\n",
              "    </tr>\n",
              "    <tr>\n",
              "      <th>2</th>\n",
              "      <td>69</td>\n",
              "      <td>111.349455</td>\n",
              "      <td>109.850616</td>\n",
              "      <td>100.828246</td>\n",
              "      <td>1</td>\n",
              "    </tr>\n",
              "    <tr>\n",
              "      <th>3</th>\n",
              "      <td>82</td>\n",
              "      <td>95.056128</td>\n",
              "      <td>79.666851</td>\n",
              "      <td>87.066303</td>\n",
              "      <td>1</td>\n",
              "    </tr>\n",
              "    <tr>\n",
              "      <th>4</th>\n",
              "      <td>78</td>\n",
              "      <td>109.154591</td>\n",
              "      <td>90.713220</td>\n",
              "      <td>92.511770</td>\n",
              "      <td>1</td>\n",
              "    </tr>\n",
              "    <tr>\n",
              "      <th>...</th>\n",
              "      <td>...</td>\n",
              "      <td>...</td>\n",
              "      <td>...</td>\n",
              "      <td>...</td>\n",
              "      <td>...</td>\n",
              "    </tr>\n",
              "    <tr>\n",
              "      <th>5995</th>\n",
              "      <td>49</td>\n",
              "      <td>94.857639</td>\n",
              "      <td>86.615671</td>\n",
              "      <td>107.643986</td>\n",
              "      <td>0</td>\n",
              "    </tr>\n",
              "    <tr>\n",
              "      <th>5996</th>\n",
              "      <td>63</td>\n",
              "      <td>100.039527</td>\n",
              "      <td>93.515186</td>\n",
              "      <td>104.971404</td>\n",
              "      <td>1</td>\n",
              "    </tr>\n",
              "    <tr>\n",
              "      <th>5997</th>\n",
              "      <td>55</td>\n",
              "      <td>98.421446</td>\n",
              "      <td>102.697875</td>\n",
              "      <td>120.875951</td>\n",
              "      <td>1</td>\n",
              "    </tr>\n",
              "    <tr>\n",
              "      <th>5998</th>\n",
              "      <td>63</td>\n",
              "      <td>106.809289</td>\n",
              "      <td>88.060631</td>\n",
              "      <td>106.052213</td>\n",
              "      <td>1</td>\n",
              "    </tr>\n",
              "    <tr>\n",
              "      <th>5999</th>\n",
              "      <td>62</td>\n",
              "      <td>96.900784</td>\n",
              "      <td>86.878033</td>\n",
              "      <td>108.625436</td>\n",
              "      <td>0</td>\n",
              "    </tr>\n",
              "  </tbody>\n",
              "</table>\n",
              "<p>6000 rows × 5 columns</p>\n",
              "</div>"
            ],
            "text/plain": [
              "      age  systolic_bp  diastolic_bp  cholesterol  prognosis\n",
              "0      77    85.288742     80.021878    79.957109          1\n",
              "1      63    99.379736     84.852361   110.382411          1\n",
              "2      69   111.349455    109.850616   100.828246          1\n",
              "3      82    95.056128     79.666851    87.066303          1\n",
              "4      78   109.154591     90.713220    92.511770          1\n",
              "...   ...          ...           ...          ...        ...\n",
              "5995   49    94.857639     86.615671   107.643986          0\n",
              "5996   63   100.039527     93.515186   104.971404          1\n",
              "5997   55    98.421446    102.697875   120.875951          1\n",
              "5998   63   106.809289     88.060631   106.052213          1\n",
              "5999   62    96.900784     86.878033   108.625436          0\n",
              "\n",
              "[6000 rows x 5 columns]"
            ]
          },
          "execution_count": 106,
          "metadata": {},
          "output_type": "execute_result"
        }
      ],
      "source": [
        "df_out=df.copy()\n",
        "df_out"
      ]
    },
    {
      "cell_type": "code",
      "execution_count": null,
      "metadata": {
        "id": "OyZZTIjq_rkk",
        "outputId": "a201979a-e58b-4c40-b674-11513685ea0c"
      },
      "outputs": [
        {
          "name": "stdout",
          "output_type": "stream",
          "text": [
            "           age  systolic_bp  diastolic_bp  cholesterol  prognosis\n",
            "0     1.988753     1.444088      1.086684     1.981315   0.971409\n",
            "1     0.354305     0.123270      0.585981     0.934929   0.971409\n",
            "2     1.054783     0.998712      2.005212     0.019169   0.971409\n",
            "3     2.572484     0.528543      1.123484     1.299904   0.971409\n",
            "4     2.105499     0.792976      0.021526     0.777959   0.971409\n",
            "...        ...          ...           ...          ...        ...\n",
            "5995  1.280142     0.547148      0.403205     0.672453   1.029433\n",
            "5996  0.354305     0.061424      0.311964     0.416288   0.971409\n",
            "5997  0.579664     0.213095      1.263795     1.940727   0.971409\n",
            "5998  0.354305     0.573139      0.253428     0.519882   0.971409\n",
            "5999  0.237559     0.355634      0.376010     0.766524   1.029433\n",
            "\n",
            "[6000 rows x 5 columns]\n"
          ]
        }
      ],
      "source": [
        "from scipy import stats\n",
        "import numpy as np\n",
        " \n",
        "z = np.abs(stats.zscore(df_out))\n",
        "print(z)\n"
      ]
    },
    {
      "cell_type": "code",
      "execution_count": null,
      "metadata": {
        "colab": {
          "base_uri": "https://localhost:8080/"
        },
        "id": "bdl6yQJDOJF2",
        "outputId": "fb3f0a9e-debe-4866-ea7f-6a5ec5640626"
      },
      "outputs": [
        {
          "name": "stdout",
          "output_type": "stream",
          "text": [
            "(array([ 152,  242,  367,  389,  406,  430,  494,  504,  534,  545,  589,\n",
            "        660,  819,  898,  943, 1002, 1032, 1054, 1114, 1283, 1300, 1351,\n",
            "       1397, 1413, 1442, 1488, 1587, 1588, 1760, 1784, 1816, 1873, 1920,\n",
            "       2060, 2100, 2110, 2119, 2320, 2333, 2605, 2634, 2659, 2690, 3006,\n",
            "       3015, 3082, 3118, 3184, 3187, 3198, 3230, 3277, 3447, 3516, 3577,\n",
            "       3658, 3690, 3826, 3830, 3851, 3866, 4032, 4208, 4279, 4309, 4319,\n",
            "       4388, 4443, 4472, 4472, 4559, 4579, 4610, 4676, 4725, 4737, 4755,\n",
            "       4858, 4873, 4873, 4886, 4909, 5014, 5155, 5311, 5336, 5429, 5488,\n",
            "       5656, 5662, 5665, 5667, 5681, 5748, 5790, 5959], dtype=int64), array([3, 2, 1, 1, 2, 2, 0, 1, 1, 2, 2, 2, 2, 0, 0, 3, 1, 0, 0, 3, 3, 0,\n",
            "       2, 1, 1, 0, 0, 1, 2, 3, 0, 3, 3, 0, 3, 2, 3, 3, 2, 1, 3, 3, 1, 2,\n",
            "       2, 0, 0, 0, 3, 1, 0, 1, 0, 3, 0, 0, 0, 0, 3, 0, 1, 1, 2, 2, 3, 2,\n",
            "       2, 0, 0, 2, 0, 0, 1, 0, 0, 3, 1, 1, 1, 2, 3, 0, 1, 3, 1, 3, 3, 2,\n",
            "       0, 1, 0, 2, 0, 3, 1, 0], dtype=int64))\n"
          ]
        }
      ],
      "source": [
        "print(np.where(z > 3))"
      ]
    },
    {
      "cell_type": "code",
      "execution_count": null,
      "metadata": {
        "id": "CPs-iK2aN1jc"
      },
      "outputs": [],
      "source": [
        "from sklearn.ensemble import IsolationForest"
      ]
    },
    {
      "cell_type": "code",
      "execution_count": null,
      "metadata": {
        "colab": {
          "base_uri": "https://localhost:8080/"
        },
        "id": "sgAfDetdQ7Md",
        "outputId": "926e6bfb-c257-47a5-f580-c2453156b9a7"
      },
      "outputs": [
        {
          "name": "stderr",
          "output_type": "stream",
          "text": [
            "C:\\Users\\rajja\\anaconda3\\lib\\site-packages\\sklearn\\base.py:450: UserWarning: X does not have valid feature names, but IsolationForest was fitted with feature names\n",
            "  warnings.warn(\n"
          ]
        },
        {
          "data": {
            "text/plain": [
              "IsolationForest(contamination=0.01, random_state=61)"
            ]
          },
          "execution_count": 110,
          "metadata": {},
          "output_type": "execute_result"
        }
      ],
      "source": [
        "clf = IsolationForest(random_state=61,contamination=.01)\n",
        "clf.fit(df_out)"
      ]
    },
    {
      "cell_type": "code",
      "execution_count": null,
      "metadata": {
        "colab": {
          "base_uri": "https://localhost:8080/"
        },
        "id": "ZKglhcNBRB95",
        "outputId": "1e2ce7e7-e2e4-4f45-eae6-e912ac39f866"
      },
      "outputs": [
        {
          "data": {
            "text/plain": [
              "IsolationForest(contamination=0.01, random_state=61)"
            ]
          },
          "execution_count": 111,
          "metadata": {},
          "output_type": "execute_result"
        }
      ],
      "source": [
        "clf"
      ]
    },
    {
      "cell_type": "code",
      "execution_count": null,
      "metadata": {
        "id": "U0X3GtxnRJtv"
      },
      "outputs": [],
      "source": [
        "outliers = clf.predict(df_out)\n",
        "outliers=pd.DataFrame(data=outliers, columns=['out'])"
      ]
    },
    {
      "cell_type": "code",
      "execution_count": null,
      "metadata": {
        "colab": {
          "base_uri": "https://localhost:8080/",
          "height": 424
        },
        "id": "IC-22_aZRPMB",
        "outputId": "3c70c556-a641-423a-c809-a12193fc2005"
      },
      "outputs": [
        {
          "data": {
            "text/html": [
              "<div>\n",
              "<style scoped>\n",
              "    .dataframe tbody tr th:only-of-type {\n",
              "        vertical-align: middle;\n",
              "    }\n",
              "\n",
              "    .dataframe tbody tr th {\n",
              "        vertical-align: top;\n",
              "    }\n",
              "\n",
              "    .dataframe thead th {\n",
              "        text-align: right;\n",
              "    }\n",
              "</style>\n",
              "<table border=\"1\" class=\"dataframe\">\n",
              "  <thead>\n",
              "    <tr style=\"text-align: right;\">\n",
              "      <th></th>\n",
              "      <th>age</th>\n",
              "      <th>systolic_bp</th>\n",
              "      <th>diastolic_bp</th>\n",
              "      <th>cholesterol</th>\n",
              "      <th>prognosis</th>\n",
              "      <th>out</th>\n",
              "    </tr>\n",
              "  </thead>\n",
              "  <tbody>\n",
              "    <tr>\n",
              "      <th>0</th>\n",
              "      <td>77</td>\n",
              "      <td>85.288742</td>\n",
              "      <td>80.021878</td>\n",
              "      <td>79.957109</td>\n",
              "      <td>1</td>\n",
              "      <td>1</td>\n",
              "    </tr>\n",
              "    <tr>\n",
              "      <th>1</th>\n",
              "      <td>63</td>\n",
              "      <td>99.379736</td>\n",
              "      <td>84.852361</td>\n",
              "      <td>110.382411</td>\n",
              "      <td>1</td>\n",
              "      <td>1</td>\n",
              "    </tr>\n",
              "    <tr>\n",
              "      <th>2</th>\n",
              "      <td>69</td>\n",
              "      <td>111.349455</td>\n",
              "      <td>109.850616</td>\n",
              "      <td>100.828246</td>\n",
              "      <td>1</td>\n",
              "      <td>1</td>\n",
              "    </tr>\n",
              "    <tr>\n",
              "      <th>3</th>\n",
              "      <td>82</td>\n",
              "      <td>95.056128</td>\n",
              "      <td>79.666851</td>\n",
              "      <td>87.066303</td>\n",
              "      <td>1</td>\n",
              "      <td>1</td>\n",
              "    </tr>\n",
              "    <tr>\n",
              "      <th>4</th>\n",
              "      <td>78</td>\n",
              "      <td>109.154591</td>\n",
              "      <td>90.713220</td>\n",
              "      <td>92.511770</td>\n",
              "      <td>1</td>\n",
              "      <td>1</td>\n",
              "    </tr>\n",
              "    <tr>\n",
              "      <th>...</th>\n",
              "      <td>...</td>\n",
              "      <td>...</td>\n",
              "      <td>...</td>\n",
              "      <td>...</td>\n",
              "      <td>...</td>\n",
              "      <td>...</td>\n",
              "    </tr>\n",
              "    <tr>\n",
              "      <th>5995</th>\n",
              "      <td>49</td>\n",
              "      <td>94.857639</td>\n",
              "      <td>86.615671</td>\n",
              "      <td>107.643986</td>\n",
              "      <td>0</td>\n",
              "      <td>1</td>\n",
              "    </tr>\n",
              "    <tr>\n",
              "      <th>5996</th>\n",
              "      <td>63</td>\n",
              "      <td>100.039527</td>\n",
              "      <td>93.515186</td>\n",
              "      <td>104.971404</td>\n",
              "      <td>1</td>\n",
              "      <td>1</td>\n",
              "    </tr>\n",
              "    <tr>\n",
              "      <th>5997</th>\n",
              "      <td>55</td>\n",
              "      <td>98.421446</td>\n",
              "      <td>102.697875</td>\n",
              "      <td>120.875951</td>\n",
              "      <td>1</td>\n",
              "      <td>1</td>\n",
              "    </tr>\n",
              "    <tr>\n",
              "      <th>5998</th>\n",
              "      <td>63</td>\n",
              "      <td>106.809289</td>\n",
              "      <td>88.060631</td>\n",
              "      <td>106.052213</td>\n",
              "      <td>1</td>\n",
              "      <td>1</td>\n",
              "    </tr>\n",
              "    <tr>\n",
              "      <th>5999</th>\n",
              "      <td>62</td>\n",
              "      <td>96.900784</td>\n",
              "      <td>86.878033</td>\n",
              "      <td>108.625436</td>\n",
              "      <td>0</td>\n",
              "      <td>1</td>\n",
              "    </tr>\n",
              "  </tbody>\n",
              "</table>\n",
              "<p>6000 rows × 6 columns</p>\n",
              "</div>"
            ],
            "text/plain": [
              "      age  systolic_bp  diastolic_bp  cholesterol  prognosis  out\n",
              "0      77    85.288742     80.021878    79.957109          1    1\n",
              "1      63    99.379736     84.852361   110.382411          1    1\n",
              "2      69   111.349455    109.850616   100.828246          1    1\n",
              "3      82    95.056128     79.666851    87.066303          1    1\n",
              "4      78   109.154591     90.713220    92.511770          1    1\n",
              "...   ...          ...           ...          ...        ...  ...\n",
              "5995   49    94.857639     86.615671   107.643986          0    1\n",
              "5996   63   100.039527     93.515186   104.971404          1    1\n",
              "5997   55    98.421446    102.697875   120.875951          1    1\n",
              "5998   63   106.809289     88.060631   106.052213          1    1\n",
              "5999   62    96.900784     86.878033   108.625436          0    1\n",
              "\n",
              "[6000 rows x 6 columns]"
            ]
          },
          "execution_count": 113,
          "metadata": {},
          "output_type": "execute_result"
        }
      ],
      "source": [
        "outliers\n",
        "out=pd.concat([df_out, outliers], axis=1)\n",
        "out"
      ]
    },
    {
      "cell_type": "code",
      "execution_count": null,
      "metadata": {
        "colab": {
          "base_uri": "https://localhost:8080/",
          "height": 1000
        },
        "id": "bZUelttNRQiW",
        "outputId": "03f81f02-73dd-4f77-ce2d-8107e0775799"
      },
      "outputs": [
        {
          "data": {
            "text/html": [
              "<div>\n",
              "<style scoped>\n",
              "    .dataframe tbody tr th:only-of-type {\n",
              "        vertical-align: middle;\n",
              "    }\n",
              "\n",
              "    .dataframe tbody tr th {\n",
              "        vertical-align: top;\n",
              "    }\n",
              "\n",
              "    .dataframe thead th {\n",
              "        text-align: right;\n",
              "    }\n",
              "</style>\n",
              "<table border=\"1\" class=\"dataframe\">\n",
              "  <thead>\n",
              "    <tr style=\"text-align: right;\">\n",
              "      <th></th>\n",
              "      <th>age</th>\n",
              "      <th>systolic_bp</th>\n",
              "      <th>diastolic_bp</th>\n",
              "      <th>cholesterol</th>\n",
              "      <th>prognosis</th>\n",
              "      <th>out</th>\n",
              "    </tr>\n",
              "  </thead>\n",
              "  <tbody>\n",
              "    <tr>\n",
              "      <th>20</th>\n",
              "      <td>41</td>\n",
              "      <td>113.817344</td>\n",
              "      <td>116.311952</td>\n",
              "      <td>117.852312</td>\n",
              "      <td>1</td>\n",
              "      <td>-1</td>\n",
              "    </tr>\n",
              "    <tr>\n",
              "      <th>113</th>\n",
              "      <td>78</td>\n",
              "      <td>121.705207</td>\n",
              "      <td>111.885945</td>\n",
              "      <td>123.472160</td>\n",
              "      <td>1</td>\n",
              "      <td>-1</td>\n",
              "    </tr>\n",
              "    <tr>\n",
              "      <th>258</th>\n",
              "      <td>47</td>\n",
              "      <td>118.122776</td>\n",
              "      <td>113.775369</td>\n",
              "      <td>118.147993</td>\n",
              "      <td>0</td>\n",
              "      <td>-1</td>\n",
              "    </tr>\n",
              "    <tr>\n",
              "      <th>334</th>\n",
              "      <td>41</td>\n",
              "      <td>115.573158</td>\n",
              "      <td>113.922177</td>\n",
              "      <td>112.909909</td>\n",
              "      <td>0</td>\n",
              "      <td>-1</td>\n",
              "    </tr>\n",
              "    <tr>\n",
              "      <th>414</th>\n",
              "      <td>76</td>\n",
              "      <td>77.119847</td>\n",
              "      <td>70.629110</td>\n",
              "      <td>79.124119</td>\n",
              "      <td>1</td>\n",
              "      <td>-1</td>\n",
              "    </tr>\n",
              "    <tr>\n",
              "      <th>470</th>\n",
              "      <td>44</td>\n",
              "      <td>87.107620</td>\n",
              "      <td>66.420142</td>\n",
              "      <td>79.098566</td>\n",
              "      <td>0</td>\n",
              "      <td>-1</td>\n",
              "    </tr>\n",
              "    <tr>\n",
              "      <th>485</th>\n",
              "      <td>41</td>\n",
              "      <td>118.526754</td>\n",
              "      <td>108.362931</td>\n",
              "      <td>126.901751</td>\n",
              "      <td>1</td>\n",
              "      <td>-1</td>\n",
              "    </tr>\n",
              "    <tr>\n",
              "      <th>589</th>\n",
              "      <td>38</td>\n",
              "      <td>106.671573</td>\n",
              "      <td>120.972543</td>\n",
              "      <td>107.418557</td>\n",
              "      <td>1</td>\n",
              "      <td>-1</td>\n",
              "    </tr>\n",
              "    <tr>\n",
              "      <th>819</th>\n",
              "      <td>60</td>\n",
              "      <td>110.094324</td>\n",
              "      <td>128.568519</td>\n",
              "      <td>131.925347</td>\n",
              "      <td>1</td>\n",
              "      <td>-1</td>\n",
              "    </tr>\n",
              "    <tr>\n",
              "      <th>839</th>\n",
              "      <td>62</td>\n",
              "      <td>116.394422</td>\n",
              "      <td>109.388297</td>\n",
              "      <td>131.422153</td>\n",
              "      <td>0</td>\n",
              "      <td>-1</td>\n",
              "    </tr>\n",
              "    <tr>\n",
              "      <th>927</th>\n",
              "      <td>57</td>\n",
              "      <td>131.114228</td>\n",
              "      <td>116.533523</td>\n",
              "      <td>123.362645</td>\n",
              "      <td>1</td>\n",
              "      <td>-1</td>\n",
              "    </tr>\n",
              "    <tr>\n",
              "      <th>1002</th>\n",
              "      <td>56</td>\n",
              "      <td>125.727737</td>\n",
              "      <td>104.201718</td>\n",
              "      <td>140.607313</td>\n",
              "      <td>1</td>\n",
              "      <td>-1</td>\n",
              "    </tr>\n",
              "    <tr>\n",
              "      <th>1032</th>\n",
              "      <td>58</td>\n",
              "      <td>136.205482</td>\n",
              "      <td>97.084642</td>\n",
              "      <td>129.562672</td>\n",
              "      <td>1</td>\n",
              "      <td>-1</td>\n",
              "    </tr>\n",
              "    <tr>\n",
              "      <th>1267</th>\n",
              "      <td>82</td>\n",
              "      <td>105.448673</td>\n",
              "      <td>117.458073</td>\n",
              "      <td>106.647082</td>\n",
              "      <td>1</td>\n",
              "      <td>-1</td>\n",
              "    </tr>\n",
              "    <tr>\n",
              "      <th>1397</th>\n",
              "      <td>45</td>\n",
              "      <td>127.260297</td>\n",
              "      <td>123.928961</td>\n",
              "      <td>105.960085</td>\n",
              "      <td>1</td>\n",
              "      <td>-1</td>\n",
              "    </tr>\n",
              "    <tr>\n",
              "      <th>1538</th>\n",
              "      <td>76</td>\n",
              "      <td>96.440089</td>\n",
              "      <td>88.579615</td>\n",
              "      <td>121.526416</td>\n",
              "      <td>0</td>\n",
              "      <td>-1</td>\n",
              "    </tr>\n",
              "    <tr>\n",
              "      <th>1829</th>\n",
              "      <td>60</td>\n",
              "      <td>72.084232</td>\n",
              "      <td>65.904303</td>\n",
              "      <td>80.548486</td>\n",
              "      <td>1</td>\n",
              "      <td>-1</td>\n",
              "    </tr>\n",
              "    <tr>\n",
              "      <th>1873</th>\n",
              "      <td>47</td>\n",
              "      <td>109.486845</td>\n",
              "      <td>111.672715</td>\n",
              "      <td>134.470779</td>\n",
              "      <td>1</td>\n",
              "      <td>-1</td>\n",
              "    </tr>\n",
              "    <tr>\n",
              "      <th>1935</th>\n",
              "      <td>72</td>\n",
              "      <td>126.000036</td>\n",
              "      <td>118.632604</td>\n",
              "      <td>110.848580</td>\n",
              "      <td>1</td>\n",
              "      <td>-1</td>\n",
              "    </tr>\n",
              "    <tr>\n",
              "      <th>2037</th>\n",
              "      <td>74</td>\n",
              "      <td>71.998590</td>\n",
              "      <td>84.715959</td>\n",
              "      <td>71.777424</td>\n",
              "      <td>0</td>\n",
              "      <td>-1</td>\n",
              "    </tr>\n",
              "    <tr>\n",
              "      <th>2110</th>\n",
              "      <td>76</td>\n",
              "      <td>125.990003</td>\n",
              "      <td>120.627887</td>\n",
              "      <td>104.320675</td>\n",
              "      <td>1</td>\n",
              "      <td>-1</td>\n",
              "    </tr>\n",
              "    <tr>\n",
              "      <th>2163</th>\n",
              "      <td>70</td>\n",
              "      <td>95.137349</td>\n",
              "      <td>111.124326</td>\n",
              "      <td>120.504965</td>\n",
              "      <td>0</td>\n",
              "      <td>-1</td>\n",
              "    </tr>\n",
              "    <tr>\n",
              "      <th>2294</th>\n",
              "      <td>85</td>\n",
              "      <td>124.703568</td>\n",
              "      <td>102.211700</td>\n",
              "      <td>118.838110</td>\n",
              "      <td>1</td>\n",
              "      <td>-1</td>\n",
              "    </tr>\n",
              "    <tr>\n",
              "      <th>2333</th>\n",
              "      <td>50</td>\n",
              "      <td>113.679011</td>\n",
              "      <td>121.968379</td>\n",
              "      <td>125.717840</td>\n",
              "      <td>0</td>\n",
              "      <td>-1</td>\n",
              "    </tr>\n",
              "    <tr>\n",
              "      <th>2388</th>\n",
              "      <td>57</td>\n",
              "      <td>129.083308</td>\n",
              "      <td>108.709958</td>\n",
              "      <td>125.206436</td>\n",
              "      <td>1</td>\n",
              "      <td>-1</td>\n",
              "    </tr>\n",
              "    <tr>\n",
              "      <th>2605</th>\n",
              "      <td>52</td>\n",
              "      <td>150.670082</td>\n",
              "      <td>113.691693</td>\n",
              "      <td>129.862805</td>\n",
              "      <td>1</td>\n",
              "      <td>-1</td>\n",
              "    </tr>\n",
              "    <tr>\n",
              "      <th>3047</th>\n",
              "      <td>81</td>\n",
              "      <td>131.517979</td>\n",
              "      <td>93.078759</td>\n",
              "      <td>123.475622</td>\n",
              "      <td>1</td>\n",
              "      <td>-1</td>\n",
              "    </tr>\n",
              "    <tr>\n",
              "      <th>3118</th>\n",
              "      <td>103</td>\n",
              "      <td>132.189203</td>\n",
              "      <td>86.577142</td>\n",
              "      <td>109.353330</td>\n",
              "      <td>1</td>\n",
              "      <td>-1</td>\n",
              "    </tr>\n",
              "    <tr>\n",
              "      <th>3184</th>\n",
              "      <td>89</td>\n",
              "      <td>109.975845</td>\n",
              "      <td>109.074929</td>\n",
              "      <td>90.734240</td>\n",
              "      <td>1</td>\n",
              "      <td>-1</td>\n",
              "    </tr>\n",
              "    <tr>\n",
              "      <th>3187</th>\n",
              "      <td>68</td>\n",
              "      <td>118.094693</td>\n",
              "      <td>111.178816</td>\n",
              "      <td>142.720878</td>\n",
              "      <td>1</td>\n",
              "      <td>-1</td>\n",
              "    </tr>\n",
              "    <tr>\n",
              "      <th>3198</th>\n",
              "      <td>61</td>\n",
              "      <td>136.061132</td>\n",
              "      <td>106.924470</td>\n",
              "      <td>127.694375</td>\n",
              "      <td>1</td>\n",
              "      <td>-1</td>\n",
              "    </tr>\n",
              "    <tr>\n",
              "      <th>3436</th>\n",
              "      <td>68</td>\n",
              "      <td>79.009789</td>\n",
              "      <td>69.296967</td>\n",
              "      <td>76.432622</td>\n",
              "      <td>0</td>\n",
              "      <td>-1</td>\n",
              "    </tr>\n",
              "    <tr>\n",
              "      <th>3454</th>\n",
              "      <td>43</td>\n",
              "      <td>77.415566</td>\n",
              "      <td>63.583638</td>\n",
              "      <td>75.732215</td>\n",
              "      <td>0</td>\n",
              "      <td>-1</td>\n",
              "    </tr>\n",
              "    <tr>\n",
              "      <th>3516</th>\n",
              "      <td>70</td>\n",
              "      <td>126.943444</td>\n",
              "      <td>115.147536</td>\n",
              "      <td>137.071438</td>\n",
              "      <td>1</td>\n",
              "      <td>-1</td>\n",
              "    </tr>\n",
              "    <tr>\n",
              "      <th>3652</th>\n",
              "      <td>81</td>\n",
              "      <td>110.701529</td>\n",
              "      <td>76.223159</td>\n",
              "      <td>126.408696</td>\n",
              "      <td>1</td>\n",
              "      <td>-1</td>\n",
              "    </tr>\n",
              "    <tr>\n",
              "      <th>3681</th>\n",
              "      <td>74</td>\n",
              "      <td>82.462204</td>\n",
              "      <td>73.556070</td>\n",
              "      <td>76.738894</td>\n",
              "      <td>1</td>\n",
              "      <td>-1</td>\n",
              "    </tr>\n",
              "    <tr>\n",
              "      <th>4013</th>\n",
              "      <td>45</td>\n",
              "      <td>119.904383</td>\n",
              "      <td>118.460035</td>\n",
              "      <td>120.818547</td>\n",
              "      <td>0</td>\n",
              "      <td>-1</td>\n",
              "    </tr>\n",
              "    <tr>\n",
              "      <th>4163</th>\n",
              "      <td>68</td>\n",
              "      <td>75.521545</td>\n",
              "      <td>64.065367</td>\n",
              "      <td>89.098375</td>\n",
              "      <td>1</td>\n",
              "      <td>-1</td>\n",
              "    </tr>\n",
              "    <tr>\n",
              "      <th>4213</th>\n",
              "      <td>61</td>\n",
              "      <td>75.034395</td>\n",
              "      <td>69.346813</td>\n",
              "      <td>76.666163</td>\n",
              "      <td>0</td>\n",
              "      <td>-1</td>\n",
              "    </tr>\n",
              "    <tr>\n",
              "      <th>4319</th>\n",
              "      <td>59</td>\n",
              "      <td>125.342118</td>\n",
              "      <td>120.543885</td>\n",
              "      <td>117.570998</td>\n",
              "      <td>1</td>\n",
              "      <td>-1</td>\n",
              "    </tr>\n",
              "    <tr>\n",
              "      <th>4397</th>\n",
              "      <td>43</td>\n",
              "      <td>75.353934</td>\n",
              "      <td>77.783510</td>\n",
              "      <td>80.466200</td>\n",
              "      <td>0</td>\n",
              "      <td>-1</td>\n",
              "    </tr>\n",
              "    <tr>\n",
              "      <th>4472</th>\n",
              "      <td>87</td>\n",
              "      <td>105.897902</td>\n",
              "      <td>121.732205</td>\n",
              "      <td>100.396401</td>\n",
              "      <td>1</td>\n",
              "      <td>-1</td>\n",
              "    </tr>\n",
              "    <tr>\n",
              "      <th>4710</th>\n",
              "      <td>44</td>\n",
              "      <td>110.788632</td>\n",
              "      <td>111.458367</td>\n",
              "      <td>125.286185</td>\n",
              "      <td>1</td>\n",
              "      <td>-1</td>\n",
              "    </tr>\n",
              "    <tr>\n",
              "      <th>4737</th>\n",
              "      <td>45</td>\n",
              "      <td>119.493737</td>\n",
              "      <td>99.408317</td>\n",
              "      <td>141.703592</td>\n",
              "      <td>1</td>\n",
              "      <td>-1</td>\n",
              "    </tr>\n",
              "    <tr>\n",
              "      <th>4755</th>\n",
              "      <td>61</td>\n",
              "      <td>143.062378</td>\n",
              "      <td>116.420401</td>\n",
              "      <td>128.983542</td>\n",
              "      <td>1</td>\n",
              "      <td>-1</td>\n",
              "    </tr>\n",
              "    <tr>\n",
              "      <th>4873</th>\n",
              "      <td>58</td>\n",
              "      <td>134.798196</td>\n",
              "      <td>121.820043</td>\n",
              "      <td>129.994146</td>\n",
              "      <td>1</td>\n",
              "      <td>-1</td>\n",
              "    </tr>\n",
              "    <tr>\n",
              "      <th>4886</th>\n",
              "      <td>67</td>\n",
              "      <td>109.394057</td>\n",
              "      <td>117.753062</td>\n",
              "      <td>136.812161</td>\n",
              "      <td>1</td>\n",
              "      <td>-1</td>\n",
              "    </tr>\n",
              "    <tr>\n",
              "      <th>5023</th>\n",
              "      <td>42</td>\n",
              "      <td>120.003303</td>\n",
              "      <td>103.181393</td>\n",
              "      <td>124.868064</td>\n",
              "      <td>1</td>\n",
              "      <td>-1</td>\n",
              "    </tr>\n",
              "    <tr>\n",
              "      <th>5045</th>\n",
              "      <td>79</td>\n",
              "      <td>93.997813</td>\n",
              "      <td>103.842113</td>\n",
              "      <td>119.437893</td>\n",
              "      <td>0</td>\n",
              "      <td>-1</td>\n",
              "    </tr>\n",
              "    <tr>\n",
              "      <th>5128</th>\n",
              "      <td>73</td>\n",
              "      <td>128.054842</td>\n",
              "      <td>90.865188</td>\n",
              "      <td>129.004966</td>\n",
              "      <td>1</td>\n",
              "      <td>-1</td>\n",
              "    </tr>\n",
              "    <tr>\n",
              "      <th>5155</th>\n",
              "      <td>45</td>\n",
              "      <td>120.950071</td>\n",
              "      <td>97.291452</td>\n",
              "      <td>142.280689</td>\n",
              "      <td>1</td>\n",
              "      <td>-1</td>\n",
              "    </tr>\n",
              "    <tr>\n",
              "      <th>5261</th>\n",
              "      <td>85</td>\n",
              "      <td>85.315185</td>\n",
              "      <td>74.044854</td>\n",
              "      <td>79.360710</td>\n",
              "      <td>1</td>\n",
              "      <td>-1</td>\n",
              "    </tr>\n",
              "    <tr>\n",
              "      <th>5336</th>\n",
              "      <td>48</td>\n",
              "      <td>124.335522</td>\n",
              "      <td>108.984458</td>\n",
              "      <td>144.712660</td>\n",
              "      <td>1</td>\n",
              "      <td>-1</td>\n",
              "    </tr>\n",
              "    <tr>\n",
              "      <th>5429</th>\n",
              "      <td>61</td>\n",
              "      <td>105.754866</td>\n",
              "      <td>117.400561</td>\n",
              "      <td>134.705126</td>\n",
              "      <td>1</td>\n",
              "      <td>-1</td>\n",
              "    </tr>\n",
              "    <tr>\n",
              "      <th>5466</th>\n",
              "      <td>44</td>\n",
              "      <td>85.640220</td>\n",
              "      <td>86.023971</td>\n",
              "      <td>125.949913</td>\n",
              "      <td>1</td>\n",
              "      <td>-1</td>\n",
              "    </tr>\n",
              "    <tr>\n",
              "      <th>5477</th>\n",
              "      <td>64</td>\n",
              "      <td>98.635651</td>\n",
              "      <td>107.255219</td>\n",
              "      <td>131.677153</td>\n",
              "      <td>0</td>\n",
              "      <td>-1</td>\n",
              "    </tr>\n",
              "    <tr>\n",
              "      <th>5485</th>\n",
              "      <td>47</td>\n",
              "      <td>74.630948</td>\n",
              "      <td>69.825178</td>\n",
              "      <td>80.127654</td>\n",
              "      <td>0</td>\n",
              "      <td>-1</td>\n",
              "    </tr>\n",
              "    <tr>\n",
              "      <th>5615</th>\n",
              "      <td>81</td>\n",
              "      <td>127.443027</td>\n",
              "      <td>110.436784</td>\n",
              "      <td>121.847080</td>\n",
              "      <td>1</td>\n",
              "      <td>-1</td>\n",
              "    </tr>\n",
              "    <tr>\n",
              "      <th>5616</th>\n",
              "      <td>55</td>\n",
              "      <td>128.808759</td>\n",
              "      <td>106.652282</td>\n",
              "      <td>130.790049</td>\n",
              "      <td>1</td>\n",
              "      <td>-1</td>\n",
              "    </tr>\n",
              "    <tr>\n",
              "      <th>5970</th>\n",
              "      <td>85</td>\n",
              "      <td>120.106129</td>\n",
              "      <td>92.605936</td>\n",
              "      <td>125.065534</td>\n",
              "      <td>1</td>\n",
              "      <td>-1</td>\n",
              "    </tr>\n",
              "  </tbody>\n",
              "</table>\n",
              "</div>"
            ],
            "text/plain": [
              "      age  systolic_bp  diastolic_bp  cholesterol  prognosis  out\n",
              "20     41   113.817344    116.311952   117.852312          1   -1\n",
              "113    78   121.705207    111.885945   123.472160          1   -1\n",
              "258    47   118.122776    113.775369   118.147993          0   -1\n",
              "334    41   115.573158    113.922177   112.909909          0   -1\n",
              "414    76    77.119847     70.629110    79.124119          1   -1\n",
              "470    44    87.107620     66.420142    79.098566          0   -1\n",
              "485    41   118.526754    108.362931   126.901751          1   -1\n",
              "589    38   106.671573    120.972543   107.418557          1   -1\n",
              "819    60   110.094324    128.568519   131.925347          1   -1\n",
              "839    62   116.394422    109.388297   131.422153          0   -1\n",
              "927    57   131.114228    116.533523   123.362645          1   -1\n",
              "1002   56   125.727737    104.201718   140.607313          1   -1\n",
              "1032   58   136.205482     97.084642   129.562672          1   -1\n",
              "1267   82   105.448673    117.458073   106.647082          1   -1\n",
              "1397   45   127.260297    123.928961   105.960085          1   -1\n",
              "1538   76    96.440089     88.579615   121.526416          0   -1\n",
              "1829   60    72.084232     65.904303    80.548486          1   -1\n",
              "1873   47   109.486845    111.672715   134.470779          1   -1\n",
              "1935   72   126.000036    118.632604   110.848580          1   -1\n",
              "2037   74    71.998590     84.715959    71.777424          0   -1\n",
              "2110   76   125.990003    120.627887   104.320675          1   -1\n",
              "2163   70    95.137349    111.124326   120.504965          0   -1\n",
              "2294   85   124.703568    102.211700   118.838110          1   -1\n",
              "2333   50   113.679011    121.968379   125.717840          0   -1\n",
              "2388   57   129.083308    108.709958   125.206436          1   -1\n",
              "2605   52   150.670082    113.691693   129.862805          1   -1\n",
              "3047   81   131.517979     93.078759   123.475622          1   -1\n",
              "3118  103   132.189203     86.577142   109.353330          1   -1\n",
              "3184   89   109.975845    109.074929    90.734240          1   -1\n",
              "3187   68   118.094693    111.178816   142.720878          1   -1\n",
              "3198   61   136.061132    106.924470   127.694375          1   -1\n",
              "3436   68    79.009789     69.296967    76.432622          0   -1\n",
              "3454   43    77.415566     63.583638    75.732215          0   -1\n",
              "3516   70   126.943444    115.147536   137.071438          1   -1\n",
              "3652   81   110.701529     76.223159   126.408696          1   -1\n",
              "3681   74    82.462204     73.556070    76.738894          1   -1\n",
              "4013   45   119.904383    118.460035   120.818547          0   -1\n",
              "4163   68    75.521545     64.065367    89.098375          1   -1\n",
              "4213   61    75.034395     69.346813    76.666163          0   -1\n",
              "4319   59   125.342118    120.543885   117.570998          1   -1\n",
              "4397   43    75.353934     77.783510    80.466200          0   -1\n",
              "4472   87   105.897902    121.732205   100.396401          1   -1\n",
              "4710   44   110.788632    111.458367   125.286185          1   -1\n",
              "4737   45   119.493737     99.408317   141.703592          1   -1\n",
              "4755   61   143.062378    116.420401   128.983542          1   -1\n",
              "4873   58   134.798196    121.820043   129.994146          1   -1\n",
              "4886   67   109.394057    117.753062   136.812161          1   -1\n",
              "5023   42   120.003303    103.181393   124.868064          1   -1\n",
              "5045   79    93.997813    103.842113   119.437893          0   -1\n",
              "5128   73   128.054842     90.865188   129.004966          1   -1\n",
              "5155   45   120.950071     97.291452   142.280689          1   -1\n",
              "5261   85    85.315185     74.044854    79.360710          1   -1\n",
              "5336   48   124.335522    108.984458   144.712660          1   -1\n",
              "5429   61   105.754866    117.400561   134.705126          1   -1\n",
              "5466   44    85.640220     86.023971   125.949913          1   -1\n",
              "5477   64    98.635651    107.255219   131.677153          0   -1\n",
              "5485   47    74.630948     69.825178    80.127654          0   -1\n",
              "5615   81   127.443027    110.436784   121.847080          1   -1\n",
              "5616   55   128.808759    106.652282   130.790049          1   -1\n",
              "5970   85   120.106129     92.605936   125.065534          1   -1"
            ]
          },
          "execution_count": 114,
          "metadata": {},
          "output_type": "execute_result"
        }
      ],
      "source": [
        "out[out['out']==-1]"
      ]
    },
    {
      "cell_type": "code",
      "execution_count": null,
      "metadata": {
        "colab": {
          "base_uri": "https://localhost:8080/"
        },
        "id": "OshrdQ80RsJN",
        "outputId": "f3f450e0-0269-4234-d882-55da0cc22cad"
      },
      "outputs": [
        {
          "data": {
            "text/plain": [
              " 1    5940\n",
              "-1      60\n",
              "Name: out, dtype: int64"
            ]
          },
          "execution_count": 115,
          "metadata": {},
          "output_type": "execute_result"
        }
      ],
      "source": [
        "out['out'].value_counts()"
      ]
    },
    {
      "cell_type": "markdown",
      "metadata": {
        "id": "1xV-orhgtlbn"
      },
      "source": [
        "#MODEL BUILDING"
      ]
    },
    {
      "cell_type": "code",
      "execution_count": null,
      "metadata": {
        "colab": {
          "base_uri": "https://localhost:8080/"
        },
        "id": "j8lzDfjU8pF6",
        "outputId": "92930839-87a7-4a9d-d98a-e6a55f7e5af9"
      },
      "outputs": [
        {
          "output_type": "execute_result",
          "data": {
            "text/plain": [
              "Index(['age', 'systolic_bp', 'diastolic_bp', 'cholesterol', 'prognosis'], dtype='object')"
            ]
          },
          "metadata": {},
          "execution_count": 49
        }
      ],
      "source": [
        "df.columns"
      ]
    },
    {
      "cell_type": "code",
      "execution_count": null,
      "metadata": {
        "id": "5niHuTLN65Ke"
      },
      "outputs": [],
      "source": [
        "x=df.iloc[:,0:4]\n",
        "y=df.iloc[:,-1]\n"
      ]
    },
    {
      "cell_type": "code",
      "execution_count": null,
      "metadata": {
        "id": "CGzGLBbP_rkm"
      },
      "outputs": [],
      "source": [
        "from sklearn.model_selection import train_test_split\n",
        "from sklearn.model_selection import KFold\n",
        "from sklearn.model_selection import cross_val_score\n",
        "from sklearn.model_selection import GridSearchCV\n",
        "\n",
        "from sklearn.metrics import confusion_matrix, accuracy_score\n",
        "from sklearn.linear_model import LogisticRegression\n",
        "from sklearn.tree import DecisionTreeClassifier\n",
        "from sklearn.neighbors import KNeighborsClassifier\n",
        "from sklearn.naive_bayes import GaussianNB\n",
        "from sklearn.svm import SVC\n",
        "\n",
        "x_train,x_test,y_train,y_test=train_test_split(x,y,random_state=None,test_size=0.2)\n",
        "\n",
        "# Test options and evaluation metric\n",
        "num_folds = 10\n",
        "seed = 7\n",
        "scoring = 'accuracy'\n",
        "\n",
        "# Check which algorithm is best Algorithms\n",
        "models = []\n",
        "models.append(('LR', LogisticRegression()))\n",
        "models.append(('KNN', KNeighborsClassifier()))\n",
        "models.append(('CART', DecisionTreeClassifier()))\n",
        "models.append(('NB', GaussianNB()))\n",
        "models.append(('SVM', SVC()))\n"
      ]
    },
    {
      "cell_type": "code",
      "execution_count": null,
      "metadata": {
        "id": "RIhT20BC_rkm"
      },
      "outputs": [],
      "source": [
        "results= []\n",
        "names= []"
      ]
    },
    {
      "cell_type": "code",
      "execution_count": null,
      "metadata": {
        "colab": {
          "base_uri": "https://localhost:8080/"
        },
        "id": "PVUL69_m_rkm",
        "outputId": "2c2d8516-e9d5-448d-eb47-758f9f8274d9"
      },
      "outputs": [
        {
          "output_type": "stream",
          "name": "stdout",
          "text": [
            "LR: 0.745625 (0.017292)\n",
            "KNN: 0.712500 (0.015921)\n",
            "CART: 0.654375 (0.020036)\n",
            "NB: 0.735000 (0.020194)\n",
            "SVM: 0.748333 (0.019293)\n"
          ]
        }
      ],
      "source": [
        "for name, model in models:\n",
        "    kfold = KFold(n_splits=num_folds, random_state=None)\n",
        "    cv_results = cross_val_score(model,\n",
        "                                 x_train,\n",
        "                                 y_train,\n",
        "                                 cv=kfold,\n",
        "                                 scoring=scoring)\n",
        "    results.append(cv_results)\n",
        "    names.append(name)\n",
        "    msg = \"%s: %f (%f)\" % (name, cv_results.mean(), cv_results.std())\n",
        "    print(msg)"
      ]
    },
    {
      "cell_type": "code",
      "execution_count": null,
      "metadata": {
        "colab": {
          "base_uri": "https://localhost:8080/",
          "height": 294
        },
        "id": "FQaojYqN_rkm",
        "outputId": "14618c95-261c-4206-c558-cfdd64744012"
      },
      "outputs": [
        {
          "output_type": "display_data",
          "data": {
            "text/plain": [
              "<Figure size 432x288 with 1 Axes>"
            ],
            "image/png": "[encoded data removed]"
          },
          "metadata": {
            "needs_background": "light"
          }
        }
      ],
      "source": [
        "# Compare Algorithms\n",
        "fig = plt.figure()\n",
        "fig.suptitle('Algorithm Comparison')\n",
        "ax = fig.add_subplot(111)\n",
        "plt.boxplot(results)\n",
        "ax.set_xticklabels(names)\n",
        "plt.show()"
      ]
    },
    {
      "cell_type": "code",
      "execution_count": null,
      "metadata": {
        "colab": {
          "base_uri": "https://localhost:8080/"
        },
        "id": "WPWhF83u_rkm",
        "outputId": "5f93f658-ee2a-44d1-b412-1071a115a050"
      },
      "outputs": [
        {
          "output_type": "stream",
          "name": "stdout",
          "text": [
            "Best: 0.748333 using {'kernel': 'rbf'}\n"
          ]
        }
      ],
      "source": [
        "#c_values = [0.1, 0.3, 0.5, 0.7, 0.9, 1.0, 1.3, 1.5, 1.7, 2.0,2.2,2.5]\n",
        "kernel_values = ['linear', 'poly', 'rbf', 'sigmoid']\n",
        "\n",
        "param_grid = dict(kernel=kernel_values)  #Regularization parameter. The strength of the regularization is inversely proportional to C\n",
        "model = SVC()\n",
        "\n",
        "\n",
        "kfold = KFold(n_splits=num_folds, random_state=None)\n",
        "grid = GridSearchCV(estimator=model,\n",
        "                    param_grid=param_grid,\n",
        "                    scoring=scoring,\n",
        "                    cv=kfold)\n",
        "\n",
        "grid_result = grid.fit(x_train, y_train)\n",
        "\n",
        "print(\"Best: %f using %s\" %\n",
        "      (grid_result.best_score_, grid_result.best_params_))"
      ]
    },
    {
      "cell_type": "code",
      "execution_count": null,
      "metadata": {
        "id": "yJ48_UmZ_rkn"
      },
      "outputs": [],
      "source": [
        "means = grid_result.cv_results_['mean_test_score']\n",
        "stds = grid_result.cv_results_['std_test_score']\n",
        "params = grid_result.cv_results_['params']"
      ]
    },
    {
      "cell_type": "code",
      "execution_count": null,
      "metadata": {
        "colab": {
          "base_uri": "https://localhost:8080/"
        },
        "id": "m-qclMqE_rkn",
        "outputId": "2f024e2d-c15e-4975-ef56-5b9e3af1f9dc"
      },
      "outputs": [
        {
          "output_type": "stream",
          "name": "stdout",
          "text": [
            "0.745208 (0.017080) with: {'kernel': 'linear'}\n",
            "0.745208 (0.018353) with: {'kernel': 'poly'}\n",
            "0.748333 (0.019293) with: {'kernel': 'rbf'}\n",
            "0.513333 (0.024192) with: {'kernel': 'sigmoid'}\n"
          ]
        }
      ],
      "source": [
        "for mean, stdev, param in zip(means, stds, params):\n",
        "    print(\"%f (%f) with: %r\" % (mean, stdev, param))"
      ]
    },
    {
      "cell_type": "code",
      "execution_count": null,
      "metadata": {
        "id": "BsO_3svp_rkn"
      },
      "outputs": [],
      "source": [
        "#we will go with svm using rbf kernel"
      ]
    },
    {
      "cell_type": "code",
      "execution_count": null,
      "metadata": {
        "id": "Q4EwTty8_rkn"
      },
      "outputs": [],
      "source": [
        "SVM=SVC(kernel='rbf')"
      ]
    },
    {
      "cell_type": "code",
      "execution_count": null,
      "metadata": {
        "colab": {
          "base_uri": "https://localhost:8080/"
        },
        "id": "MTRGphK__rkn",
        "outputId": "5de3abb4-50f0-418a-ce8e-8249a033a19c"
      },
      "outputs": [
        {
          "output_type": "execute_result",
          "data": {
            "text/plain": [
              "SVC()"
            ]
          },
          "metadata": {},
          "execution_count": 60
        }
      ],
      "source": [
        "SVM.fit(x_train, y_train)"
      ]
    },
    {
      "cell_type": "code",
      "execution_count": null,
      "metadata": {
        "id": "MV0ArKCy_rkn"
      },
      "outputs": [],
      "source": [
        "SVM_pred=SVM.predict(x_test)"
      ]
    },
    {
      "cell_type": "code",
      "execution_count": null,
      "metadata": {
        "colab": {
          "base_uri": "https://localhost:8080/"
        },
        "id": "3lXcl0i3_rkn",
        "outputId": "3c297dd6-a929-4f98-e0c3-7ad7418a494b"
      },
      "outputs": [
        {
          "output_type": "execute_result",
          "data": {
            "text/plain": [
              "0.755"
            ]
          },
          "metadata": {},
          "execution_count": 62
        }
      ],
      "source": [
        "accuracy_score(SVM_pred, y_test)"
      ]
    },
    {
      "cell_type": "code",
      "execution_count": null,
      "metadata": {
        "colab": {
          "base_uri": "https://localhost:8080/"
        },
        "id": "VlPzKGcG_rko",
        "outputId": "541f03cc-1435-4541-ebb0-fd5ce3c701e9"
      },
      "outputs": [
        {
          "output_type": "execute_result",
          "data": {
            "text/plain": [
              "array([[416, 133],\n",
              "       [161, 490]])"
            ]
          },
          "metadata": {},
          "execution_count": 63
        }
      ],
      "source": [
        "confusion_matrix(SVM_pred, y_test)"
      ]
    },
    {
      "cell_type": "markdown",
      "source": [
        "#saving model"
      ],
      "metadata": {
        "id": "IbaaW0onD9H3"
      }
    },
    {
      "cell_type": "code",
      "execution_count": null,
      "metadata": {
        "id": "YA8yGzrp_rko"
      },
      "outputs": [],
      "source": [
        "import pickle\n",
        "\n",
        "filename= 'trained_model.sav'\n",
        "pickle.dump(SVM, open(filename, 'wb'))"
      ]
    },
    {
      "cell_type": "code",
      "source": [
        "! pip install streamlit\n",
        "import streamlit as st"
      ],
      "metadata": {
        "colab": {
          "base_uri": "https://localhost:8080/"
        },
        "id": "Mb1CDfqNMeF2",
        "outputId": "237e9e69-7c7c-442e-8295-46c0975cfbc8"
      },
      "execution_count": null,
      "outputs": [
        {
          "output_type": "stream",
          "name": "stdout",
          "text": [
            "Looking in indexes: https://pypi.org/simple, https://us-python.pkg.dev/colab-wheels/public/simple/\n",
            "Collecting streamlit\n",
            "  Downloading streamlit-1.13.0-py2.py3-none-any.whl (9.2 MB)\n",
            "\u001b[K     |████████████████████████████████| 9.2 MB 7.4 MB/s \n",
            "\u001b[?25hRequirement already satisfied: cachetools>=4.0 in /usr/local/lib/python3.7/dist-packages (from streamlit) (4.2.4)\n",
            "Requirement already satisfied: toml in /usr/local/lib/python3.7/dist-packages (from streamlit) (0.10.2)\n",
            "Collecting pydeck>=0.1.dev5\n",
            "  Downloading pydeck-0.8.0b3-py2.py3-none-any.whl (4.7 MB)\n",
            "\u001b[K     |████████████████████████████████| 4.7 MB 43.3 MB/s \n",
            "\u001b[?25hRequirement already satisfied: packaging>=14.1 in /usr/local/lib/python3.7/dist-packages (from streamlit) (21.3)\n",
            "Requirement already satisfied: tzlocal>=1.1 in /usr/local/lib/python3.7/dist-packages (from streamlit) (1.5.1)\n",
            "Collecting validators>=0.2\n",
            "  Downloading validators-0.20.0.tar.gz (30 kB)\n",
            "Requirement already satisfied: protobuf!=3.20.2,<4,>=3.12 in /usr/local/lib/python3.7/dist-packages (from streamlit) (3.17.3)\n",
            "Collecting gitpython!=3.1.19\n",
            "  Downloading GitPython-3.1.27-py3-none-any.whl (181 kB)\n",
            "\u001b[K     |████████████████████████████████| 181 kB 47.0 MB/s \n",
            "\u001b[?25hCollecting semver\n",
            "  Downloading semver-2.13.0-py2.py3-none-any.whl (12 kB)\n",
            "Requirement already satisfied: numpy in /usr/local/lib/python3.7/dist-packages (from streamlit) (1.21.6)\n",
            "Collecting pympler>=0.9\n",
            "  Downloading Pympler-1.0.1-py3-none-any.whl (164 kB)\n",
            "\u001b[K     |████████████████████████████████| 164 kB 59.2 MB/s \n",
            "\u001b[?25hRequirement already satisfied: altair>=3.2.0 in /usr/local/lib/python3.7/dist-packages (from streamlit) (4.2.0)\n",
            "Collecting blinker>=1.0.0\n",
            "  Downloading blinker-1.5-py2.py3-none-any.whl (12 kB)\n",
            "Requirement already satisfied: importlib-metadata>=1.4 in /usr/local/lib/python3.7/dist-packages (from streamlit) (4.12.0)\n",
            "Collecting rich>=10.11.0\n",
            "  Downloading rich-12.5.1-py3-none-any.whl (235 kB)\n",
            "\u001b[K     |████████████████████████████████| 235 kB 46.2 MB/s \n",
            "\u001b[?25hRequirement already satisfied: click>=7.0 in /usr/local/lib/python3.7/dist-packages (from streamlit) (7.1.2)\n",
            "Requirement already satisfied: pandas>=0.21.0 in /usr/local/lib/python3.7/dist-packages (from streamlit) (1.3.5)\n",
            "Requirement already satisfied: python-dateutil in /usr/local/lib/python3.7/dist-packages (from streamlit) (2.8.2)\n",
            "Requirement already satisfied: requests>=2.4 in /usr/local/lib/python3.7/dist-packages (from streamlit) (2.23.0)\n",
            "Requirement already satisfied: typing-extensions>=3.10.0.0 in /usr/local/lib/python3.7/dist-packages (from streamlit) (4.1.1)\n",
            "Requirement already satisfied: tornado>=5.0 in /usr/local/lib/python3.7/dist-packages (from streamlit) (5.1.1)\n",
            "Collecting watchdog\n",
            "  Downloading watchdog-2.1.9-py3-none-manylinux2014_x86_64.whl (78 kB)\n",
            "\u001b[K     |████████████████████████████████| 78 kB 6.2 MB/s \n",
            "\u001b[?25hRequirement already satisfied: pillow>=6.2.0 in /usr/local/lib/python3.7/dist-packages (from streamlit) (7.1.2)\n",
            "Requirement already satisfied: pyarrow>=4.0 in /usr/local/lib/python3.7/dist-packages (from streamlit) (6.0.1)\n",
            "Requirement already satisfied: entrypoints in /usr/local/lib/python3.7/dist-packages (from altair>=3.2.0->streamlit) (0.4)\n",
            "Requirement already satisfied: jsonschema>=3.0 in /usr/local/lib/python3.7/dist-packages (from altair>=3.2.0->streamlit) (4.3.3)\n",
            "Requirement already satisfied: jinja2 in /usr/local/lib/python3.7/dist-packages (from altair>=3.2.0->streamlit) (2.11.3)\n",
            "Requirement already satisfied: toolz in /usr/local/lib/python3.7/dist-packages (from altair>=3.2.0->streamlit) (0.12.0)\n",
            "Collecting gitdb<5,>=4.0.1\n",
            "  Downloading gitdb-4.0.9-py3-none-any.whl (63 kB)\n",
            "\u001b[K     |████████████████████████████████| 63 kB 1.2 MB/s \n",
            "\u001b[?25hCollecting smmap<6,>=3.0.1\n",
            "  Downloading smmap-5.0.0-py3-none-any.whl (24 kB)\n",
            "Requirement already satisfied: zipp>=0.5 in /usr/local/lib/python3.7/dist-packages (from importlib-metadata>=1.4->streamlit) (3.8.1)\n",
            "Requirement already satisfied: attrs>=17.4.0 in /usr/local/lib/python3.7/dist-packages (from jsonschema>=3.0->altair>=3.2.0->streamlit) (22.1.0)\n",
            "Requirement already satisfied: importlib-resources>=1.4.0 in /usr/local/lib/python3.7/dist-packages (from jsonschema>=3.0->altair>=3.2.0->streamlit) (5.9.0)\n",
            "Requirement already satisfied: pyrsistent!=0.17.0,!=0.17.1,!=0.17.2,>=0.14.0 in /usr/local/lib/python3.7/dist-packages (from jsonschema>=3.0->altair>=3.2.0->streamlit) (0.18.1)\n",
            "Requirement already satisfied: pyparsing!=3.0.5,>=2.0.2 in /usr/local/lib/python3.7/dist-packages (from packaging>=14.1->streamlit) (3.0.9)\n",
            "Requirement already satisfied: pytz>=2017.3 in /usr/local/lib/python3.7/dist-packages (from pandas>=0.21.0->streamlit) (2022.2.1)\n",
            "Requirement already satisfied: six>=1.9 in /usr/local/lib/python3.7/dist-packages (from protobuf!=3.20.2,<4,>=3.12->streamlit) (1.15.0)\n",
            "Requirement already satisfied: MarkupSafe>=0.23 in /usr/local/lib/python3.7/dist-packages (from jinja2->altair>=3.2.0->streamlit) (2.0.1)\n",
            "Requirement already satisfied: urllib3!=1.25.0,!=1.25.1,<1.26,>=1.21.1 in /usr/local/lib/python3.7/dist-packages (from requests>=2.4->streamlit) (1.24.3)\n",
            "Requirement already satisfied: idna<3,>=2.5 in /usr/local/lib/python3.7/dist-packages (from requests>=2.4->streamlit) (2.10)\n",
            "Requirement already satisfied: certifi>=2017.4.17 in /usr/local/lib/python3.7/dist-packages (from requests>=2.4->streamlit) (2022.6.15)\n",
            "Requirement already satisfied: chardet<4,>=3.0.2 in /usr/local/lib/python3.7/dist-packages (from requests>=2.4->streamlit) (3.0.4)\n",
            "Collecting commonmark<0.10.0,>=0.9.0\n",
            "  Downloading commonmark-0.9.1-py2.py3-none-any.whl (51 kB)\n",
            "\u001b[K     |████████████████████████████████| 51 kB 6.6 MB/s \n",
            "\u001b[?25hRequirement already satisfied: pygments<3.0.0,>=2.6.0 in /usr/local/lib/python3.7/dist-packages (from rich>=10.11.0->streamlit) (2.6.1)\n",
            "Requirement already satisfied: decorator>=3.4.0 in /usr/local/lib/python3.7/dist-packages (from validators>=0.2->streamlit) (4.4.2)\n",
            "Building wheels for collected packages: validators\n",
            "  Building wheel for validators (setup.py) ... \u001b[?25l\u001b[?25hdone\n",
            "  Created wheel for validators: filename=validators-0.20.0-py3-none-any.whl size=19582 sha256=64ffba938d2190fcce15ba2d9fc5afb9896d268f8d541fa091f72b83cdee9c65\n",
            "  Stored in directory: /root/.cache/pip/wheels/5f/55/ab/36a76989f7f88d9ca7b1f68da6d94252bb6a8d6ad4f18e04e9\n",
            "Successfully built validators\n",
            "Installing collected packages: smmap, gitdb, commonmark, watchdog, validators, semver, rich, pympler, pydeck, gitpython, blinker, streamlit\n",
            "Successfully installed blinker-1.5 commonmark-0.9.1 gitdb-4.0.9 gitpython-3.1.27 pydeck-0.8.0b3 pympler-1.0.1 rich-12.5.1 semver-2.13.0 smmap-5.0.0 streamlit-1.13.0 validators-0.20.0 watchdog-2.1.9\n"
          ]
        }
      ]
    },
    {
      "cell_type": "markdown",
      "source": [
        "#loading model"
      ],
      "metadata": {
        "id": "nqEqzcWgD-7m"
      }
    },
    {
      "cell_type": "code",
      "source": [
        "loaded_model=pickle.load(open('/content/trained_model.sav', 'rb'))"
      ],
      "metadata": {
        "id": "FA53TIKXD4vg"
      },
      "execution_count": null,
      "outputs": []
    },
    {
      "cell_type": "markdown",
      "source": [
        "#predicting from loaded model\n"
      ],
      "metadata": {
        "id": "6ttcSx8ULJLK"
      }
    },
    {
      "cell_type": "code",
      "source": [
        "input_data = (5,95,82,89)\n",
        "\n",
        "# changing the input_data to numpy array\n",
        "input_data_as_numpy_array = np.asarray(input_data)\n",
        "\n",
        "# reshape the array as we are predicting for one instance\n",
        "input_data_reshaped = input_data_as_numpy_array.reshape(1,-1)\n",
        "\n",
        "prediction = loaded_model.predict(input_data_reshaped)\n",
        "print(prediction)\n",
        "\n",
        "if (prediction[0] == 0):\n",
        "  print (\"The person doesn't has retinopathy\")\n",
        "else:\n",
        "  print (\"The person has retinopathy\")\n",
        "\n",
        "\n",
        "  "
      ],
      "metadata": {
        "colab": {
          "base_uri": "https://localhost:8080/"
        },
        "id": "ryKLjHcZI4Uh",
        "outputId": "bf5646eb-3496-4425-84da-df9f6268fbf3"
      },
      "execution_count": null,
      "outputs": [
        {
          "output_type": "stream",
          "name": "stdout",
          "text": [
            "[0]\n",
            "The person doesn't has retinopathy\n"
          ]
        },
        {
          "output_type": "stream",
          "name": "stderr",
          "text": [
            "/usr/local/lib/python3.7/dist-packages/sklearn/base.py:451: UserWarning: X does not have valid feature names, but SVC was fitted with feature names\n",
            "  \"X does not have valid feature names, but\"\n"
          ]
        }
      ]
    },
    {
      "cell_type": "code",
      "source": [],
      "metadata": {
        "id": "b_txltieOnWT"
      },
      "execution_count": null,
      "outputs": []
    },
    {
      "cell_type": "code",
      "source": [
        "\n"
      ],
      "metadata": {
        "id": "uLrgL8BxOjeJ"
      },
      "execution_count": null,
      "outputs": []
    },
    {
      "cell_type": "markdown",
      "source": [
        "#creating web page\n"
      ],
      "metadata": {
        "id": "OSdVSuuhMVHI"
      }
    },
    {
      "cell_type": "code",
      "source": [
        "\n",
        "def retinopathy_prediction(input_data):\n",
        "\n",
        "    # changing the input_data to numpy array\n",
        "    input_data_as_numpy_array = np.asarray(input_data)\n",
        "\n",
        "    # reshape the array as we are predicting for one instance\n",
        "    input_data_reshaped = input_data_as_numpy_array.reshape(1,-1)\n",
        "\n",
        "    prediction = loaded_model.predict(input_data_reshaped)\n",
        "    print(prediction)\n",
        "\n",
        "    if (prediction[0] == 0):\n",
        "      return \"The person doesn't has retinopathy\"\n",
        "    else:\n",
        "      return \"The person has retinopathy\"\n",
        "\n",
        "def main():\n",
        "    #Title for page\n",
        "    st.title('retinopathy test prediction')\n",
        "    \n",
        "    #Getting the required data\n",
        "    age = st.text_input(\"Enter your Age\")\n",
        "    systolic_bp = st.text_input(\"Enter your Systolic_bp Level\")\n",
        "    diastolic_bp = st.text_input(\"Enter your Diastolic_bp Level\")\n",
        "    cholesterol = st.text_input(\"Enter your Cholesterol Level\")\n",
        "\n",
        "    #code for prediction\n",
        "    prognosis= ''\n",
        "\n",
        "    #creating prediction button\n",
        "\n",
        "    if st.button(\"Retinopathy Result\"):\n",
        "      prognosis =  retinopathy_prediction([age , systolic_bp , diastolic_bp , cholesterol])\n",
        "\n",
        "    st.success(prognosis)\n",
        "\n",
        "\n",
        "if __name__ == \"__main__\":\n",
        "  main()\n",
        "\n",
        "\n"
      ],
      "metadata": {
        "id": "ev2IRXacEUMk"
      },
      "execution_count": null,
      "outputs": []
    },
    {
      "cell_type": "code",
      "source": [],
      "metadata": {
        "id": "6504gaQTUwU-"
      },
      "execution_count": null,
      "outputs": []
    }
  ],
  "metadata": {
    "colab": {
      "collapsed_sections": [
        "4rY8clMQ_9zs"
      ],
      "provenance": []
    },
    "kernelspec": {
      "display_name": "Python 3 (ipykernel)",
      "language": "python",
      "name": "python3"
    },
    "language_info": {
      "codemirror_mode": {
        "name": "ipython",
        "version": 3
      },
      "file_extension": ".py",
      "mimetype": "text/x-python",
      "name": "python",
      "nbconvert_exporter": "python",
      "pygments_lexer": "ipython3",
      "version": "3.9.12"
    }
  },
  "nbformat": 4,
  "nbformat_minor": 0
}