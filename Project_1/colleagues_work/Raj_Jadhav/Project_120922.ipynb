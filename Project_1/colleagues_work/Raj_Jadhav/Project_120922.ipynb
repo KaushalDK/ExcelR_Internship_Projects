{
 "cells": [
  {
   "cell_type": "code",
   "execution_count": null,
   "metadata": {
    "id": "pvNunRcLNPl7"
   },
   "outputs": [],
   "source": [
    "#importing Libraries\n",
    "import pandas as pd\n",
    "import numpy as np\n",
    "import matplotlib.pyplot as plt\n",
    "import seaborn as sns\n",
    "from sklearn.preprocessing import LabelEncoder\n",
    "%matplotlib inline"
   ]
  },
  {
   "cell_type": "code",
   "execution_count": null,
   "metadata": {
    "id": "B2kRFsNxODKb"
   },
   "outputs": [],
   "source": [
    "#reading the dataset\n",
    "df=pd.read_csv(\"/content/pronostico_dataset.csv\" , sep=';')"
   ]
  },
  {
   "cell_type": "code",
   "execution_count": null,
   "metadata": {
    "id": "A2LfyhSxOfC2"
   },
   "outputs": [],
   "source": [
    "#Viewwing head of data set\n",
    "df.head()"
   ]
  },
  {
   "cell_type": "code",
   "execution_count": null,
   "metadata": {
    "id": "jW069xvpOgpM"
   },
   "outputs": [],
   "source": [
    "df.tail()"
   ]
  },
  {
   "cell_type": "code",
   "execution_count": null,
   "metadata": {
    "id": "pqR7GRyoPkFt"
   },
   "outputs": [],
   "source": [
    "#getting column names\n",
    "df.columns"
   ]
  },
  {
   "cell_type": "code",
   "execution_count": null,
   "metadata": {
    "id": "Y83Ymx6hPmo1"
   },
   "outputs": [],
   "source": [
    "#shape of dataset (total rows & columns)\n",
    "df.shape"
   ]
  },
  {
   "cell_type": "code",
   "execution_count": null,
   "metadata": {
    "id": "Lucn2lWPZ1w0"
   },
   "outputs": [],
   "source": [
    "df.info()"
   ]
  },
  {
   "cell_type": "code",
   "execution_count": null,
   "metadata": {
    "id": "c_bmiFGzPorZ"
   },
   "outputs": [],
   "source": [
    "#since target variable is string first convert it into numeric column\n",
    "LE=LabelEncoder()\n",
    "df['prognosis']=LE.fit_transform(df['prognosis'])\n"
   ]
  },
  {
   "cell_type": "code",
   "execution_count": null,
   "metadata": {
    "id": "qSjFWm9uP02w"
   },
   "outputs": [],
   "source": [
    "#after conversion into binary\n",
    "# 1 indicates patient has diabetic retinopathy & 0 doesn't\n",
    "df"
   ]
  },
  {
   "cell_type": "code",
   "execution_count": null,
   "metadata": {
    "id": "B5HPA2Z4P_on"
   },
   "outputs": [],
   "source": [
    "df.describe()"
   ]
  },
  {
   "cell_type": "code",
   "execution_count": null,
   "metadata": {
    "id": "t0K4ZPGRZstb"
   },
   "outputs": [],
   "source": [
    "df.isnull().sum()"
   ]
  },
  {
   "cell_type": "code",
   "execution_count": null,
   "metadata": {
    "id": "SZx4mHdxV_zw"
   },
   "outputs": [],
   "source": [
    "df['prognosis'].value_counts()"
   ]
  },
  {
   "cell_type": "code",
   "execution_count": null,
   "metadata": {
    "id": "l58U0W59dlhg"
   },
   "outputs": [],
   "source": [
    "data_prog=df.prognosis.value_counts()\n",
    "data_prog"
   ]
  },
  {
   "cell_type": "code",
   "execution_count": null,
   "metadata": {
    "id": "a2QFo2Gveo1z"
   },
   "outputs": [],
   "source": [
    "data_prog.plot(kind=\"pie\",shadow=True,autopct='%1.1f%%')"
   ]
  },
  {
   "cell_type": "code",
   "execution_count": null,
   "metadata": {
    "id": "p4YGLFznUHFG"
   },
   "outputs": [],
   "source": [
    "sns.boxplot(df['age'])"
   ]
  },
  {
   "cell_type": "code",
   "execution_count": null,
   "metadata": {
    "id": "XSRB1P9ATiLE"
   },
   "outputs": [],
   "source": [
    "sns.distplot(df['age'])"
   ]
  },
  {
   "cell_type": "code",
   "execution_count": null,
   "metadata": {
    "id": "0tMah9syUhTr"
   },
   "outputs": [],
   "source": [
    "sns.boxplot(df['systolic_bp'], color=\"red\")"
   ]
  },
  {
   "cell_type": "code",
   "execution_count": null,
   "metadata": {
    "id": "KECsnG0eUz74"
   },
   "outputs": [],
   "source": [
    "sns.distplot(df['systolic_bp'], color='red')"
   ]
  },
  {
   "cell_type": "code",
   "execution_count": null,
   "metadata": {
    "id": "geTPcI-XU4tL"
   },
   "outputs": [],
   "source": [
    "sns.boxplot(df['diastolic_bp'], color='green')"
   ]
  },
  {
   "cell_type": "code",
   "execution_count": null,
   "metadata": {
    "id": "BiMJ7DcmVE3M"
   },
   "outputs": [],
   "source": [
    "sns.distplot(df['diastolic_bp'], color='green')"
   ]
  },
  {
   "cell_type": "code",
   "execution_count": null,
   "metadata": {
    "id": "PdXMEbtoVIcQ"
   },
   "outputs": [],
   "source": [
    "sns.boxplot(df['cholesterol'], color='orange')"
   ]
  },
  {
   "cell_type": "code",
   "execution_count": null,
   "metadata": {
    "id": "eXDq0sYkVPTX"
   },
   "outputs": [],
   "source": [
    "sns.distplot(df['cholesterol'], color='orange')"
   ]
  },
  {
   "cell_type": "code",
   "execution_count": null,
   "metadata": {
    "id": "L52wJr7ZVc3v"
   },
   "outputs": [],
   "source": [
    "plt.hist(df['age'])"
   ]
  },
  {
   "cell_type": "code",
   "execution_count": null,
   "metadata": {
    "id": "BuvveGy0VoCX"
   },
   "outputs": [],
   "source": [
    "plt.hist(df['cholesterol'])"
   ]
  },
  {
   "cell_type": "code",
   "execution_count": null,
   "metadata": {
    "id": "OL2beLspVs2U"
   },
   "outputs": [],
   "source": [
    "plt.hist(df['diastolic_bp'])"
   ]
  },
  {
   "cell_type": "code",
   "execution_count": null,
   "metadata": {
    "id": "o0g4mBWaVx4s"
   },
   "outputs": [],
   "source": [
    "plt.hist(df['systolic_bp'])"
   ]
  },
  {
   "cell_type": "code",
   "execution_count": null,
   "metadata": {
    "id": "72F8OUchV3Z1"
   },
   "outputs": [],
   "source": []
  }
 ],
 "metadata": {
  "colab": {
   "collapsed_sections": [],
   "provenance": []
  },
  "kernelspec": {
   "display_name": "Python 3 (ipykernel)",
   "language": "python",
   "name": "python3"
  },
  "language_info": {
   "codemirror_mode": {
    "name": "ipython",
    "version": 3
   },
   "file_extension": ".py",
   "mimetype": "text/x-python",
   "name": "python",
   "nbconvert_exporter": "python",
   "pygments_lexer": "ipython3",
   "version": "3.9.7"
  }
 },
 "nbformat": 4,
 "nbformat_minor": 1
}
