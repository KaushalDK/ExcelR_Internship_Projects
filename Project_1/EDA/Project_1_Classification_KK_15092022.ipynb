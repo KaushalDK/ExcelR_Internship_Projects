{
 "cells": [
  {
   "cell_type": "markdown",
   "id": "84c3f529",
   "metadata": {},
   "source": [
    "# P152_G5_Project_1_Classification"
   ]
  },
  {
   "cell_type": "markdown",
   "id": "a6aff93c",
   "metadata": {},
   "source": [
    "### Business Objective:\n",
    "The variable to be predicted has two values (positive or negative on diabetic retinopathy). Thus, this is a binary classification project. The goal here is to predict whether a patient will suffer from diabetic retinopathy or not, conditioned on blood test features."
   ]
  },
  {
   "cell_type": "code",
   "execution_count": 24,
   "id": "da36d358",
   "metadata": {},
   "outputs": [],
   "source": [
    "import pandas as pd\n",
    "import numpy as np\n",
    "import seaborn as sns\n",
    "import matplotlib.pyplot as plt\n",
    "import warnings\n",
    "warnings.filterwarnings('ignore')\n",
    "import scipy.stats as stats\n",
    "from sklearn.preprocessing import LabelEncoder"
   ]
  },
  {
   "cell_type": "markdown",
   "id": "7023ddf1",
   "metadata": {},
   "source": [
    "#### 1. Importing the data"
   ]
  },
  {
   "cell_type": "code",
   "execution_count": 6,
   "id": "3aaddb4d",
   "metadata": {},
   "outputs": [
    {
     "data": {
      "text/html": [
       "<div>\n",
       "<style scoped>\n",
       "    .dataframe tbody tr th:only-of-type {\n",
       "        vertical-align: middle;\n",
       "    }\n",
       "\n",
       "    .dataframe tbody tr th {\n",
       "        vertical-align: top;\n",
       "    }\n",
       "\n",
       "    .dataframe thead th {\n",
       "        text-align: right;\n",
       "    }\n",
       "</style>\n",
       "<table border=\"1\" class=\"dataframe\">\n",
       "  <thead>\n",
       "    <tr style=\"text-align: right;\">\n",
       "      <th></th>\n",
       "      <th>ID</th>\n",
       "      <th>age</th>\n",
       "      <th>systolic_bp</th>\n",
       "      <th>diastolic_bp</th>\n",
       "      <th>cholesterol</th>\n",
       "      <th>prognosis</th>\n",
       "    </tr>\n",
       "  </thead>\n",
       "  <tbody>\n",
       "    <tr>\n",
       "      <th>0</th>\n",
       "      <td>0</td>\n",
       "      <td>77.196340</td>\n",
       "      <td>85.288742</td>\n",
       "      <td>80.021878</td>\n",
       "      <td>79.957109</td>\n",
       "      <td>retinopathy</td>\n",
       "    </tr>\n",
       "    <tr>\n",
       "      <th>1</th>\n",
       "      <td>1</td>\n",
       "      <td>63.529850</td>\n",
       "      <td>99.379736</td>\n",
       "      <td>84.852361</td>\n",
       "      <td>110.382411</td>\n",
       "      <td>retinopathy</td>\n",
       "    </tr>\n",
       "    <tr>\n",
       "      <th>2</th>\n",
       "      <td>2</td>\n",
       "      <td>69.003986</td>\n",
       "      <td>111.349455</td>\n",
       "      <td>109.850616</td>\n",
       "      <td>100.828246</td>\n",
       "      <td>retinopathy</td>\n",
       "    </tr>\n",
       "    <tr>\n",
       "      <th>3</th>\n",
       "      <td>3</td>\n",
       "      <td>82.638210</td>\n",
       "      <td>95.056128</td>\n",
       "      <td>79.666851</td>\n",
       "      <td>87.066303</td>\n",
       "      <td>retinopathy</td>\n",
       "    </tr>\n",
       "    <tr>\n",
       "      <th>4</th>\n",
       "      <td>4</td>\n",
       "      <td>78.346286</td>\n",
       "      <td>109.154591</td>\n",
       "      <td>90.713220</td>\n",
       "      <td>92.511770</td>\n",
       "      <td>retinopathy</td>\n",
       "    </tr>\n",
       "    <tr>\n",
       "      <th>...</th>\n",
       "      <td>...</td>\n",
       "      <td>...</td>\n",
       "      <td>...</td>\n",
       "      <td>...</td>\n",
       "      <td>...</td>\n",
       "      <td>...</td>\n",
       "    </tr>\n",
       "    <tr>\n",
       "      <th>5995</th>\n",
       "      <td>5995</td>\n",
       "      <td>49.611850</td>\n",
       "      <td>94.857639</td>\n",
       "      <td>86.615671</td>\n",
       "      <td>107.643986</td>\n",
       "      <td>no_retinopathy</td>\n",
       "    </tr>\n",
       "    <tr>\n",
       "      <th>5996</th>\n",
       "      <td>5996</td>\n",
       "      <td>63.099686</td>\n",
       "      <td>100.039527</td>\n",
       "      <td>93.515186</td>\n",
       "      <td>104.971404</td>\n",
       "      <td>retinopathy</td>\n",
       "    </tr>\n",
       "    <tr>\n",
       "      <th>5997</th>\n",
       "      <td>5997</td>\n",
       "      <td>55.562243</td>\n",
       "      <td>98.421446</td>\n",
       "      <td>102.697875</td>\n",
       "      <td>120.875951</td>\n",
       "      <td>retinopathy</td>\n",
       "    </tr>\n",
       "    <tr>\n",
       "      <th>5998</th>\n",
       "      <td>5998</td>\n",
       "      <td>63.468956</td>\n",
       "      <td>106.809289</td>\n",
       "      <td>88.060631</td>\n",
       "      <td>106.052213</td>\n",
       "      <td>retinopathy</td>\n",
       "    </tr>\n",
       "    <tr>\n",
       "      <th>5999</th>\n",
       "      <td>5999</td>\n",
       "      <td>62.506825</td>\n",
       "      <td>96.900784</td>\n",
       "      <td>86.878033</td>\n",
       "      <td>108.625436</td>\n",
       "      <td>no_retinopathy</td>\n",
       "    </tr>\n",
       "  </tbody>\n",
       "</table>\n",
       "<p>6000 rows × 6 columns</p>\n",
       "</div>"
      ],
      "text/plain": [
       "        ID        age  systolic_bp  diastolic_bp  cholesterol       prognosis\n",
       "0        0  77.196340    85.288742     80.021878    79.957109     retinopathy\n",
       "1        1  63.529850    99.379736     84.852361   110.382411     retinopathy\n",
       "2        2  69.003986   111.349455    109.850616   100.828246     retinopathy\n",
       "3        3  82.638210    95.056128     79.666851    87.066303     retinopathy\n",
       "4        4  78.346286   109.154591     90.713220    92.511770     retinopathy\n",
       "...    ...        ...          ...           ...          ...             ...\n",
       "5995  5995  49.611850    94.857639     86.615671   107.643986  no_retinopathy\n",
       "5996  5996  63.099686   100.039527     93.515186   104.971404     retinopathy\n",
       "5997  5997  55.562243    98.421446    102.697875   120.875951     retinopathy\n",
       "5998  5998  63.468956   106.809289     88.060631   106.052213     retinopathy\n",
       "5999  5999  62.506825    96.900784     86.878033   108.625436  no_retinopathy\n",
       "\n",
       "[6000 rows x 6 columns]"
      ]
     },
     "execution_count": 6,
     "metadata": {},
     "output_type": "execute_result"
    }
   ],
   "source": [
    "data = pd.read_csv('pronostico_dataset_m1.csv')\n",
    "data"
   ]
  },
  {
   "cell_type": "code",
   "execution_count": 7,
   "id": "f42d980e",
   "metadata": {},
   "outputs": [
    {
     "data": {
      "text/html": [
       "<div>\n",
       "<style scoped>\n",
       "    .dataframe tbody tr th:only-of-type {\n",
       "        vertical-align: middle;\n",
       "    }\n",
       "\n",
       "    .dataframe tbody tr th {\n",
       "        vertical-align: top;\n",
       "    }\n",
       "\n",
       "    .dataframe thead th {\n",
       "        text-align: right;\n",
       "    }\n",
       "</style>\n",
       "<table border=\"1\" class=\"dataframe\">\n",
       "  <thead>\n",
       "    <tr style=\"text-align: right;\">\n",
       "      <th></th>\n",
       "      <th>age</th>\n",
       "      <th>systolic_bp</th>\n",
       "      <th>diastolic_bp</th>\n",
       "      <th>cholesterol</th>\n",
       "      <th>prognosis</th>\n",
       "    </tr>\n",
       "  </thead>\n",
       "  <tbody>\n",
       "    <tr>\n",
       "      <th>0</th>\n",
       "      <td>77.196340</td>\n",
       "      <td>85.288742</td>\n",
       "      <td>80.021878</td>\n",
       "      <td>79.957109</td>\n",
       "      <td>retinopathy</td>\n",
       "    </tr>\n",
       "    <tr>\n",
       "      <th>1</th>\n",
       "      <td>63.529850</td>\n",
       "      <td>99.379736</td>\n",
       "      <td>84.852361</td>\n",
       "      <td>110.382411</td>\n",
       "      <td>retinopathy</td>\n",
       "    </tr>\n",
       "    <tr>\n",
       "      <th>2</th>\n",
       "      <td>69.003986</td>\n",
       "      <td>111.349455</td>\n",
       "      <td>109.850616</td>\n",
       "      <td>100.828246</td>\n",
       "      <td>retinopathy</td>\n",
       "    </tr>\n",
       "    <tr>\n",
       "      <th>3</th>\n",
       "      <td>82.638210</td>\n",
       "      <td>95.056128</td>\n",
       "      <td>79.666851</td>\n",
       "      <td>87.066303</td>\n",
       "      <td>retinopathy</td>\n",
       "    </tr>\n",
       "    <tr>\n",
       "      <th>4</th>\n",
       "      <td>78.346286</td>\n",
       "      <td>109.154591</td>\n",
       "      <td>90.713220</td>\n",
       "      <td>92.511770</td>\n",
       "      <td>retinopathy</td>\n",
       "    </tr>\n",
       "    <tr>\n",
       "      <th>...</th>\n",
       "      <td>...</td>\n",
       "      <td>...</td>\n",
       "      <td>...</td>\n",
       "      <td>...</td>\n",
       "      <td>...</td>\n",
       "    </tr>\n",
       "    <tr>\n",
       "      <th>5995</th>\n",
       "      <td>49.611850</td>\n",
       "      <td>94.857639</td>\n",
       "      <td>86.615671</td>\n",
       "      <td>107.643986</td>\n",
       "      <td>no_retinopathy</td>\n",
       "    </tr>\n",
       "    <tr>\n",
       "      <th>5996</th>\n",
       "      <td>63.099686</td>\n",
       "      <td>100.039527</td>\n",
       "      <td>93.515186</td>\n",
       "      <td>104.971404</td>\n",
       "      <td>retinopathy</td>\n",
       "    </tr>\n",
       "    <tr>\n",
       "      <th>5997</th>\n",
       "      <td>55.562243</td>\n",
       "      <td>98.421446</td>\n",
       "      <td>102.697875</td>\n",
       "      <td>120.875951</td>\n",
       "      <td>retinopathy</td>\n",
       "    </tr>\n",
       "    <tr>\n",
       "      <th>5998</th>\n",
       "      <td>63.468956</td>\n",
       "      <td>106.809289</td>\n",
       "      <td>88.060631</td>\n",
       "      <td>106.052213</td>\n",
       "      <td>retinopathy</td>\n",
       "    </tr>\n",
       "    <tr>\n",
       "      <th>5999</th>\n",
       "      <td>62.506825</td>\n",
       "      <td>96.900784</td>\n",
       "      <td>86.878033</td>\n",
       "      <td>108.625436</td>\n",
       "      <td>no_retinopathy</td>\n",
       "    </tr>\n",
       "  </tbody>\n",
       "</table>\n",
       "<p>6000 rows × 5 columns</p>\n",
       "</div>"
      ],
      "text/plain": [
       "            age  systolic_bp  diastolic_bp  cholesterol       prognosis\n",
       "0     77.196340    85.288742     80.021878    79.957109     retinopathy\n",
       "1     63.529850    99.379736     84.852361   110.382411     retinopathy\n",
       "2     69.003986   111.349455    109.850616   100.828246     retinopathy\n",
       "3     82.638210    95.056128     79.666851    87.066303     retinopathy\n",
       "4     78.346286   109.154591     90.713220    92.511770     retinopathy\n",
       "...         ...          ...           ...          ...             ...\n",
       "5995  49.611850    94.857639     86.615671   107.643986  no_retinopathy\n",
       "5996  63.099686   100.039527     93.515186   104.971404     retinopathy\n",
       "5997  55.562243    98.421446    102.697875   120.875951     retinopathy\n",
       "5998  63.468956   106.809289     88.060631   106.052213     retinopathy\n",
       "5999  62.506825    96.900784     86.878033   108.625436  no_retinopathy\n",
       "\n",
       "[6000 rows x 5 columns]"
      ]
     },
     "execution_count": 7,
     "metadata": {},
     "output_type": "execute_result"
    }
   ],
   "source": [
    "data_1 = data.drop('ID', axis =1)\n",
    "data_1"
   ]
  },
  {
   "cell_type": "code",
   "execution_count": null,
   "id": "c26c0609",
   "metadata": {},
   "outputs": [],
   "source": []
  },
  {
   "cell_type": "markdown",
   "id": "a1918210",
   "metadata": {},
   "source": [
    "#### 2. Data Understanding"
   ]
  },
  {
   "cell_type": "code",
   "execution_count": 18,
   "id": "84ab347d",
   "metadata": {},
   "outputs": [
    {
     "data": {
      "text/plain": [
       "<bound method DataFrame.info of             age  systolic_bp  diastolic_bp  cholesterol       prognosis\n",
       "0     77.196340    85.288742     80.021878    79.957109     retinopathy\n",
       "1     63.529850    99.379736     84.852361   110.382411     retinopathy\n",
       "2     69.003986   111.349455    109.850616   100.828246     retinopathy\n",
       "3     82.638210    95.056128     79.666851    87.066303     retinopathy\n",
       "4     78.346286   109.154591     90.713220    92.511770     retinopathy\n",
       "...         ...          ...           ...          ...             ...\n",
       "5995  49.611850    94.857639     86.615671   107.643986  no_retinopathy\n",
       "5996  63.099686   100.039527     93.515186   104.971404     retinopathy\n",
       "5997  55.562243    98.421446    102.697875   120.875951     retinopathy\n",
       "5998  63.468956   106.809289     88.060631   106.052213     retinopathy\n",
       "5999  62.506825    96.900784     86.878033   108.625436  no_retinopathy\n",
       "\n",
       "[6000 rows x 5 columns]>"
      ]
     },
     "execution_count": 18,
     "metadata": {},
     "output_type": "execute_result"
    }
   ],
   "source": [
    "data_1.info"
   ]
  },
  {
   "cell_type": "code",
   "execution_count": 8,
   "id": "0cfa01d3",
   "metadata": {},
   "outputs": [
    {
     "data": {
      "text/plain": [
       "(6000, 5)"
      ]
     },
     "execution_count": 8,
     "metadata": {},
     "output_type": "execute_result"
    }
   ],
   "source": [
    "data_1.shape"
   ]
  },
  {
   "cell_type": "code",
   "execution_count": 9,
   "id": "38bf92a8",
   "metadata": {},
   "outputs": [
    {
     "data": {
      "text/plain": [
       "age             0\n",
       "systolic_bp     0\n",
       "diastolic_bp    0\n",
       "cholesterol     0\n",
       "prognosis       0\n",
       "dtype: int64"
      ]
     },
     "execution_count": 9,
     "metadata": {},
     "output_type": "execute_result"
    }
   ],
   "source": [
    "data_1.isnull().sum()"
   ]
  },
  {
   "cell_type": "raw",
   "id": "c50b60d5",
   "metadata": {},
   "source": [
    "Data is clean and can be used complete to build the model,\n",
    "no need to drop any obervation thus no data is lost."
   ]
  },
  {
   "cell_type": "code",
   "execution_count": 10,
   "id": "73bb281c",
   "metadata": {},
   "outputs": [
    {
     "data": {
      "text/plain": [
       "age             float64\n",
       "systolic_bp     float64\n",
       "diastolic_bp    float64\n",
       "cholesterol     float64\n",
       "prognosis        object\n",
       "dtype: object"
      ]
     },
     "execution_count": 10,
     "metadata": {},
     "output_type": "execute_result"
    }
   ],
   "source": [
    "data_1.dtypes"
   ]
  },
  {
   "cell_type": "raw",
   "id": "7ecbefb5",
   "metadata": {},
   "source": [
    "for all the input is in float data types and output is in object from."
   ]
  },
  {
   "cell_type": "code",
   "execution_count": 11,
   "id": "975feda2",
   "metadata": {},
   "outputs": [
    {
     "data": {
      "text/html": [
       "<div>\n",
       "<style scoped>\n",
       "    .dataframe tbody tr th:only-of-type {\n",
       "        vertical-align: middle;\n",
       "    }\n",
       "\n",
       "    .dataframe tbody tr th {\n",
       "        vertical-align: top;\n",
       "    }\n",
       "\n",
       "    .dataframe thead th {\n",
       "        text-align: right;\n",
       "    }\n",
       "</style>\n",
       "<table border=\"1\" class=\"dataframe\">\n",
       "  <thead>\n",
       "    <tr style=\"text-align: right;\">\n",
       "      <th></th>\n",
       "      <th>age</th>\n",
       "      <th>systolic_bp</th>\n",
       "      <th>diastolic_bp</th>\n",
       "      <th>cholesterol</th>\n",
       "    </tr>\n",
       "  </thead>\n",
       "  <tbody>\n",
       "    <tr>\n",
       "      <th>count</th>\n",
       "      <td>6000.000000</td>\n",
       "      <td>6000.000000</td>\n",
       "      <td>6000.000000</td>\n",
       "      <td>6000.000000</td>\n",
       "    </tr>\n",
       "    <tr>\n",
       "      <th>mean</th>\n",
       "      <td>60.464121</td>\n",
       "      <td>100.694822</td>\n",
       "      <td>90.505547</td>\n",
       "      <td>100.628255</td>\n",
       "    </tr>\n",
       "    <tr>\n",
       "      <th>std</th>\n",
       "      <td>8.564392</td>\n",
       "      <td>10.669267</td>\n",
       "      <td>9.648200</td>\n",
       "      <td>10.433915</td>\n",
       "    </tr>\n",
       "    <tr>\n",
       "      <th>min</th>\n",
       "      <td>35.164761</td>\n",
       "      <td>69.675429</td>\n",
       "      <td>62.807105</td>\n",
       "      <td>69.967453</td>\n",
       "    </tr>\n",
       "    <tr>\n",
       "      <th>25%</th>\n",
       "      <td>54.371941</td>\n",
       "      <td>93.267420</td>\n",
       "      <td>83.641788</td>\n",
       "      <td>93.202373</td>\n",
       "    </tr>\n",
       "    <tr>\n",
       "      <th>50%</th>\n",
       "      <td>59.831159</td>\n",
       "      <td>100.119926</td>\n",
       "      <td>89.912429</td>\n",
       "      <td>100.060637</td>\n",
       "    </tr>\n",
       "    <tr>\n",
       "      <th>75%</th>\n",
       "      <td>65.809652</td>\n",
       "      <td>107.439501</td>\n",
       "      <td>96.682405</td>\n",
       "      <td>107.250829</td>\n",
       "    </tr>\n",
       "    <tr>\n",
       "      <th>max</th>\n",
       "      <td>103.279497</td>\n",
       "      <td>151.699660</td>\n",
       "      <td>133.456382</td>\n",
       "      <td>148.233544</td>\n",
       "    </tr>\n",
       "  </tbody>\n",
       "</table>\n",
       "</div>"
      ],
      "text/plain": [
       "               age  systolic_bp  diastolic_bp  cholesterol\n",
       "count  6000.000000  6000.000000   6000.000000  6000.000000\n",
       "mean     60.464121   100.694822     90.505547   100.628255\n",
       "std       8.564392    10.669267      9.648200    10.433915\n",
       "min      35.164761    69.675429     62.807105    69.967453\n",
       "25%      54.371941    93.267420     83.641788    93.202373\n",
       "50%      59.831159   100.119926     89.912429   100.060637\n",
       "75%      65.809652   107.439501     96.682405   107.250829\n",
       "max     103.279497   151.699660    133.456382   148.233544"
      ]
     },
     "execution_count": 11,
     "metadata": {},
     "output_type": "execute_result"
    }
   ],
   "source": [
    "data_1.describe()"
   ]
  },
  {
   "cell_type": "raw",
   "id": "62641ddc",
   "metadata": {},
   "source": [
    "from above data and visulization tool we can study the outliers if presents,"
   ]
  },
  {
   "cell_type": "code",
   "execution_count": 12,
   "id": "6f4a3687",
   "metadata": {},
   "outputs": [
    {
     "data": {
      "image/png": "[encoded data removed]",
      "text/plain": [
       "<Figure size 360x360 with 1 Axes>"
      ]
     },
     "metadata": {
      "needs_background": "light"
     },
     "output_type": "display_data"
    },
    {
     "data": {
      "image/png": "[encoded data removed]",
      "text/plain": [
       "<Figure size 360x360 with 1 Axes>"
      ]
     },
     "metadata": {
      "needs_background": "light"
     },
     "output_type": "display_data"
    },
    {
     "data": {
      "image/png": "[encoded data removed]",
      "text/plain": [
       "<Figure size 360x360 with 1 Axes>"
      ]
     },
     "metadata": {
      "needs_background": "light"
     },
     "output_type": "display_data"
    },
    {
     "data": {
      "image/png": "[encoded data removed]",
      "text/plain": [
       "<Figure size 360x360 with 1 Axes>"
      ]
     },
     "metadata": {
      "needs_background": "light"
     },
     "output_type": "display_data"
    }
   ],
   "source": [
    "fig, a = plt.subplots(figsize=(5, 5))\n",
    "a = sns.boxplot(data_1['age'])\n",
    "fig, b = plt.subplots(figsize=(5, 5))\n",
    "b = sns.boxplot(data_1['systolic_bp'])\n",
    "fig, c = plt.subplots(figsize=(5, 5))\n",
    "c = sns.boxplot(data_1['diastolic_bp'])\n",
    "fig, d = plt.subplots(figsize=(5, 5))\n",
    "d = sns.boxplot(data_1['cholesterol'])"
   ]
  },
  {
   "cell_type": "raw",
   "id": "671cc6df",
   "metadata": {},
   "source": [
    "From data description all the data is in range of 0 to 200 and with good spread in range we can plot all boxplot in same graph"
   ]
  },
  {
   "cell_type": "code",
   "execution_count": 30,
   "id": "a287dfe5",
   "metadata": {},
   "outputs": [
    {
     "data": {
      "image/png": "[encoded data removed]",
      "text/plain": [
       "<Figure size 540x252 with 1 Axes>"
      ]
     },
     "metadata": {
      "needs_background": "light"
     },
     "output_type": "display_data"
    }
   ],
   "source": [
    "# Set the figure size\n",
    "plt.rcParams[\"figure.figsize\"] = [7.50, 3.50]\n",
    "plt.rcParams[\"figure.autolayout\"] = True\n",
    "\n",
    "# Plot the dataframe\n",
    "ax = data_1[['age', 'systolic_bp','diastolic_bp', 'cholesterol']].plot(kind='box', title='boxplot')\n",
    "\n",
    "# Display the plot\n",
    "plt.show()"
   ]
  },
  {
   "cell_type": "code",
   "execution_count": 13,
   "id": "d50f287e",
   "metadata": {},
   "outputs": [
    {
     "data": {
      "text/plain": [
       "(0.44103022793961805,\n",
       " 0.3345710437232818,\n",
       " 0.3364706951380214,\n",
       " 0.3614239343849043)"
      ]
     },
     "execution_count": 13,
     "metadata": {},
     "output_type": "execute_result"
    }
   ],
   "source": [
    "stats.skew(data_1['age']),stats.skew(data_1['systolic_bp']),stats.skew(data_1['diastolic_bp']),stats.skew(data_1['cholesterol'])"
   ]
  },
  {
   "cell_type": "code",
   "execution_count": 14,
   "id": "6e740d60",
   "metadata": {},
   "outputs": [
    {
     "data": {
      "text/plain": [
       "(0.27377627961884565,\n",
       " 0.21152590580286867,\n",
       " 0.16105310512609083,\n",
       " 0.2583780161986309)"
      ]
     },
     "execution_count": 14,
     "metadata": {},
     "output_type": "execute_result"
    }
   ],
   "source": [
    "stats.kurtosis(data_1['age']),stats.kurtosis(data_1['systolic_bp']),stats.kurtosis(data_1['diastolic_bp']),stats.kurtosis(data_1['cholesterol'])"
   ]
  },
  {
   "cell_type": "code",
   "execution_count": 15,
   "id": "154b3cdc",
   "metadata": {},
   "outputs": [
    {
     "data": {
      "text/plain": [
       "retinopathy       3087\n",
       "no_retinopathy    2913\n",
       "Name: prognosis, dtype: int64"
      ]
     },
     "execution_count": 15,
     "metadata": {},
     "output_type": "execute_result"
    }
   ],
   "source": [
    "data_1['prognosis'].value_counts()"
   ]
  },
  {
   "cell_type": "raw",
   "id": "0f61b95c",
   "metadata": {},
   "source": [
    "output columns value counts is 2913 and 3087 which says data is balanced."
   ]
  },
  {
   "cell_type": "code",
   "execution_count": 16,
   "id": "476f9c88",
   "metadata": {},
   "outputs": [],
   "source": [
    "data_1_corr = data_1.corr()"
   ]
  },
  {
   "cell_type": "code",
   "execution_count": 17,
   "id": "cd12de7f",
   "metadata": {},
   "outputs": [
    {
     "data": {
      "text/plain": [
       "<AxesSubplot:>"
      ]
     },
     "execution_count": 17,
     "metadata": {},
     "output_type": "execute_result"
    },
    {
     "data": {
      "image/png": "[encoded data removed]",
      "text/plain": [
       "<Figure size 432x288 with 2 Axes>"
      ]
     },
     "metadata": {
      "needs_background": "light"
     },
     "output_type": "display_data"
    }
   ],
   "source": [
    "sns.heatmap(data_1_corr, annot=True)"
   ]
  },
  {
   "cell_type": "raw",
   "id": "a5db13d3",
   "metadata": {},
   "source": [
    "Since given data is up to 6 decimal places, we can round it to 0 decimals because technical readings of bp and lipid (cholesterol) are in 0 decimals. for age we can take values up to 1 decimal.\n",
    "for sake of simplicity can we round it to zero?"
   ]
  },
  {
   "cell_type": "code",
   "execution_count": 19,
   "id": "eeb0cfb6",
   "metadata": {},
   "outputs": [
    {
     "data": {
      "text/html": [
       "<div>\n",
       "<style scoped>\n",
       "    .dataframe tbody tr th:only-of-type {\n",
       "        vertical-align: middle;\n",
       "    }\n",
       "\n",
       "    .dataframe tbody tr th {\n",
       "        vertical-align: top;\n",
       "    }\n",
       "\n",
       "    .dataframe thead th {\n",
       "        text-align: right;\n",
       "    }\n",
       "</style>\n",
       "<table border=\"1\" class=\"dataframe\">\n",
       "  <thead>\n",
       "    <tr style=\"text-align: right;\">\n",
       "      <th></th>\n",
       "      <th>age</th>\n",
       "      <th>systolic_bp</th>\n",
       "      <th>diastolic_bp</th>\n",
       "      <th>cholesterol</th>\n",
       "      <th>prognosis</th>\n",
       "    </tr>\n",
       "  </thead>\n",
       "  <tbody>\n",
       "    <tr>\n",
       "      <th>0</th>\n",
       "      <td>77.196340</td>\n",
       "      <td>85.288742</td>\n",
       "      <td>80.021878</td>\n",
       "      <td>79.957109</td>\n",
       "      <td>retinopathy</td>\n",
       "    </tr>\n",
       "    <tr>\n",
       "      <th>1</th>\n",
       "      <td>63.529850</td>\n",
       "      <td>99.379736</td>\n",
       "      <td>84.852361</td>\n",
       "      <td>110.382411</td>\n",
       "      <td>retinopathy</td>\n",
       "    </tr>\n",
       "    <tr>\n",
       "      <th>2</th>\n",
       "      <td>69.003986</td>\n",
       "      <td>111.349455</td>\n",
       "      <td>109.850616</td>\n",
       "      <td>100.828246</td>\n",
       "      <td>retinopathy</td>\n",
       "    </tr>\n",
       "    <tr>\n",
       "      <th>3</th>\n",
       "      <td>82.638210</td>\n",
       "      <td>95.056128</td>\n",
       "      <td>79.666851</td>\n",
       "      <td>87.066303</td>\n",
       "      <td>retinopathy</td>\n",
       "    </tr>\n",
       "    <tr>\n",
       "      <th>4</th>\n",
       "      <td>78.346286</td>\n",
       "      <td>109.154591</td>\n",
       "      <td>90.713220</td>\n",
       "      <td>92.511770</td>\n",
       "      <td>retinopathy</td>\n",
       "    </tr>\n",
       "    <tr>\n",
       "      <th>...</th>\n",
       "      <td>...</td>\n",
       "      <td>...</td>\n",
       "      <td>...</td>\n",
       "      <td>...</td>\n",
       "      <td>...</td>\n",
       "    </tr>\n",
       "    <tr>\n",
       "      <th>5995</th>\n",
       "      <td>49.611850</td>\n",
       "      <td>94.857639</td>\n",
       "      <td>86.615671</td>\n",
       "      <td>107.643986</td>\n",
       "      <td>no_retinopathy</td>\n",
       "    </tr>\n",
       "    <tr>\n",
       "      <th>5996</th>\n",
       "      <td>63.099686</td>\n",
       "      <td>100.039527</td>\n",
       "      <td>93.515186</td>\n",
       "      <td>104.971404</td>\n",
       "      <td>retinopathy</td>\n",
       "    </tr>\n",
       "    <tr>\n",
       "      <th>5997</th>\n",
       "      <td>55.562243</td>\n",
       "      <td>98.421446</td>\n",
       "      <td>102.697875</td>\n",
       "      <td>120.875951</td>\n",
       "      <td>retinopathy</td>\n",
       "    </tr>\n",
       "    <tr>\n",
       "      <th>5998</th>\n",
       "      <td>63.468956</td>\n",
       "      <td>106.809289</td>\n",
       "      <td>88.060631</td>\n",
       "      <td>106.052213</td>\n",
       "      <td>retinopathy</td>\n",
       "    </tr>\n",
       "    <tr>\n",
       "      <th>5999</th>\n",
       "      <td>62.506825</td>\n",
       "      <td>96.900784</td>\n",
       "      <td>86.878033</td>\n",
       "      <td>108.625436</td>\n",
       "      <td>no_retinopathy</td>\n",
       "    </tr>\n",
       "  </tbody>\n",
       "</table>\n",
       "<p>6000 rows × 5 columns</p>\n",
       "</div>"
      ],
      "text/plain": [
       "            age  systolic_bp  diastolic_bp  cholesterol       prognosis\n",
       "0     77.196340    85.288742     80.021878    79.957109     retinopathy\n",
       "1     63.529850    99.379736     84.852361   110.382411     retinopathy\n",
       "2     69.003986   111.349455    109.850616   100.828246     retinopathy\n",
       "3     82.638210    95.056128     79.666851    87.066303     retinopathy\n",
       "4     78.346286   109.154591     90.713220    92.511770     retinopathy\n",
       "...         ...          ...           ...          ...             ...\n",
       "5995  49.611850    94.857639     86.615671   107.643986  no_retinopathy\n",
       "5996  63.099686   100.039527     93.515186   104.971404     retinopathy\n",
       "5997  55.562243    98.421446    102.697875   120.875951     retinopathy\n",
       "5998  63.468956   106.809289     88.060631   106.052213     retinopathy\n",
       "5999  62.506825    96.900784     86.878033   108.625436  no_retinopathy\n",
       "\n",
       "[6000 rows x 5 columns]"
      ]
     },
     "execution_count": 19,
     "metadata": {},
     "output_type": "execute_result"
    }
   ],
   "source": [
    "data_1"
   ]
  },
  {
   "cell_type": "code",
   "execution_count": 23,
   "id": "ea4cb35a",
   "metadata": {},
   "outputs": [
    {
     "data": {
      "text/html": [
       "<div>\n",
       "<style scoped>\n",
       "    .dataframe tbody tr th:only-of-type {\n",
       "        vertical-align: middle;\n",
       "    }\n",
       "\n",
       "    .dataframe tbody tr th {\n",
       "        vertical-align: top;\n",
       "    }\n",
       "\n",
       "    .dataframe thead th {\n",
       "        text-align: right;\n",
       "    }\n",
       "</style>\n",
       "<table border=\"1\" class=\"dataframe\">\n",
       "  <thead>\n",
       "    <tr style=\"text-align: right;\">\n",
       "      <th></th>\n",
       "      <th>age</th>\n",
       "      <th>systolic_bp</th>\n",
       "      <th>diastolic_bp</th>\n",
       "      <th>cholesterol</th>\n",
       "      <th>prognosis</th>\n",
       "    </tr>\n",
       "  </thead>\n",
       "  <tbody>\n",
       "    <tr>\n",
       "      <th>0</th>\n",
       "      <td>77.2</td>\n",
       "      <td>85.0</td>\n",
       "      <td>80.0</td>\n",
       "      <td>80.0</td>\n",
       "      <td>retinopathy</td>\n",
       "    </tr>\n",
       "    <tr>\n",
       "      <th>1</th>\n",
       "      <td>63.5</td>\n",
       "      <td>99.0</td>\n",
       "      <td>85.0</td>\n",
       "      <td>110.0</td>\n",
       "      <td>retinopathy</td>\n",
       "    </tr>\n",
       "    <tr>\n",
       "      <th>2</th>\n",
       "      <td>69.0</td>\n",
       "      <td>111.0</td>\n",
       "      <td>110.0</td>\n",
       "      <td>101.0</td>\n",
       "      <td>retinopathy</td>\n",
       "    </tr>\n",
       "    <tr>\n",
       "      <th>3</th>\n",
       "      <td>82.6</td>\n",
       "      <td>95.0</td>\n",
       "      <td>80.0</td>\n",
       "      <td>87.0</td>\n",
       "      <td>retinopathy</td>\n",
       "    </tr>\n",
       "    <tr>\n",
       "      <th>4</th>\n",
       "      <td>78.3</td>\n",
       "      <td>109.0</td>\n",
       "      <td>91.0</td>\n",
       "      <td>93.0</td>\n",
       "      <td>retinopathy</td>\n",
       "    </tr>\n",
       "    <tr>\n",
       "      <th>...</th>\n",
       "      <td>...</td>\n",
       "      <td>...</td>\n",
       "      <td>...</td>\n",
       "      <td>...</td>\n",
       "      <td>...</td>\n",
       "    </tr>\n",
       "    <tr>\n",
       "      <th>5995</th>\n",
       "      <td>49.6</td>\n",
       "      <td>95.0</td>\n",
       "      <td>87.0</td>\n",
       "      <td>108.0</td>\n",
       "      <td>no_retinopathy</td>\n",
       "    </tr>\n",
       "    <tr>\n",
       "      <th>5996</th>\n",
       "      <td>63.1</td>\n",
       "      <td>100.0</td>\n",
       "      <td>94.0</td>\n",
       "      <td>105.0</td>\n",
       "      <td>retinopathy</td>\n",
       "    </tr>\n",
       "    <tr>\n",
       "      <th>5997</th>\n",
       "      <td>55.6</td>\n",
       "      <td>98.0</td>\n",
       "      <td>103.0</td>\n",
       "      <td>121.0</td>\n",
       "      <td>retinopathy</td>\n",
       "    </tr>\n",
       "    <tr>\n",
       "      <th>5998</th>\n",
       "      <td>63.5</td>\n",
       "      <td>107.0</td>\n",
       "      <td>88.0</td>\n",
       "      <td>106.0</td>\n",
       "      <td>retinopathy</td>\n",
       "    </tr>\n",
       "    <tr>\n",
       "      <th>5999</th>\n",
       "      <td>62.5</td>\n",
       "      <td>97.0</td>\n",
       "      <td>87.0</td>\n",
       "      <td>109.0</td>\n",
       "      <td>no_retinopathy</td>\n",
       "    </tr>\n",
       "  </tbody>\n",
       "</table>\n",
       "<p>6000 rows × 5 columns</p>\n",
       "</div>"
      ],
      "text/plain": [
       "       age  systolic_bp  diastolic_bp  cholesterol       prognosis\n",
       "0     77.2         85.0          80.0         80.0     retinopathy\n",
       "1     63.5         99.0          85.0        110.0     retinopathy\n",
       "2     69.0        111.0         110.0        101.0     retinopathy\n",
       "3     82.6         95.0          80.0         87.0     retinopathy\n",
       "4     78.3        109.0          91.0         93.0     retinopathy\n",
       "...    ...          ...           ...          ...             ...\n",
       "5995  49.6         95.0          87.0        108.0  no_retinopathy\n",
       "5996  63.1        100.0          94.0        105.0     retinopathy\n",
       "5997  55.6         98.0         103.0        121.0     retinopathy\n",
       "5998  63.5        107.0          88.0        106.0     retinopathy\n",
       "5999  62.5         97.0          87.0        109.0  no_retinopathy\n",
       "\n",
       "[6000 rows x 5 columns]"
      ]
     },
     "execution_count": 23,
     "metadata": {},
     "output_type": "execute_result"
    }
   ],
   "source": [
    "data_1['age'] = data_1['age'].round(1)\n",
    "data_1['systolic_bp'] = data_1['systolic_bp'].round(0)\n",
    "data_1['diastolic_bp'] = data_1['diastolic_bp'].round(0)\n",
    "data_1['cholesterol'] = data_1['cholesterol'].round(0)\n",
    "data_1"
   ]
  },
  {
   "cell_type": "raw",
   "id": "cf5368bb",
   "metadata": {},
   "source": [
    "lets encode target variable into 0 and 1.\n",
    "From the given documents 1 is for retinopathy and 0 is for no retinopathy"
   ]
  },
  {
   "cell_type": "code",
   "execution_count": 25,
   "id": "77927bf0",
   "metadata": {},
   "outputs": [],
   "source": [
    "labelencoder = LabelEncoder()"
   ]
  },
  {
   "cell_type": "code",
   "execution_count": 27,
   "id": "d1335d79",
   "metadata": {},
   "outputs": [
    {
     "data": {
      "text/html": [
       "<div>\n",
       "<style scoped>\n",
       "    .dataframe tbody tr th:only-of-type {\n",
       "        vertical-align: middle;\n",
       "    }\n",
       "\n",
       "    .dataframe tbody tr th {\n",
       "        vertical-align: top;\n",
       "    }\n",
       "\n",
       "    .dataframe thead th {\n",
       "        text-align: right;\n",
       "    }\n",
       "</style>\n",
       "<table border=\"1\" class=\"dataframe\">\n",
       "  <thead>\n",
       "    <tr style=\"text-align: right;\">\n",
       "      <th></th>\n",
       "      <th>age</th>\n",
       "      <th>systolic_bp</th>\n",
       "      <th>diastolic_bp</th>\n",
       "      <th>cholesterol</th>\n",
       "      <th>prognosis</th>\n",
       "      <th>prognosis_N</th>\n",
       "    </tr>\n",
       "  </thead>\n",
       "  <tbody>\n",
       "    <tr>\n",
       "      <th>0</th>\n",
       "      <td>77.2</td>\n",
       "      <td>85.0</td>\n",
       "      <td>80.0</td>\n",
       "      <td>80.0</td>\n",
       "      <td>retinopathy</td>\n",
       "      <td>1</td>\n",
       "    </tr>\n",
       "    <tr>\n",
       "      <th>1</th>\n",
       "      <td>63.5</td>\n",
       "      <td>99.0</td>\n",
       "      <td>85.0</td>\n",
       "      <td>110.0</td>\n",
       "      <td>retinopathy</td>\n",
       "      <td>1</td>\n",
       "    </tr>\n",
       "    <tr>\n",
       "      <th>2</th>\n",
       "      <td>69.0</td>\n",
       "      <td>111.0</td>\n",
       "      <td>110.0</td>\n",
       "      <td>101.0</td>\n",
       "      <td>retinopathy</td>\n",
       "      <td>1</td>\n",
       "    </tr>\n",
       "    <tr>\n",
       "      <th>3</th>\n",
       "      <td>82.6</td>\n",
       "      <td>95.0</td>\n",
       "      <td>80.0</td>\n",
       "      <td>87.0</td>\n",
       "      <td>retinopathy</td>\n",
       "      <td>1</td>\n",
       "    </tr>\n",
       "    <tr>\n",
       "      <th>4</th>\n",
       "      <td>78.3</td>\n",
       "      <td>109.0</td>\n",
       "      <td>91.0</td>\n",
       "      <td>93.0</td>\n",
       "      <td>retinopathy</td>\n",
       "      <td>1</td>\n",
       "    </tr>\n",
       "    <tr>\n",
       "      <th>...</th>\n",
       "      <td>...</td>\n",
       "      <td>...</td>\n",
       "      <td>...</td>\n",
       "      <td>...</td>\n",
       "      <td>...</td>\n",
       "      <td>...</td>\n",
       "    </tr>\n",
       "    <tr>\n",
       "      <th>5995</th>\n",
       "      <td>49.6</td>\n",
       "      <td>95.0</td>\n",
       "      <td>87.0</td>\n",
       "      <td>108.0</td>\n",
       "      <td>no_retinopathy</td>\n",
       "      <td>0</td>\n",
       "    </tr>\n",
       "    <tr>\n",
       "      <th>5996</th>\n",
       "      <td>63.1</td>\n",
       "      <td>100.0</td>\n",
       "      <td>94.0</td>\n",
       "      <td>105.0</td>\n",
       "      <td>retinopathy</td>\n",
       "      <td>1</td>\n",
       "    </tr>\n",
       "    <tr>\n",
       "      <th>5997</th>\n",
       "      <td>55.6</td>\n",
       "      <td>98.0</td>\n",
       "      <td>103.0</td>\n",
       "      <td>121.0</td>\n",
       "      <td>retinopathy</td>\n",
       "      <td>1</td>\n",
       "    </tr>\n",
       "    <tr>\n",
       "      <th>5998</th>\n",
       "      <td>63.5</td>\n",
       "      <td>107.0</td>\n",
       "      <td>88.0</td>\n",
       "      <td>106.0</td>\n",
       "      <td>retinopathy</td>\n",
       "      <td>1</td>\n",
       "    </tr>\n",
       "    <tr>\n",
       "      <th>5999</th>\n",
       "      <td>62.5</td>\n",
       "      <td>97.0</td>\n",
       "      <td>87.0</td>\n",
       "      <td>109.0</td>\n",
       "      <td>no_retinopathy</td>\n",
       "      <td>0</td>\n",
       "    </tr>\n",
       "  </tbody>\n",
       "</table>\n",
       "<p>6000 rows × 6 columns</p>\n",
       "</div>"
      ],
      "text/plain": [
       "       age  systolic_bp  diastolic_bp  cholesterol       prognosis  \\\n",
       "0     77.2         85.0          80.0         80.0     retinopathy   \n",
       "1     63.5         99.0          85.0        110.0     retinopathy   \n",
       "2     69.0        111.0         110.0        101.0     retinopathy   \n",
       "3     82.6         95.0          80.0         87.0     retinopathy   \n",
       "4     78.3        109.0          91.0         93.0     retinopathy   \n",
       "...    ...          ...           ...          ...             ...   \n",
       "5995  49.6         95.0          87.0        108.0  no_retinopathy   \n",
       "5996  63.1        100.0          94.0        105.0     retinopathy   \n",
       "5997  55.6         98.0         103.0        121.0     retinopathy   \n",
       "5998  63.5        107.0          88.0        106.0     retinopathy   \n",
       "5999  62.5         97.0          87.0        109.0  no_retinopathy   \n",
       "\n",
       "      prognosis_N  \n",
       "0               1  \n",
       "1               1  \n",
       "2               1  \n",
       "3               1  \n",
       "4               1  \n",
       "...           ...  \n",
       "5995            0  \n",
       "5996            1  \n",
       "5997            1  \n",
       "5998            1  \n",
       "5999            0  \n",
       "\n",
       "[6000 rows x 6 columns]"
      ]
     },
     "execution_count": 27,
     "metadata": {},
     "output_type": "execute_result"
    }
   ],
   "source": [
    "data_1['prognosis_N'] = labelencoder.fit_transform(data_1['prognosis'])\n",
    "data_1"
   ]
  },
  {
   "cell_type": "code",
   "execution_count": 29,
   "id": "e2b3c768",
   "metadata": {},
   "outputs": [
    {
     "data": {
      "text/html": [
       "<div>\n",
       "<style scoped>\n",
       "    .dataframe tbody tr th:only-of-type {\n",
       "        vertical-align: middle;\n",
       "    }\n",
       "\n",
       "    .dataframe tbody tr th {\n",
       "        vertical-align: top;\n",
       "    }\n",
       "\n",
       "    .dataframe thead th {\n",
       "        text-align: right;\n",
       "    }\n",
       "</style>\n",
       "<table border=\"1\" class=\"dataframe\">\n",
       "  <thead>\n",
       "    <tr style=\"text-align: right;\">\n",
       "      <th></th>\n",
       "      <th>age</th>\n",
       "      <th>systolic_bp</th>\n",
       "      <th>diastolic_bp</th>\n",
       "      <th>cholesterol</th>\n",
       "      <th>prognosis_N</th>\n",
       "    </tr>\n",
       "  </thead>\n",
       "  <tbody>\n",
       "    <tr>\n",
       "      <th>0</th>\n",
       "      <td>77.2</td>\n",
       "      <td>85.0</td>\n",
       "      <td>80.0</td>\n",
       "      <td>80.0</td>\n",
       "      <td>1</td>\n",
       "    </tr>\n",
       "    <tr>\n",
       "      <th>1</th>\n",
       "      <td>63.5</td>\n",
       "      <td>99.0</td>\n",
       "      <td>85.0</td>\n",
       "      <td>110.0</td>\n",
       "      <td>1</td>\n",
       "    </tr>\n",
       "    <tr>\n",
       "      <th>2</th>\n",
       "      <td>69.0</td>\n",
       "      <td>111.0</td>\n",
       "      <td>110.0</td>\n",
       "      <td>101.0</td>\n",
       "      <td>1</td>\n",
       "    </tr>\n",
       "    <tr>\n",
       "      <th>3</th>\n",
       "      <td>82.6</td>\n",
       "      <td>95.0</td>\n",
       "      <td>80.0</td>\n",
       "      <td>87.0</td>\n",
       "      <td>1</td>\n",
       "    </tr>\n",
       "    <tr>\n",
       "      <th>4</th>\n",
       "      <td>78.3</td>\n",
       "      <td>109.0</td>\n",
       "      <td>91.0</td>\n",
       "      <td>93.0</td>\n",
       "      <td>1</td>\n",
       "    </tr>\n",
       "    <tr>\n",
       "      <th>...</th>\n",
       "      <td>...</td>\n",
       "      <td>...</td>\n",
       "      <td>...</td>\n",
       "      <td>...</td>\n",
       "      <td>...</td>\n",
       "    </tr>\n",
       "    <tr>\n",
       "      <th>5995</th>\n",
       "      <td>49.6</td>\n",
       "      <td>95.0</td>\n",
       "      <td>87.0</td>\n",
       "      <td>108.0</td>\n",
       "      <td>0</td>\n",
       "    </tr>\n",
       "    <tr>\n",
       "      <th>5996</th>\n",
       "      <td>63.1</td>\n",
       "      <td>100.0</td>\n",
       "      <td>94.0</td>\n",
       "      <td>105.0</td>\n",
       "      <td>1</td>\n",
       "    </tr>\n",
       "    <tr>\n",
       "      <th>5997</th>\n",
       "      <td>55.6</td>\n",
       "      <td>98.0</td>\n",
       "      <td>103.0</td>\n",
       "      <td>121.0</td>\n",
       "      <td>1</td>\n",
       "    </tr>\n",
       "    <tr>\n",
       "      <th>5998</th>\n",
       "      <td>63.5</td>\n",
       "      <td>107.0</td>\n",
       "      <td>88.0</td>\n",
       "      <td>106.0</td>\n",
       "      <td>1</td>\n",
       "    </tr>\n",
       "    <tr>\n",
       "      <th>5999</th>\n",
       "      <td>62.5</td>\n",
       "      <td>97.0</td>\n",
       "      <td>87.0</td>\n",
       "      <td>109.0</td>\n",
       "      <td>0</td>\n",
       "    </tr>\n",
       "  </tbody>\n",
       "</table>\n",
       "<p>6000 rows × 5 columns</p>\n",
       "</div>"
      ],
      "text/plain": [
       "       age  systolic_bp  diastolic_bp  cholesterol  prognosis_N\n",
       "0     77.2         85.0          80.0         80.0            1\n",
       "1     63.5         99.0          85.0        110.0            1\n",
       "2     69.0        111.0         110.0        101.0            1\n",
       "3     82.6         95.0          80.0         87.0            1\n",
       "4     78.3        109.0          91.0         93.0            1\n",
       "...    ...          ...           ...          ...          ...\n",
       "5995  49.6         95.0          87.0        108.0            0\n",
       "5996  63.1        100.0          94.0        105.0            1\n",
       "5997  55.6         98.0         103.0        121.0            1\n",
       "5998  63.5        107.0          88.0        106.0            1\n",
       "5999  62.5         97.0          87.0        109.0            0\n",
       "\n",
       "[6000 rows x 5 columns]"
      ]
     },
     "execution_count": 29,
     "metadata": {},
     "output_type": "execute_result"
    }
   ],
   "source": [
    "data_1 = data_1.drop(labels='prognosis',axis=1)\n",
    "data_1"
   ]
  },
  {
   "cell_type": "raw",
   "id": "655d42fd",
   "metadata": {},
   "source": [
    "Normality Check "
   ]
  },
  {
   "cell_type": "code",
   "execution_count": 32,
   "id": "efe58a5e",
   "metadata": {},
   "outputs": [
    {
     "name": "stdout",
     "output_type": "stream",
     "text": [
      "P value is  4.244177289097922e-21 Thus data is Normal\n"
     ]
    }
   ],
   "source": [
    "stat, p = stats.shapiro(data_1['age'])\n",
    "if p < 0.05:\n",
    "    print('P value is ',p,'Thus data is Normal')\n",
    "else:\n",
    "    print('P value is ',p,'Thus data is Not Normal')"
   ]
  },
  {
   "cell_type": "code",
   "execution_count": 33,
   "id": "1dee97f1",
   "metadata": {},
   "outputs": [
    {
     "name": "stdout",
     "output_type": "stream",
     "text": [
      "P value is  8.329984054116846e-17 Thus data is Normal\n"
     ]
    }
   ],
   "source": [
    "stat, p = stats.shapiro(data_1['systolic_bp'])\n",
    "if p < 0.05:\n",
    "    print('P value is ',p,'Thus data is Normal')\n",
    "else:\n",
    "    print('P value is ',p,'Thus data is Not Normal')"
   ]
  },
  {
   "cell_type": "code",
   "execution_count": 34,
   "id": "e74923bc",
   "metadata": {},
   "outputs": [
    {
     "name": "stdout",
     "output_type": "stream",
     "text": [
      "P value is  3.986271053037971e-17 Thus data is Normal\n"
     ]
    }
   ],
   "source": [
    "stat, p = stats.shapiro(data_1['diastolic_bp'])\n",
    "if p < 0.05:\n",
    "    print('P value is ',p,'Thus data is Normal')\n",
    "else:\n",
    "    print('P value is ',p,'Thus data is Not Normal')"
   ]
  },
  {
   "cell_type": "code",
   "execution_count": 35,
   "id": "d5e105e7",
   "metadata": {},
   "outputs": [
    {
     "name": "stdout",
     "output_type": "stream",
     "text": [
      "P value is  7.140213948570997e-18 Thus data is Normal\n"
     ]
    }
   ],
   "source": [
    "stat, p = stats.shapiro(data_1['cholesterol'])\n",
    "if p < 0.05:\n",
    "    print('P value is ',p,'Thus data is Normal')\n",
    "else:\n",
    "    print('P value is ',p,'Thus data is Not Normal')"
   ]
  },
  {
   "cell_type": "raw",
   "id": "b0ab4ef3",
   "metadata": {},
   "source": [
    "Feature Wise EDA"
   ]
  },
  {
   "cell_type": "code",
   "execution_count": null,
   "id": "bf26f5b5",
   "metadata": {},
   "outputs": [],
   "source": [
    "#AGE"
   ]
  },
  {
   "cell_type": "code",
   "execution_count": 36,
   "id": "0c961ea8",
   "metadata": {},
   "outputs": [],
   "source": [
    "df1=data_1[data_1[\"age\"]>50]\n",
    "df2=data_1[data_1[\"age\"]<50]"
   ]
  },
  {
   "cell_type": "code",
   "execution_count": 37,
   "id": "cafe08e5",
   "metadata": {},
   "outputs": [
    {
     "data": {
      "text/plain": [
       "<AxesSubplot:ylabel='prognosis_N'>"
      ]
     },
     "execution_count": 37,
     "metadata": {},
     "output_type": "execute_result"
    },
    {
     "data": {
      "image/png": "[encoded data removed]",
      "text/plain": [
       "<Figure size 540x252 with 1 Axes>"
      ]
     },
     "metadata": {},
     "output_type": "display_data"
    }
   ],
   "source": [
    "df1['prognosis_N'].value_counts().plot(kind=\"pie\",shadow=True,autopct='%1.1f%%')"
   ]
  },
  {
   "cell_type": "code",
   "execution_count": 38,
   "id": "129f8df3",
   "metadata": {},
   "outputs": [
    {
     "data": {
      "text/plain": [
       "<AxesSubplot:ylabel='prognosis_N'>"
      ]
     },
     "execution_count": 38,
     "metadata": {},
     "output_type": "execute_result"
    },
    {
     "data": {
      "image/png": "[encoded data removed]",
      "text/plain": [
       "<Figure size 540x252 with 1 Axes>"
      ]
     },
     "metadata": {},
     "output_type": "display_data"
    }
   ],
   "source": [
    "df2['prognosis_N'].value_counts().plot(kind=\"pie\",shadow=True,autopct='%1.1f%%')"
   ]
  },
  {
   "cell_type": "code",
   "execution_count": null,
   "id": "f8a79c0a",
   "metadata": {},
   "outputs": [],
   "source": [
    "#systolic_bp"
   ]
  },
  {
   "cell_type": "code",
   "execution_count": 39,
   "id": "75e3e6b0",
   "metadata": {},
   "outputs": [],
   "source": [
    "df1=data_1[data_1[\"systolic_bp\"]>120]\n",
    "df2=data_1[data_1[\"systolic_bp\"]<120]"
   ]
  },
  {
   "cell_type": "code",
   "execution_count": 40,
   "id": "7ae62f80",
   "metadata": {},
   "outputs": [
    {
     "data": {
      "text/plain": [
       "<AxesSubplot:ylabel='prognosis_N'>"
      ]
     },
     "execution_count": 40,
     "metadata": {},
     "output_type": "execute_result"
    },
    {
     "data": {
      "image/png": "[encoded data removed]",
      "text/plain": [
       "<Figure size 540x252 with 1 Axes>"
      ]
     },
     "metadata": {},
     "output_type": "display_data"
    }
   ],
   "source": [
    "df1['prognosis_N'].value_counts().plot(kind=\"pie\",shadow=True,autopct='%1.1f%%')"
   ]
  },
  {
   "cell_type": "code",
   "execution_count": 41,
   "id": "11fc61bf",
   "metadata": {},
   "outputs": [
    {
     "data": {
      "text/plain": [
       "<AxesSubplot:ylabel='prognosis_N'>"
      ]
     },
     "execution_count": 41,
     "metadata": {},
     "output_type": "execute_result"
    },
    {
     "data": {
      "image/png": "[encoded data removed]",
      "text/plain": [
       "<Figure size 540x252 with 1 Axes>"
      ]
     },
     "metadata": {},
     "output_type": "display_data"
    }
   ],
   "source": [
    "df2['prognosis_N'].value_counts().plot(kind=\"pie\",shadow=True,autopct='%1.1f%%')"
   ]
  },
  {
   "cell_type": "code",
   "execution_count": null,
   "id": "73299eae",
   "metadata": {},
   "outputs": [],
   "source": [
    "#diastolic_bp"
   ]
  },
  {
   "cell_type": "code",
   "execution_count": 43,
   "id": "81bf1e00",
   "metadata": {},
   "outputs": [],
   "source": [
    "df1=data_1[data_1[\"diastolic_bp\"]>80]\n",
    "df2=data_1[data_1[\"diastolic_bp\"]<80]"
   ]
  },
  {
   "cell_type": "code",
   "execution_count": 44,
   "id": "122fa2b6",
   "metadata": {},
   "outputs": [
    {
     "data": {
      "text/plain": [
       "<AxesSubplot:ylabel='prognosis_N'>"
      ]
     },
     "execution_count": 44,
     "metadata": {},
     "output_type": "execute_result"
    },
    {
     "data": {
      "image/png": "[encoded data removed]",
      "text/plain": [
       "<Figure size 540x252 with 1 Axes>"
      ]
     },
     "metadata": {},
     "output_type": "display_data"
    }
   ],
   "source": [
    "df1['prognosis_N'].value_counts().plot(kind=\"pie\",shadow=True,autopct='%1.1f%%')"
   ]
  },
  {
   "cell_type": "code",
   "execution_count": 45,
   "id": "f05b0086",
   "metadata": {},
   "outputs": [
    {
     "data": {
      "text/plain": [
       "<AxesSubplot:ylabel='prognosis_N'>"
      ]
     },
     "execution_count": 45,
     "metadata": {},
     "output_type": "execute_result"
    },
    {
     "data": {
      "image/png": "[encoded data removed]",
      "text/plain": [
       "<Figure size 540x252 with 1 Axes>"
      ]
     },
     "metadata": {},
     "output_type": "display_data"
    }
   ],
   "source": [
    "df2['prognosis_N'].value_counts().plot(kind=\"pie\",shadow=True,autopct='%1.1f%%')"
   ]
  },
  {
   "cell_type": "code",
   "execution_count": null,
   "id": "4224e9f7",
   "metadata": {},
   "outputs": [],
   "source": [
    "#Cholesterol"
   ]
  },
  {
   "cell_type": "code",
   "execution_count": 47,
   "id": "703687a8",
   "metadata": {},
   "outputs": [],
   "source": [
    "df1=data_1[(data_1[\"cholesterol\"]>125) & (data_1[\"cholesterol\"]<200)]\n",
    "df2=data_1[data_1[\"cholesterol\"]<125]\n",
    "df3=data_1[data_1[\"cholesterol\"]>200]"
   ]
  },
  {
   "cell_type": "code",
   "execution_count": 48,
   "id": "fc2a4fa1",
   "metadata": {},
   "outputs": [
    {
     "data": {
      "text/plain": [
       "<AxesSubplot:ylabel='prognosis_N'>"
      ]
     },
     "execution_count": 48,
     "metadata": {},
     "output_type": "execute_result"
    },
    {
     "data": {
      "image/png": "[encoded data removed]",
      "text/plain": [
       "<Figure size 540x252 with 1 Axes>"
      ]
     },
     "metadata": {},
     "output_type": "display_data"
    }
   ],
   "source": [
    "df1['prognosis_N'].value_counts().plot(kind=\"pie\",shadow=True,autopct='%1.1f%%')"
   ]
  },
  {
   "cell_type": "code",
   "execution_count": 49,
   "id": "e3a6a0c7",
   "metadata": {},
   "outputs": [
    {
     "data": {
      "text/plain": [
       "<AxesSubplot:ylabel='prognosis_N'>"
      ]
     },
     "execution_count": 49,
     "metadata": {},
     "output_type": "execute_result"
    },
    {
     "data": {
      "image/png": "[encoded data removed]",
      "text/plain": [
       "<Figure size 540x252 with 1 Axes>"
      ]
     },
     "metadata": {},
     "output_type": "display_data"
    }
   ],
   "source": [
    "df2['prognosis_N'].value_counts().plot(kind=\"pie\",shadow=True,autopct='%1.1f%%')"
   ]
  },
  {
   "cell_type": "code",
   "execution_count": 50,
   "id": "7f2005d4",
   "metadata": {},
   "outputs": [
    {
     "data": {
      "text/plain": [
       "<AxesSubplot:ylabel='prognosis_N'>"
      ]
     },
     "execution_count": 50,
     "metadata": {},
     "output_type": "execute_result"
    },
    {
     "data": {
      "image/png": "[encoded data removed]",
      "text/plain": [
       "<Figure size 540x252 with 1 Axes>"
      ]
     },
     "metadata": {},
     "output_type": "display_data"
    }
   ],
   "source": [
    "df3['prognosis_N'].value_counts().plot(kind=\"pie\",shadow=True,autopct='%1.1f%%')"
   ]
  },
  {
   "cell_type": "markdown",
   "id": "a0557ca3",
   "metadata": {},
   "source": [
    "### Doubts - \n",
    "1. is there any validation data ? to decide train - test - validation \n",
    "2. if possible can we use tableau or powerbi to present the reports\n",
    "3. what are different option to deploy the model other than flask ans streamlit"
   ]
  },
  {
   "cell_type": "raw",
   "id": "3325cb49",
   "metadata": {},
   "source": [
    "Classification Models \n",
    "1. Linear Regression\n",
    "2. ANN\n",
    "3. KNN\n",
    "4. Random Forest\n",
    "5. Naive Bayes"
   ]
  },
  {
   "cell_type": "code",
   "execution_count": null,
   "id": "0c390278",
   "metadata": {},
   "outputs": [],
   "source": []
  },
  {
   "cell_type": "raw",
   "id": "96e3cc79",
   "metadata": {},
   "source": [
    "Since Linear Regression Model is parameteric model we must check for following assumptions\n",
    "1. Normality\n",
    "2. Multicollinearity\n",
    "3. Autoregression\n",
    "4. Scale\n",
    "5. Homoscedasticity Check\n",
    "6. Zero Residual Check"
   ]
  },
  {
   "cell_type": "code",
   "execution_count": null,
   "id": "d78d6d04",
   "metadata": {},
   "outputs": [],
   "source": []
  }
 ],
 "metadata": {
  "kernelspec": {
   "display_name": "Python 3 (ipykernel)",
   "language": "python",
   "name": "python3"
  },
  "language_info": {
   "codemirror_mode": {
    "name": "ipython",
    "version": 3
   },
   "file_extension": ".py",
   "mimetype": "text/x-python",
   "name": "python",
   "nbconvert_exporter": "python",
   "pygments_lexer": "ipython3",
   "version": "3.9.7"
  }
 },
 "nbformat": 4,
 "nbformat_minor": 5
}
